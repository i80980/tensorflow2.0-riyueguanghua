{
 "cells": [
  {
   "cell_type": "code",
   "execution_count": 1,
   "metadata": {
    "execution": {
     "iopub.execute_input": "2023-03-17T12:56:41.949856Z",
     "iopub.status.busy": "2023-03-17T12:56:41.949015Z",
     "iopub.status.idle": "2023-03-17T12:56:45.579198Z",
     "shell.execute_reply": "2023-03-17T12:56:45.577756Z",
     "shell.execute_reply.started": "2023-03-17T12:56:41.949807Z"
    }
   },
   "outputs": [],
   "source": [
    "import tensorflow as tf\n",
    "import datetime"
   ]
  },
  {
   "cell_type": "code",
   "execution_count": 2,
   "metadata": {
    "execution": {
     "iopub.execute_input": "2023-03-17T12:56:45.581715Z",
     "iopub.status.busy": "2023-03-17T12:56:45.580948Z",
     "iopub.status.idle": "2023-03-17T12:56:45.590932Z",
     "shell.execute_reply": "2023-03-17T12:56:45.589461Z",
     "shell.execute_reply.started": "2023-03-17T12:56:45.581671Z"
    }
   },
   "outputs": [
    {
     "data": {
      "text/plain": [
       "'2.0.0'"
      ]
     },
     "execution_count": 2,
     "metadata": {},
     "output_type": "execute_result"
    }
   ],
   "source": [
    "tf.__version__"
   ]
  },
  {
   "cell_type": "code",
   "execution_count": 3,
   "metadata": {
    "execution": {
     "iopub.execute_input": "2023-03-17T12:56:45.888995Z",
     "iopub.status.busy": "2023-03-17T12:56:45.888513Z",
     "iopub.status.idle": "2023-03-17T12:56:46.227156Z",
     "shell.execute_reply": "2023-03-17T12:56:46.226055Z",
     "shell.execute_reply.started": "2023-03-17T12:56:45.888946Z"
    }
   },
   "outputs": [],
   "source": [
    "(train_image, train_labels),(test_image, test_labels) = tf.keras.datasets.mnist.load_data()"
   ]
  },
  {
   "cell_type": "code",
   "execution_count": 4,
   "metadata": {
    "execution": {
     "iopub.execute_input": "2023-03-17T12:56:46.229578Z",
     "iopub.status.busy": "2023-03-17T12:56:46.228525Z",
     "iopub.status.idle": "2023-03-17T12:56:46.236140Z",
     "shell.execute_reply": "2023-03-17T12:56:46.235118Z",
     "shell.execute_reply.started": "2023-03-17T12:56:46.229532Z"
    }
   },
   "outputs": [
    {
     "data": {
      "text/plain": [
       "(60000, 28, 28)"
      ]
     },
     "execution_count": 4,
     "metadata": {},
     "output_type": "execute_result"
    }
   ],
   "source": [
    "train_image.shape"
   ]
  },
  {
   "cell_type": "code",
   "execution_count": 5,
   "metadata": {
    "execution": {
     "iopub.execute_input": "2023-03-17T12:56:46.238108Z",
     "iopub.status.busy": "2023-03-17T12:56:46.237422Z",
     "iopub.status.idle": "2023-03-17T12:56:46.247585Z",
     "shell.execute_reply": "2023-03-17T12:56:46.246527Z",
     "shell.execute_reply.started": "2023-03-17T12:56:46.238063Z"
    }
   },
   "outputs": [
    {
     "data": {
      "text/plain": [
       "array([5, 0, 4, ..., 5, 6, 8], dtype=uint8)"
      ]
     },
     "execution_count": 5,
     "metadata": {},
     "output_type": "execute_result"
    }
   ],
   "source": [
    "train_labels"
   ]
  },
  {
   "cell_type": "code",
   "execution_count": 6,
   "metadata": {
    "execution": {
     "iopub.execute_input": "2023-03-17T12:56:46.249384Z",
     "iopub.status.busy": "2023-03-17T12:56:46.249046Z",
     "iopub.status.idle": "2023-03-17T12:56:46.260403Z",
     "shell.execute_reply": "2023-03-17T12:56:46.259109Z",
     "shell.execute_reply.started": "2023-03-17T12:56:46.249353Z"
    }
   },
   "outputs": [
    {
     "data": {
      "text/plain": [
       "(60000, 28, 28)"
      ]
     },
     "execution_count": 6,
     "metadata": {},
     "output_type": "execute_result"
    }
   ],
   "source": [
    "train_image.shape"
   ]
  },
  {
   "cell_type": "code",
   "execution_count": 7,
   "metadata": {
    "execution": {
     "iopub.execute_input": "2023-03-17T12:56:46.263184Z",
     "iopub.status.busy": "2023-03-17T12:56:46.261985Z",
     "iopub.status.idle": "2023-03-17T12:56:46.321067Z",
     "shell.execute_reply": "2023-03-17T12:56:46.319701Z",
     "shell.execute_reply.started": "2023-03-17T12:56:46.263143Z"
    }
   },
   "outputs": [],
   "source": [
    "train_image = tf.expand_dims(train_image,-1)#扩展维度其他方法:1. tf.newx 2. napy里的reshape\n",
    "test_image = tf.expand_dims(test_image,-1)"
   ]
  },
  {
   "cell_type": "code",
   "execution_count": 8,
   "metadata": {
    "execution": {
     "iopub.execute_input": "2023-03-17T12:56:46.323777Z",
     "iopub.status.busy": "2023-03-17T12:56:46.323318Z",
     "iopub.status.idle": "2023-03-17T12:56:46.332158Z",
     "shell.execute_reply": "2023-03-17T12:56:46.331002Z",
     "shell.execute_reply.started": "2023-03-17T12:56:46.323693Z"
    }
   },
   "outputs": [
    {
     "data": {
      "text/plain": [
       "TensorShape([60000, 28, 28, 1])"
      ]
     },
     "execution_count": 8,
     "metadata": {},
     "output_type": "execute_result"
    }
   ],
   "source": [
    "train_image.shape"
   ]
  },
  {
   "cell_type": "code",
   "execution_count": 9,
   "metadata": {
    "execution": {
     "iopub.execute_input": "2023-03-17T12:56:46.334715Z",
     "iopub.status.busy": "2023-03-17T12:56:46.333717Z",
     "iopub.status.idle": "2023-03-17T12:56:46.478645Z",
     "shell.execute_reply": "2023-03-17T12:56:46.477283Z",
     "shell.execute_reply.started": "2023-03-17T12:56:46.334664Z"
    }
   },
   "outputs": [],
   "source": [
    "train_image = tf.cast(train_image/255, tf.float32)#归一化，转换数据类型\n",
    "test_image = tf.cast(test_image/255, tf.float32)"
   ]
  },
  {
   "cell_type": "code",
   "execution_count": 10,
   "metadata": {
    "execution": {
     "iopub.execute_input": "2023-03-17T12:56:46.480484Z",
     "iopub.status.busy": "2023-03-17T12:56:46.480129Z",
     "iopub.status.idle": "2023-03-17T12:56:46.487017Z",
     "shell.execute_reply": "2023-03-17T12:56:46.485615Z",
     "shell.execute_reply.started": "2023-03-17T12:56:46.480450Z"
    }
   },
   "outputs": [],
   "source": [
    "train_labels = tf.cast(train_labels, tf.int64)#转换数据类型\n",
    "test_labels = tf.cast(test_labels, tf.int64)"
   ]
  },
  {
   "cell_type": "code",
   "execution_count": 11,
   "metadata": {
    "execution": {
     "iopub.execute_input": "2023-03-17T12:56:46.490271Z",
     "iopub.status.busy": "2023-03-17T12:56:46.488608Z",
     "iopub.status.idle": "2023-03-17T12:56:46.502907Z",
     "shell.execute_reply": "2023-03-17T12:56:46.501390Z",
     "shell.execute_reply.started": "2023-03-17T12:56:46.490209Z"
    }
   },
   "outputs": [],
   "source": [
    "dataset = tf.data.Dataset.from_tensor_slices((train_image, train_labels))#扩展维度"
   ]
  },
  {
   "cell_type": "code",
   "execution_count": 12,
   "metadata": {},
   "outputs": [],
   "source": [
    "test_dataset = tf.data.Dataset.from_tensor_slices((test_image, test_labels))#扩展维度"
   ]
  },
  {
   "cell_type": "code",
   "execution_count": 13,
   "metadata": {
    "execution": {
     "iopub.execute_input": "2023-03-17T12:56:46.505431Z",
     "iopub.status.busy": "2023-03-17T12:56:46.504905Z",
     "iopub.status.idle": "2023-03-17T12:56:46.513737Z",
     "shell.execute_reply": "2023-03-17T12:56:46.512423Z",
     "shell.execute_reply.started": "2023-03-17T12:56:46.505381Z"
    }
   },
   "outputs": [
    {
     "data": {
      "text/plain": [
       "<TensorSliceDataset shapes: ((28, 28, 1), ()), types: (tf.float32, tf.int64)>"
      ]
     },
     "execution_count": 13,
     "metadata": {},
     "output_type": "execute_result"
    }
   ],
   "source": [
    "dataset"
   ]
  },
  {
   "cell_type": "code",
   "execution_count": 14,
   "metadata": {
    "execution": {
     "iopub.execute_input": "2023-03-17T12:56:46.516327Z",
     "iopub.status.busy": "2023-03-17T12:56:46.515648Z",
     "iopub.status.idle": "2023-03-17T12:56:46.530981Z",
     "shell.execute_reply": "2023-03-17T12:56:46.529424Z",
     "shell.execute_reply.started": "2023-03-17T12:56:46.516274Z"
    }
   },
   "outputs": [],
   "source": [
    "dataset = dataset.repeat().shuffle(10000).batch(128) #crossfit方法需要重复repeat，自定义循环不需要repeat\n",
    "test_dataset = test_dataset.repeat().batch(128)"
   ]
  },
  {
   "cell_type": "code",
   "execution_count": 15,
   "metadata": {
    "execution": {
     "iopub.execute_input": "2023-03-17T12:56:46.533112Z",
     "iopub.status.busy": "2023-03-17T12:56:46.532374Z",
     "iopub.status.idle": "2023-03-17T12:56:46.539176Z",
     "shell.execute_reply": "2023-03-17T12:56:46.538094Z",
     "shell.execute_reply.started": "2023-03-17T12:56:46.533074Z"
    }
   },
   "outputs": [
    {
     "data": {
      "text/plain": [
       "<BatchDataset shapes: ((None, 28, 28, 1), (None,)), types: (tf.float32, tf.int64)>"
      ]
     },
     "execution_count": 15,
     "metadata": {},
     "output_type": "execute_result"
    }
   ],
   "source": [
    "dataset"
   ]
  },
  {
   "cell_type": "code",
   "execution_count": 16,
   "metadata": {
    "execution": {
     "iopub.execute_input": "2023-03-17T12:56:46.552193Z",
     "iopub.status.busy": "2023-03-17T12:56:46.551653Z",
     "iopub.status.idle": "2023-03-17T12:56:46.637778Z",
     "shell.execute_reply": "2023-03-17T12:56:46.636527Z",
     "shell.execute_reply.started": "2023-03-17T12:56:46.552160Z"
    }
   },
   "outputs": [],
   "source": [
    "model = tf.keras.Sequential([\n",
    "    tf.keras.layers.Conv2D(16, [3,3],activation='relu',input_shape=(None,None,1)),\n",
    "    tf.keras.layers.Conv2D(32,[3,3], activation='relu'),\n",
    "    tf.keras.layers.GlobalMaxPooling2D(),#全局平均池化\n",
    "    tf.keras.layers.Dense(10, activation='softmax')\n",
    "])"
   ]
  },
  {
   "cell_type": "code",
   "execution_count": 17,
   "metadata": {},
   "outputs": [],
   "source": [
    "model.compile(optimizer='adam',\n",
    "             loss='sparse_categorical_crossentropy',\n",
    "             metrics=['accuracy'])"
   ]
  },
  {
   "cell_type": "code",
   "execution_count": 18,
   "metadata": {},
   "outputs": [],
   "source": [
    "import os\n",
    "log_dir = os.path.join('logs', datetime.datetime.now().strftime(\"%Y%m%d-%H%M%S\")) #日志目录添加时间"
   ]
  },
  {
   "cell_type": "code",
   "execution_count": 19,
   "metadata": {},
   "outputs": [],
   "source": [
    "tensorboard_callback = tf.keras.callbacks.TensorBoard(log_dir, histogram_freq=1)  #histogram_freq参数是直方图，记录参数变量的ping率"
   ]
  },
  {
   "cell_type": "code",
   "execution_count": 20,
   "metadata": {},
   "outputs": [],
   "source": [
    "file_writer = tf.summary.create_file_writer(log_dir + '/lr') #文件编写器"
   ]
  },
  {
   "cell_type": "code",
   "execution_count": 21,
   "metadata": {},
   "outputs": [],
   "source": [
    "file_writer.set_as_default() #设为默认文件编写器"
   ]
  },
  {
   "cell_type": "code",
   "execution_count": 22,
   "metadata": {},
   "outputs": [],
   "source": [
    "def lr_sche(epoch):\n",
    "    learning_rate = 0.2\n",
    "    if epoch > 5:\n",
    "        learning_rate = 0.02\n",
    "    if epoch > 10:\n",
    "        learning_rate = 0.01\n",
    "    if epoch > 20:\n",
    "        learning_rate = 0.005\n",
    "    tf.summary.scalar('leaning_rate',data=learning_rate, step=epoch)\n",
    "    return learning_rate        "
   ]
  },
  {
   "cell_type": "code",
   "execution_count": 23,
   "metadata": {},
   "outputs": [],
   "source": [
    "lr_callback = tf.keras.callbacks.LearningRateScheduler(lr_sche)"
   ]
  },
  {
   "cell_type": "code",
   "execution_count": 24,
   "metadata": {},
   "outputs": [
    {
     "name": "stdout",
     "output_type": "stream",
     "text": [
      "Train for 468 steps, validate for 7 steps\n",
      "Epoch 1/25\n",
      "468/468 [==============================] - 21s 44ms/step - loss: 2.3513 - accuracy: 0.1043 - val_loss: 2.3275 - val_accuracy: 0.0993\n",
      "Epoch 2/25\n",
      "468/468 [==============================] - 19s 40ms/step - loss: 2.3136 - accuracy: 0.1027 - val_loss: 2.3062 - val_accuracy: 0.0993\n",
      "Epoch 3/25\n",
      "468/468 [==============================] - 19s 41ms/step - loss: 2.3120 - accuracy: 0.1054 - val_loss: 2.3119 - val_accuracy: 0.1105\n",
      "Epoch 4/25\n",
      "468/468 [==============================] - 19s 41ms/step - loss: 2.3140 - accuracy: 0.1038 - val_loss: 2.3066 - val_accuracy: 0.0859\n",
      "Epoch 5/25\n",
      "468/468 [==============================] - 19s 41ms/step - loss: 2.3134 - accuracy: 0.1018 - val_loss: 2.3185 - val_accuracy: 0.0993\n",
      "Epoch 6/25\n",
      "468/468 [==============================] - 19s 41ms/step - loss: 2.3131 - accuracy: 0.1028 - val_loss: 2.3029 - val_accuracy: 0.1228\n",
      "Epoch 7/25\n",
      "468/468 [==============================] - 20s 42ms/step - loss: 2.3027 - accuracy: 0.1105 - val_loss: 2.3025 - val_accuracy: 0.0859\n",
      "Epoch 8/25\n",
      "468/468 [==============================] - 19s 42ms/step - loss: 2.3023 - accuracy: 0.1093 - val_loss: 2.3018 - val_accuracy: 0.1228\n",
      "Epoch 9/25\n",
      "468/468 [==============================] - 20s 42ms/step - loss: 2.3025 - accuracy: 0.1096 - val_loss: 2.3001 - val_accuracy: 0.1228\n",
      "Epoch 10/25\n",
      "468/468 [==============================] - 20s 42ms/step - loss: 2.3025 - accuracy: 0.1088 - val_loss: 2.3012 - val_accuracy: 0.1228\n",
      "Epoch 11/25\n",
      "468/468 [==============================] - 20s 42ms/step - loss: 2.3025 - accuracy: 0.1112 - val_loss: 2.3015 - val_accuracy: 0.0993\n",
      "Epoch 12/25\n",
      "468/468 [==============================] - 19s 41ms/step - loss: 2.3019 - accuracy: 0.1110 - val_loss: 2.3004 - val_accuracy: 0.0993\n",
      "Epoch 13/25\n",
      "468/468 [==============================] - 19s 41ms/step - loss: 2.3018 - accuracy: 0.1112 - val_loss: 2.3010 - val_accuracy: 0.0993\n",
      "Epoch 14/25\n",
      "468/468 [==============================] - 20s 42ms/step - loss: 2.3019 - accuracy: 0.1115 - val_loss: 2.3002 - val_accuracy: 0.1228\n",
      "Epoch 15/25\n",
      "468/468 [==============================] - 19s 41ms/step - loss: 2.3018 - accuracy: 0.1113 - val_loss: 2.3003 - val_accuracy: 0.1228\n",
      "Epoch 16/25\n",
      "468/468 [==============================] - 19s 41ms/step - loss: 2.3018 - accuracy: 0.1113 - val_loss: 2.3014 - val_accuracy: 0.0993\n",
      "Epoch 17/25\n",
      "468/468 [==============================] - 19s 41ms/step - loss: 2.3020 - accuracy: 0.1116 - val_loss: 2.2996 - val_accuracy: 0.0993\n",
      "Epoch 18/25\n",
      "468/468 [==============================] - 19s 41ms/step - loss: 2.3018 - accuracy: 0.1111 - val_loss: 2.3008 - val_accuracy: 0.1228\n",
      "Epoch 19/25\n",
      "468/468 [==============================] - 19s 41ms/step - loss: 2.3018 - accuracy: 0.1113 - val_loss: 2.3002 - val_accuracy: 0.1228\n",
      "Epoch 20/25\n",
      "468/468 [==============================] - 19s 41ms/step - loss: 2.3019 - accuracy: 0.1114 - val_loss: 2.3011 - val_accuracy: 0.0993\n",
      "Epoch 21/25\n",
      "468/468 [==============================] - 19s 41ms/step - loss: 2.3018 - accuracy: 0.1102 - val_loss: 2.3013 - val_accuracy: 0.1228\n",
      "Epoch 22/25\n",
      "468/468 [==============================] - 19s 41ms/step - loss: 2.3017 - accuracy: 0.1124 - val_loss: 2.3001 - val_accuracy: 0.1228\n",
      "Epoch 23/25\n",
      "468/468 [==============================] - 19s 40ms/step - loss: 2.3016 - accuracy: 0.1123 - val_loss: 2.2990 - val_accuracy: 0.1228\n",
      "Epoch 24/25\n",
      "468/468 [==============================] - 19s 41ms/step - loss: 2.3016 - accuracy: 0.1116 - val_loss: 2.3011 - val_accuracy: 0.0993\n",
      "Epoch 25/25\n",
      "468/468 [==============================] - 19s 41ms/step - loss: 2.3014 - accuracy: 0.1125 - val_loss: 2.2998 - val_accuracy: 0.0993\n"
     ]
    },
    {
     "data": {
      "text/plain": [
       "<tensorflow.python.keras.callbacks.History at 0x252e87c7748>"
      ]
     },
     "execution_count": 24,
     "metadata": {},
     "output_type": "execute_result"
    }
   ],
   "source": [
    "model.fit(dataset,\n",
    "         epochs=25,\n",
    "         steps_per_epoch=60000//128,\n",
    "         validation_data=test_dataset,\n",
    "         validation_steps=1000//128,\n",
    "          callbacks=[tensorboard_callback, lr_callback] #回调函数\n",
    "         )"
   ]
  },
  {
   "cell_type": "code",
   "execution_count": 25,
   "metadata": {},
   "outputs": [],
   "source": [
    "#8.2 "
   ]
  },
  {
   "cell_type": "code",
   "execution_count": 26,
   "metadata": {},
   "outputs": [],
   "source": [
    "#显示在notebook中"
   ]
  },
  {
   "cell_type": "code",
   "execution_count": 27,
   "metadata": {},
   "outputs": [],
   "source": [
    "%load_ext tensorboard\n",
    "%matplotlib inline"
   ]
  },
  {
   "cell_type": "code",
   "execution_count": 31,
   "metadata": {},
   "outputs": [
    {
     "data": {
      "text/plain": [
       "Reusing TensorBoard on port 6006 (pid 3784), started 18:25:48 ago. (Use '!kill 3784' to kill it.)"
      ]
     },
     "metadata": {},
     "output_type": "display_data"
    },
    {
     "data": {
      "text/html": [
       "\n",
       "      <iframe id=\"tensorboard-frame-e5a254014f990b14\" width=\"100%\" height=\"800\" frameborder=\"0\">\n",
       "      </iframe>\n",
       "      <script>\n",
       "        (function() {\n",
       "          const frame = document.getElementById(\"tensorboard-frame-e5a254014f990b14\");\n",
       "          const url = new URL(\"/\", window.location);\n",
       "          const port = 6006;\n",
       "          if (port) {\n",
       "            url.port = port;\n",
       "          }\n",
       "          frame.src = url;\n",
       "        })();\n",
       "      </script>\n",
       "    "
      ],
      "text/plain": [
       "<IPython.core.display.HTML object>"
      ]
     },
     "metadata": {},
     "output_type": "display_data"
    }
   ],
   "source": [
    "%tensorboard --logdir logs"
   ]
  },
  {
   "cell_type": "code",
   "execution_count": 29,
   "metadata": {},
   "outputs": [],
   "source": [
    "# cmd 进入命令窗口输入 tensorboard --logdir logs"
   ]
  },
  {
   "cell_type": "code",
   "execution_count": 30,
   "metadata": {},
   "outputs": [],
   "source": [
    "#8.4"
   ]
  },
  {
   "cell_type": "code",
   "execution_count": null,
   "metadata": {},
   "outputs": [],
   "source": []
  },
  {
   "cell_type": "code",
   "execution_count": null,
   "metadata": {},
   "outputs": [],
   "source": []
  },
  {
   "cell_type": "code",
   "execution_count": null,
   "metadata": {},
   "outputs": [],
   "source": []
  },
  {
   "cell_type": "code",
   "execution_count": null,
   "metadata": {},
   "outputs": [],
   "source": []
  }
 ],
 "metadata": {
  "kernelspec": {
   "display_name": "Python 3 (ipykernel)",
   "language": "python",
   "name": "python3"
  },
  "language_info": {
   "codemirror_mode": {
    "name": "ipython",
    "version": 3
   },
   "file_extension": ".py",
   "mimetype": "text/x-python",
   "name": "python",
   "nbconvert_exporter": "python",
   "pygments_lexer": "ipython3",
   "version": "3.7.16"
  }
 },
 "nbformat": 4,
 "nbformat_minor": 4
}
