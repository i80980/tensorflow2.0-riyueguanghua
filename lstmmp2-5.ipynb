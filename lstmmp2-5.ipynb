{
 "cells": [
  {
   "cell_type": "code",
   "execution_count": 1,
   "id": "70a5434e",
   "metadata": {
    "execution": {
     "iopub.execute_input": "2023-04-08T15:31:55.864293Z",
     "iopub.status.busy": "2023-04-08T15:31:55.863611Z",
     "iopub.status.idle": "2023-04-08T15:32:04.209399Z",
     "shell.execute_reply": "2023-04-08T15:32:04.208111Z",
     "shell.execute_reply.started": "2023-04-08T15:31:55.864235Z"
    }
   },
   "outputs": [],
   "source": [
    "import tensorflow as tf\n",
    "from tensorflow import keras\n",
    "from tensorflow.keras import layers\n",
    "import pandas as pd\n",
    "import numpy as np\n",
    "import matplotlib.pyplot as plt\n",
    "%matplotlib inline"
   ]
  },
  {
   "cell_type": "code",
   "execution_count": 2,
   "id": "76450f2b",
   "metadata": {
    "execution": {
     "iopub.execute_input": "2023-04-08T15:32:04.212500Z",
     "iopub.status.busy": "2023-04-08T15:32:04.211653Z",
     "iopub.status.idle": "2023-04-08T15:32:04.297731Z",
     "shell.execute_reply": "2023-04-08T15:32:04.296706Z",
     "shell.execute_reply.started": "2023-04-08T15:32:04.212454Z"
    }
   },
   "outputs": [],
   "source": [
    "data = pd.read_csv('./dataset/PRSA_data_2010.1.1-2014.12.31.csv')"
   ]
  },
  {
   "cell_type": "code",
   "execution_count": 3,
   "id": "0b419181",
   "metadata": {
    "execution": {
     "iopub.execute_input": "2023-04-08T15:32:04.299623Z",
     "iopub.status.busy": "2023-04-08T15:32:04.299138Z",
     "iopub.status.idle": "2023-04-08T15:32:04.325399Z",
     "shell.execute_reply": "2023-04-08T15:32:04.324270Z",
     "shell.execute_reply.started": "2023-04-08T15:32:04.299584Z"
    }
   },
   "outputs": [
    {
     "data": {
      "text/html": [
       "<div>\n",
       "<style scoped>\n",
       "    .dataframe tbody tr th:only-of-type {\n",
       "        vertical-align: middle;\n",
       "    }\n",
       "\n",
       "    .dataframe tbody tr th {\n",
       "        vertical-align: top;\n",
       "    }\n",
       "\n",
       "    .dataframe thead th {\n",
       "        text-align: right;\n",
       "    }\n",
       "</style>\n",
       "<table border=\"1\" class=\"dataframe\">\n",
       "  <thead>\n",
       "    <tr style=\"text-align: right;\">\n",
       "      <th></th>\n",
       "      <th>No</th>\n",
       "      <th>year</th>\n",
       "      <th>month</th>\n",
       "      <th>day</th>\n",
       "      <th>hour</th>\n",
       "      <th>pm2.5</th>\n",
       "      <th>DEWP</th>\n",
       "      <th>TEMP</th>\n",
       "      <th>PRES</th>\n",
       "      <th>cbwd</th>\n",
       "      <th>Iws</th>\n",
       "      <th>Is</th>\n",
       "      <th>Ir</th>\n",
       "    </tr>\n",
       "  </thead>\n",
       "  <tbody>\n",
       "    <tr>\n",
       "      <th>0</th>\n",
       "      <td>1</td>\n",
       "      <td>2010</td>\n",
       "      <td>1</td>\n",
       "      <td>1</td>\n",
       "      <td>0</td>\n",
       "      <td>NaN</td>\n",
       "      <td>-21</td>\n",
       "      <td>-11.0</td>\n",
       "      <td>1021.0</td>\n",
       "      <td>NW</td>\n",
       "      <td>1.79</td>\n",
       "      <td>0</td>\n",
       "      <td>0</td>\n",
       "    </tr>\n",
       "    <tr>\n",
       "      <th>1</th>\n",
       "      <td>2</td>\n",
       "      <td>2010</td>\n",
       "      <td>1</td>\n",
       "      <td>1</td>\n",
       "      <td>1</td>\n",
       "      <td>NaN</td>\n",
       "      <td>-21</td>\n",
       "      <td>-12.0</td>\n",
       "      <td>1020.0</td>\n",
       "      <td>NW</td>\n",
       "      <td>4.92</td>\n",
       "      <td>0</td>\n",
       "      <td>0</td>\n",
       "    </tr>\n",
       "    <tr>\n",
       "      <th>2</th>\n",
       "      <td>3</td>\n",
       "      <td>2010</td>\n",
       "      <td>1</td>\n",
       "      <td>1</td>\n",
       "      <td>2</td>\n",
       "      <td>NaN</td>\n",
       "      <td>-21</td>\n",
       "      <td>-11.0</td>\n",
       "      <td>1019.0</td>\n",
       "      <td>NW</td>\n",
       "      <td>6.71</td>\n",
       "      <td>0</td>\n",
       "      <td>0</td>\n",
       "    </tr>\n",
       "    <tr>\n",
       "      <th>3</th>\n",
       "      <td>4</td>\n",
       "      <td>2010</td>\n",
       "      <td>1</td>\n",
       "      <td>1</td>\n",
       "      <td>3</td>\n",
       "      <td>NaN</td>\n",
       "      <td>-21</td>\n",
       "      <td>-14.0</td>\n",
       "      <td>1019.0</td>\n",
       "      <td>NW</td>\n",
       "      <td>9.84</td>\n",
       "      <td>0</td>\n",
       "      <td>0</td>\n",
       "    </tr>\n",
       "    <tr>\n",
       "      <th>4</th>\n",
       "      <td>5</td>\n",
       "      <td>2010</td>\n",
       "      <td>1</td>\n",
       "      <td>1</td>\n",
       "      <td>4</td>\n",
       "      <td>NaN</td>\n",
       "      <td>-20</td>\n",
       "      <td>-12.0</td>\n",
       "      <td>1018.0</td>\n",
       "      <td>NW</td>\n",
       "      <td>12.97</td>\n",
       "      <td>0</td>\n",
       "      <td>0</td>\n",
       "    </tr>\n",
       "  </tbody>\n",
       "</table>\n",
       "</div>"
      ],
      "text/plain": [
       "   No  year  month  day  hour  pm2.5  DEWP  TEMP    PRES cbwd    Iws  Is  Ir\n",
       "0   1  2010      1    1     0    NaN   -21 -11.0  1021.0   NW   1.79   0   0\n",
       "1   2  2010      1    1     1    NaN   -21 -12.0  1020.0   NW   4.92   0   0\n",
       "2   3  2010      1    1     2    NaN   -21 -11.0  1019.0   NW   6.71   0   0\n",
       "3   4  2010      1    1     3    NaN   -21 -14.0  1019.0   NW   9.84   0   0\n",
       "4   5  2010      1    1     4    NaN   -20 -12.0  1018.0   NW  12.97   0   0"
      ]
     },
     "execution_count": 3,
     "metadata": {},
     "output_type": "execute_result"
    }
   ],
   "source": [
    "data.head()"
   ]
  },
  {
   "cell_type": "code",
   "execution_count": 4,
   "id": "627269f6",
   "metadata": {
    "execution": {
     "iopub.execute_input": "2023-04-08T15:32:04.329116Z",
     "iopub.status.busy": "2023-04-08T15:32:04.328669Z",
     "iopub.status.idle": "2023-04-08T15:32:04.358245Z",
     "shell.execute_reply": "2023-04-08T15:32:04.357000Z",
     "shell.execute_reply.started": "2023-04-08T15:32:04.329060Z"
    }
   },
   "outputs": [
    {
     "name": "stdout",
     "output_type": "stream",
     "text": [
      "<class 'pandas.core.frame.DataFrame'>\n",
      "RangeIndex: 43824 entries, 0 to 43823\n",
      "Data columns (total 13 columns):\n",
      " #   Column  Non-Null Count  Dtype  \n",
      "---  ------  --------------  -----  \n",
      " 0   No      43824 non-null  int64  \n",
      " 1   year    43824 non-null  int64  \n",
      " 2   month   43824 non-null  int64  \n",
      " 3   day     43824 non-null  int64  \n",
      " 4   hour    43824 non-null  int64  \n",
      " 5   pm2.5   41757 non-null  float64\n",
      " 6   DEWP    43824 non-null  int64  \n",
      " 7   TEMP    43824 non-null  float64\n",
      " 8   PRES    43824 non-null  float64\n",
      " 9   cbwd    43824 non-null  object \n",
      " 10  Iws     43824 non-null  float64\n",
      " 11  Is      43824 non-null  int64  \n",
      " 12  Ir      43824 non-null  int64  \n",
      "dtypes: float64(4), int64(8), object(1)\n",
      "memory usage: 4.3+ MB\n"
     ]
    }
   ],
   "source": [
    "data.info()"
   ]
  },
  {
   "cell_type": "code",
   "execution_count": 5,
   "id": "46e065de",
   "metadata": {
    "execution": {
     "iopub.execute_input": "2023-04-08T15:32:04.360171Z",
     "iopub.status.busy": "2023-04-08T15:32:04.359706Z",
     "iopub.status.idle": "2023-04-08T15:32:04.378299Z",
     "shell.execute_reply": "2023-04-08T15:32:04.376980Z",
     "shell.execute_reply.started": "2023-04-08T15:32:04.360130Z"
    }
   },
   "outputs": [
    {
     "data": {
      "text/html": [
       "<div>\n",
       "<style scoped>\n",
       "    .dataframe tbody tr th:only-of-type {\n",
       "        vertical-align: middle;\n",
       "    }\n",
       "\n",
       "    .dataframe tbody tr th {\n",
       "        vertical-align: top;\n",
       "    }\n",
       "\n",
       "    .dataframe thead th {\n",
       "        text-align: right;\n",
       "    }\n",
       "</style>\n",
       "<table border=\"1\" class=\"dataframe\">\n",
       "  <thead>\n",
       "    <tr style=\"text-align: right;\">\n",
       "      <th></th>\n",
       "      <th>No</th>\n",
       "      <th>year</th>\n",
       "      <th>month</th>\n",
       "      <th>day</th>\n",
       "      <th>hour</th>\n",
       "      <th>pm2.5</th>\n",
       "      <th>DEWP</th>\n",
       "      <th>TEMP</th>\n",
       "      <th>PRES</th>\n",
       "      <th>cbwd</th>\n",
       "      <th>Iws</th>\n",
       "      <th>Is</th>\n",
       "      <th>Ir</th>\n",
       "    </tr>\n",
       "  </thead>\n",
       "  <tbody>\n",
       "    <tr>\n",
       "      <th>43819</th>\n",
       "      <td>43820</td>\n",
       "      <td>2014</td>\n",
       "      <td>12</td>\n",
       "      <td>31</td>\n",
       "      <td>19</td>\n",
       "      <td>8.0</td>\n",
       "      <td>-23</td>\n",
       "      <td>-2.0</td>\n",
       "      <td>1034.0</td>\n",
       "      <td>NW</td>\n",
       "      <td>231.97</td>\n",
       "      <td>0</td>\n",
       "      <td>0</td>\n",
       "    </tr>\n",
       "    <tr>\n",
       "      <th>43820</th>\n",
       "      <td>43821</td>\n",
       "      <td>2014</td>\n",
       "      <td>12</td>\n",
       "      <td>31</td>\n",
       "      <td>20</td>\n",
       "      <td>10.0</td>\n",
       "      <td>-22</td>\n",
       "      <td>-3.0</td>\n",
       "      <td>1034.0</td>\n",
       "      <td>NW</td>\n",
       "      <td>237.78</td>\n",
       "      <td>0</td>\n",
       "      <td>0</td>\n",
       "    </tr>\n",
       "    <tr>\n",
       "      <th>43821</th>\n",
       "      <td>43822</td>\n",
       "      <td>2014</td>\n",
       "      <td>12</td>\n",
       "      <td>31</td>\n",
       "      <td>21</td>\n",
       "      <td>10.0</td>\n",
       "      <td>-22</td>\n",
       "      <td>-3.0</td>\n",
       "      <td>1034.0</td>\n",
       "      <td>NW</td>\n",
       "      <td>242.70</td>\n",
       "      <td>0</td>\n",
       "      <td>0</td>\n",
       "    </tr>\n",
       "    <tr>\n",
       "      <th>43822</th>\n",
       "      <td>43823</td>\n",
       "      <td>2014</td>\n",
       "      <td>12</td>\n",
       "      <td>31</td>\n",
       "      <td>22</td>\n",
       "      <td>8.0</td>\n",
       "      <td>-22</td>\n",
       "      <td>-4.0</td>\n",
       "      <td>1034.0</td>\n",
       "      <td>NW</td>\n",
       "      <td>246.72</td>\n",
       "      <td>0</td>\n",
       "      <td>0</td>\n",
       "    </tr>\n",
       "    <tr>\n",
       "      <th>43823</th>\n",
       "      <td>43824</td>\n",
       "      <td>2014</td>\n",
       "      <td>12</td>\n",
       "      <td>31</td>\n",
       "      <td>23</td>\n",
       "      <td>12.0</td>\n",
       "      <td>-21</td>\n",
       "      <td>-3.0</td>\n",
       "      <td>1034.0</td>\n",
       "      <td>NW</td>\n",
       "      <td>249.85</td>\n",
       "      <td>0</td>\n",
       "      <td>0</td>\n",
       "    </tr>\n",
       "  </tbody>\n",
       "</table>\n",
       "</div>"
      ],
      "text/plain": [
       "          No  year  month  day  hour  pm2.5  DEWP  TEMP    PRES cbwd     Iws  \\\n",
       "43819  43820  2014     12   31    19    8.0   -23  -2.0  1034.0   NW  231.97   \n",
       "43820  43821  2014     12   31    20   10.0   -22  -3.0  1034.0   NW  237.78   \n",
       "43821  43822  2014     12   31    21   10.0   -22  -3.0  1034.0   NW  242.70   \n",
       "43822  43823  2014     12   31    22    8.0   -22  -4.0  1034.0   NW  246.72   \n",
       "43823  43824  2014     12   31    23   12.0   -21  -3.0  1034.0   NW  249.85   \n",
       "\n",
       "       Is  Ir  \n",
       "43819   0   0  \n",
       "43820   0   0  \n",
       "43821   0   0  \n",
       "43822   0   0  \n",
       "43823   0   0  "
      ]
     },
     "execution_count": 5,
     "metadata": {},
     "output_type": "execute_result"
    }
   ],
   "source": [
    "data.tail()"
   ]
  },
  {
   "cell_type": "code",
   "execution_count": 6,
   "id": "98010e47",
   "metadata": {
    "execution": {
     "iopub.execute_input": "2023-04-08T15:32:04.381073Z",
     "iopub.status.busy": "2023-04-08T15:32:04.380272Z",
     "iopub.status.idle": "2023-04-08T15:32:04.406357Z",
     "shell.execute_reply": "2023-04-08T15:32:04.404808Z",
     "shell.execute_reply.started": "2023-04-08T15:32:04.381034Z"
    }
   },
   "outputs": [
    {
     "data": {
      "text/html": [
       "<div>\n",
       "<style scoped>\n",
       "    .dataframe tbody tr th:only-of-type {\n",
       "        vertical-align: middle;\n",
       "    }\n",
       "\n",
       "    .dataframe tbody tr th {\n",
       "        vertical-align: top;\n",
       "    }\n",
       "\n",
       "    .dataframe thead th {\n",
       "        text-align: right;\n",
       "    }\n",
       "</style>\n",
       "<table border=\"1\" class=\"dataframe\">\n",
       "  <thead>\n",
       "    <tr style=\"text-align: right;\">\n",
       "      <th></th>\n",
       "      <th>No</th>\n",
       "      <th>year</th>\n",
       "      <th>month</th>\n",
       "      <th>day</th>\n",
       "      <th>hour</th>\n",
       "      <th>pm2.5</th>\n",
       "      <th>DEWP</th>\n",
       "      <th>TEMP</th>\n",
       "      <th>PRES</th>\n",
       "      <th>cbwd</th>\n",
       "      <th>Iws</th>\n",
       "      <th>Is</th>\n",
       "      <th>Ir</th>\n",
       "    </tr>\n",
       "  </thead>\n",
       "  <tbody>\n",
       "    <tr>\n",
       "      <th>0</th>\n",
       "      <td>1</td>\n",
       "      <td>2010</td>\n",
       "      <td>1</td>\n",
       "      <td>1</td>\n",
       "      <td>0</td>\n",
       "      <td>NaN</td>\n",
       "      <td>-21</td>\n",
       "      <td>-11.0</td>\n",
       "      <td>1021.0</td>\n",
       "      <td>NW</td>\n",
       "      <td>1.79</td>\n",
       "      <td>0</td>\n",
       "      <td>0</td>\n",
       "    </tr>\n",
       "    <tr>\n",
       "      <th>1</th>\n",
       "      <td>2</td>\n",
       "      <td>2010</td>\n",
       "      <td>1</td>\n",
       "      <td>1</td>\n",
       "      <td>1</td>\n",
       "      <td>NaN</td>\n",
       "      <td>-21</td>\n",
       "      <td>-12.0</td>\n",
       "      <td>1020.0</td>\n",
       "      <td>NW</td>\n",
       "      <td>4.92</td>\n",
       "      <td>0</td>\n",
       "      <td>0</td>\n",
       "    </tr>\n",
       "    <tr>\n",
       "      <th>2</th>\n",
       "      <td>3</td>\n",
       "      <td>2010</td>\n",
       "      <td>1</td>\n",
       "      <td>1</td>\n",
       "      <td>2</td>\n",
       "      <td>NaN</td>\n",
       "      <td>-21</td>\n",
       "      <td>-11.0</td>\n",
       "      <td>1019.0</td>\n",
       "      <td>NW</td>\n",
       "      <td>6.71</td>\n",
       "      <td>0</td>\n",
       "      <td>0</td>\n",
       "    </tr>\n",
       "    <tr>\n",
       "      <th>3</th>\n",
       "      <td>4</td>\n",
       "      <td>2010</td>\n",
       "      <td>1</td>\n",
       "      <td>1</td>\n",
       "      <td>3</td>\n",
       "      <td>NaN</td>\n",
       "      <td>-21</td>\n",
       "      <td>-14.0</td>\n",
       "      <td>1019.0</td>\n",
       "      <td>NW</td>\n",
       "      <td>9.84</td>\n",
       "      <td>0</td>\n",
       "      <td>0</td>\n",
       "    </tr>\n",
       "    <tr>\n",
       "      <th>4</th>\n",
       "      <td>5</td>\n",
       "      <td>2010</td>\n",
       "      <td>1</td>\n",
       "      <td>1</td>\n",
       "      <td>4</td>\n",
       "      <td>NaN</td>\n",
       "      <td>-20</td>\n",
       "      <td>-12.0</td>\n",
       "      <td>1018.0</td>\n",
       "      <td>NW</td>\n",
       "      <td>12.97</td>\n",
       "      <td>0</td>\n",
       "      <td>0</td>\n",
       "    </tr>\n",
       "    <tr>\n",
       "      <th>...</th>\n",
       "      <td>...</td>\n",
       "      <td>...</td>\n",
       "      <td>...</td>\n",
       "      <td>...</td>\n",
       "      <td>...</td>\n",
       "      <td>...</td>\n",
       "      <td>...</td>\n",
       "      <td>...</td>\n",
       "      <td>...</td>\n",
       "      <td>...</td>\n",
       "      <td>...</td>\n",
       "      <td>...</td>\n",
       "      <td>...</td>\n",
       "    </tr>\n",
       "    <tr>\n",
       "      <th>43819</th>\n",
       "      <td>43820</td>\n",
       "      <td>2014</td>\n",
       "      <td>12</td>\n",
       "      <td>31</td>\n",
       "      <td>19</td>\n",
       "      <td>8.0</td>\n",
       "      <td>-23</td>\n",
       "      <td>-2.0</td>\n",
       "      <td>1034.0</td>\n",
       "      <td>NW</td>\n",
       "      <td>231.97</td>\n",
       "      <td>0</td>\n",
       "      <td>0</td>\n",
       "    </tr>\n",
       "    <tr>\n",
       "      <th>43820</th>\n",
       "      <td>43821</td>\n",
       "      <td>2014</td>\n",
       "      <td>12</td>\n",
       "      <td>31</td>\n",
       "      <td>20</td>\n",
       "      <td>10.0</td>\n",
       "      <td>-22</td>\n",
       "      <td>-3.0</td>\n",
       "      <td>1034.0</td>\n",
       "      <td>NW</td>\n",
       "      <td>237.78</td>\n",
       "      <td>0</td>\n",
       "      <td>0</td>\n",
       "    </tr>\n",
       "    <tr>\n",
       "      <th>43821</th>\n",
       "      <td>43822</td>\n",
       "      <td>2014</td>\n",
       "      <td>12</td>\n",
       "      <td>31</td>\n",
       "      <td>21</td>\n",
       "      <td>10.0</td>\n",
       "      <td>-22</td>\n",
       "      <td>-3.0</td>\n",
       "      <td>1034.0</td>\n",
       "      <td>NW</td>\n",
       "      <td>242.70</td>\n",
       "      <td>0</td>\n",
       "      <td>0</td>\n",
       "    </tr>\n",
       "    <tr>\n",
       "      <th>43822</th>\n",
       "      <td>43823</td>\n",
       "      <td>2014</td>\n",
       "      <td>12</td>\n",
       "      <td>31</td>\n",
       "      <td>22</td>\n",
       "      <td>8.0</td>\n",
       "      <td>-22</td>\n",
       "      <td>-4.0</td>\n",
       "      <td>1034.0</td>\n",
       "      <td>NW</td>\n",
       "      <td>246.72</td>\n",
       "      <td>0</td>\n",
       "      <td>0</td>\n",
       "    </tr>\n",
       "    <tr>\n",
       "      <th>43823</th>\n",
       "      <td>43824</td>\n",
       "      <td>2014</td>\n",
       "      <td>12</td>\n",
       "      <td>31</td>\n",
       "      <td>23</td>\n",
       "      <td>12.0</td>\n",
       "      <td>-21</td>\n",
       "      <td>-3.0</td>\n",
       "      <td>1034.0</td>\n",
       "      <td>NW</td>\n",
       "      <td>249.85</td>\n",
       "      <td>0</td>\n",
       "      <td>0</td>\n",
       "    </tr>\n",
       "  </tbody>\n",
       "</table>\n",
       "<p>43824 rows × 13 columns</p>\n",
       "</div>"
      ],
      "text/plain": [
       "          No  year  month  day  hour  pm2.5  DEWP  TEMP    PRES cbwd     Iws  \\\n",
       "0          1  2010      1    1     0    NaN   -21 -11.0  1021.0   NW    1.79   \n",
       "1          2  2010      1    1     1    NaN   -21 -12.0  1020.0   NW    4.92   \n",
       "2          3  2010      1    1     2    NaN   -21 -11.0  1019.0   NW    6.71   \n",
       "3          4  2010      1    1     3    NaN   -21 -14.0  1019.0   NW    9.84   \n",
       "4          5  2010      1    1     4    NaN   -20 -12.0  1018.0   NW   12.97   \n",
       "...      ...   ...    ...  ...   ...    ...   ...   ...     ...  ...     ...   \n",
       "43819  43820  2014     12   31    19    8.0   -23  -2.0  1034.0   NW  231.97   \n",
       "43820  43821  2014     12   31    20   10.0   -22  -3.0  1034.0   NW  237.78   \n",
       "43821  43822  2014     12   31    21   10.0   -22  -3.0  1034.0   NW  242.70   \n",
       "43822  43823  2014     12   31    22    8.0   -22  -4.0  1034.0   NW  246.72   \n",
       "43823  43824  2014     12   31    23   12.0   -21  -3.0  1034.0   NW  249.85   \n",
       "\n",
       "       Is  Ir  \n",
       "0       0   0  \n",
       "1       0   0  \n",
       "2       0   0  \n",
       "3       0   0  \n",
       "4       0   0  \n",
       "...    ..  ..  \n",
       "43819   0   0  \n",
       "43820   0   0  \n",
       "43821   0   0  \n",
       "43822   0   0  \n",
       "43823   0   0  \n",
       "\n",
       "[43824 rows x 13 columns]"
      ]
     },
     "execution_count": 6,
     "metadata": {},
     "output_type": "execute_result"
    }
   ],
   "source": [
    "data"
   ]
  },
  {
   "cell_type": "code",
   "execution_count": 7,
   "id": "63a35728",
   "metadata": {
    "execution": {
     "iopub.execute_input": "2023-04-08T15:32:04.408722Z",
     "iopub.status.busy": "2023-04-08T15:32:04.408314Z",
     "iopub.status.idle": "2023-04-08T15:32:04.417260Z",
     "shell.execute_reply": "2023-04-08T15:32:04.415059Z",
     "shell.execute_reply.started": "2023-04-08T15:32:04.408674Z"
    }
   },
   "outputs": [
    {
     "data": {
      "text/plain": [
       "Index(['No', 'year', 'month', 'day', 'hour', 'pm2.5', 'DEWP', 'TEMP', 'PRES',\n",
       "       'cbwd', 'Iws', 'Is', 'Ir'],\n",
       "      dtype='object')"
      ]
     },
     "execution_count": 7,
     "metadata": {},
     "output_type": "execute_result"
    }
   ],
   "source": [
    "data.columns"
   ]
  },
  {
   "cell_type": "code",
   "execution_count": 8,
   "id": "e8d0b9cc",
   "metadata": {
    "execution": {
     "iopub.execute_input": "2023-04-08T15:32:04.419774Z",
     "iopub.status.busy": "2023-04-08T15:32:04.419357Z",
     "iopub.status.idle": "2023-04-08T15:32:04.428486Z",
     "shell.execute_reply": "2023-04-08T15:32:04.427250Z",
     "shell.execute_reply.started": "2023-04-08T15:32:04.419735Z"
    }
   },
   "outputs": [
    {
     "data": {
      "text/plain": [
       "2067"
      ]
     },
     "execution_count": 8,
     "metadata": {},
     "output_type": "execute_result"
    }
   ],
   "source": [
    "data['pm2.5'].isna().sum()#值为NaN的"
   ]
  },
  {
   "cell_type": "code",
   "execution_count": 9,
   "id": "f0208c4b",
   "metadata": {
    "execution": {
     "iopub.execute_input": "2023-04-08T15:32:04.432438Z",
     "iopub.status.busy": "2023-04-08T15:32:04.429889Z",
     "iopub.status.idle": "2023-04-08T15:32:04.437121Z",
     "shell.execute_reply": "2023-04-08T15:32:04.435941Z",
     "shell.execute_reply.started": "2023-04-08T15:32:04.432400Z"
    }
   },
   "outputs": [],
   "source": [
    "#先将前面的24个去掉，剩下的进行填充"
   ]
  },
  {
   "cell_type": "code",
   "execution_count": 10,
   "id": "7bebe64e",
   "metadata": {
    "execution": {
     "iopub.execute_input": "2023-04-08T15:32:04.442284Z",
     "iopub.status.busy": "2023-04-08T15:32:04.441969Z",
     "iopub.status.idle": "2023-04-08T15:32:04.456538Z",
     "shell.execute_reply": "2023-04-08T15:32:04.455356Z",
     "shell.execute_reply.started": "2023-04-08T15:32:04.442256Z"
    }
   },
   "outputs": [],
   "source": [
    "data = data.iloc[24:].fillna(method='ffill') #使用日期最近的数据进行填充 ffill前项填充"
   ]
  },
  {
   "cell_type": "code",
   "execution_count": 11,
   "id": "1c0eb216",
   "metadata": {
    "execution": {
     "iopub.execute_input": "2023-04-08T15:32:04.459065Z",
     "iopub.status.busy": "2023-04-08T15:32:04.458375Z",
     "iopub.status.idle": "2023-04-08T15:32:04.466572Z",
     "shell.execute_reply": "2023-04-08T15:32:04.465540Z",
     "shell.execute_reply.started": "2023-04-08T15:32:04.459030Z"
    }
   },
   "outputs": [
    {
     "data": {
      "text/plain": [
       "0"
      ]
     },
     "execution_count": 11,
     "metadata": {},
     "output_type": "execute_result"
    }
   ],
   "source": [
    "data['pm2.5'].isna().sum()"
   ]
  },
  {
   "cell_type": "code",
   "execution_count": 12,
   "id": "51c98758",
   "metadata": {
    "execution": {
     "iopub.execute_input": "2023-04-08T15:32:04.469041Z",
     "iopub.status.busy": "2023-04-08T15:32:04.468370Z",
     "iopub.status.idle": "2023-04-08T15:32:04.489119Z",
     "shell.execute_reply": "2023-04-08T15:32:04.488000Z",
     "shell.execute_reply.started": "2023-04-08T15:32:04.469006Z"
    }
   },
   "outputs": [
    {
     "data": {
      "text/html": [
       "<div>\n",
       "<style scoped>\n",
       "    .dataframe tbody tr th:only-of-type {\n",
       "        vertical-align: middle;\n",
       "    }\n",
       "\n",
       "    .dataframe tbody tr th {\n",
       "        vertical-align: top;\n",
       "    }\n",
       "\n",
       "    .dataframe thead th {\n",
       "        text-align: right;\n",
       "    }\n",
       "</style>\n",
       "<table border=\"1\" class=\"dataframe\">\n",
       "  <thead>\n",
       "    <tr style=\"text-align: right;\">\n",
       "      <th></th>\n",
       "      <th>No</th>\n",
       "      <th>year</th>\n",
       "      <th>month</th>\n",
       "      <th>day</th>\n",
       "      <th>hour</th>\n",
       "      <th>pm2.5</th>\n",
       "      <th>DEWP</th>\n",
       "      <th>TEMP</th>\n",
       "      <th>PRES</th>\n",
       "      <th>cbwd</th>\n",
       "      <th>Iws</th>\n",
       "      <th>Is</th>\n",
       "      <th>Ir</th>\n",
       "    </tr>\n",
       "  </thead>\n",
       "  <tbody>\n",
       "    <tr>\n",
       "      <th>24</th>\n",
       "      <td>25</td>\n",
       "      <td>2010</td>\n",
       "      <td>1</td>\n",
       "      <td>2</td>\n",
       "      <td>0</td>\n",
       "      <td>129.0</td>\n",
       "      <td>-16</td>\n",
       "      <td>-4.0</td>\n",
       "      <td>1020.0</td>\n",
       "      <td>SE</td>\n",
       "      <td>1.79</td>\n",
       "      <td>0</td>\n",
       "      <td>0</td>\n",
       "    </tr>\n",
       "    <tr>\n",
       "      <th>25</th>\n",
       "      <td>26</td>\n",
       "      <td>2010</td>\n",
       "      <td>1</td>\n",
       "      <td>2</td>\n",
       "      <td>1</td>\n",
       "      <td>148.0</td>\n",
       "      <td>-15</td>\n",
       "      <td>-4.0</td>\n",
       "      <td>1020.0</td>\n",
       "      <td>SE</td>\n",
       "      <td>2.68</td>\n",
       "      <td>0</td>\n",
       "      <td>0</td>\n",
       "    </tr>\n",
       "    <tr>\n",
       "      <th>26</th>\n",
       "      <td>27</td>\n",
       "      <td>2010</td>\n",
       "      <td>1</td>\n",
       "      <td>2</td>\n",
       "      <td>2</td>\n",
       "      <td>159.0</td>\n",
       "      <td>-11</td>\n",
       "      <td>-5.0</td>\n",
       "      <td>1021.0</td>\n",
       "      <td>SE</td>\n",
       "      <td>3.57</td>\n",
       "      <td>0</td>\n",
       "      <td>0</td>\n",
       "    </tr>\n",
       "    <tr>\n",
       "      <th>27</th>\n",
       "      <td>28</td>\n",
       "      <td>2010</td>\n",
       "      <td>1</td>\n",
       "      <td>2</td>\n",
       "      <td>3</td>\n",
       "      <td>181.0</td>\n",
       "      <td>-7</td>\n",
       "      <td>-5.0</td>\n",
       "      <td>1022.0</td>\n",
       "      <td>SE</td>\n",
       "      <td>5.36</td>\n",
       "      <td>1</td>\n",
       "      <td>0</td>\n",
       "    </tr>\n",
       "    <tr>\n",
       "      <th>28</th>\n",
       "      <td>29</td>\n",
       "      <td>2010</td>\n",
       "      <td>1</td>\n",
       "      <td>2</td>\n",
       "      <td>4</td>\n",
       "      <td>138.0</td>\n",
       "      <td>-7</td>\n",
       "      <td>-5.0</td>\n",
       "      <td>1022.0</td>\n",
       "      <td>SE</td>\n",
       "      <td>6.25</td>\n",
       "      <td>2</td>\n",
       "      <td>0</td>\n",
       "    </tr>\n",
       "  </tbody>\n",
       "</table>\n",
       "</div>"
      ],
      "text/plain": [
       "    No  year  month  day  hour  pm2.5  DEWP  TEMP    PRES cbwd   Iws  Is  Ir\n",
       "24  25  2010      1    2     0  129.0   -16  -4.0  1020.0   SE  1.79   0   0\n",
       "25  26  2010      1    2     1  148.0   -15  -4.0  1020.0   SE  2.68   0   0\n",
       "26  27  2010      1    2     2  159.0   -11  -5.0  1021.0   SE  3.57   0   0\n",
       "27  28  2010      1    2     3  181.0    -7  -5.0  1022.0   SE  5.36   1   0\n",
       "28  29  2010      1    2     4  138.0    -7  -5.0  1022.0   SE  6.25   2   0"
      ]
     },
     "execution_count": 12,
     "metadata": {},
     "output_type": "execute_result"
    }
   ],
   "source": [
    "data.head()"
   ]
  },
  {
   "cell_type": "code",
   "execution_count": 13,
   "id": "dc362fa8",
   "metadata": {
    "execution": {
     "iopub.execute_input": "2023-04-08T15:32:04.491831Z",
     "iopub.status.busy": "2023-04-08T15:32:04.491303Z",
     "iopub.status.idle": "2023-04-08T15:32:04.497781Z",
     "shell.execute_reply": "2023-04-08T15:32:04.496240Z",
     "shell.execute_reply.started": "2023-04-08T15:32:04.491794Z"
    }
   },
   "outputs": [],
   "source": [
    "#将多列时间合并为一列"
   ]
  },
  {
   "cell_type": "code",
   "execution_count": 14,
   "id": "cad0190f",
   "metadata": {
    "execution": {
     "iopub.execute_input": "2023-04-08T15:32:04.501164Z",
     "iopub.status.busy": "2023-04-08T15:32:04.499933Z",
     "iopub.status.idle": "2023-04-08T15:32:04.507012Z",
     "shell.execute_reply": "2023-04-08T15:32:04.505737Z",
     "shell.execute_reply.started": "2023-04-08T15:32:04.501125Z"
    }
   },
   "outputs": [],
   "source": [
    "import datetime"
   ]
  },
  {
   "cell_type": "code",
   "execution_count": 15,
   "id": "73291dc9",
   "metadata": {
    "execution": {
     "iopub.execute_input": "2023-04-08T15:32:04.509563Z",
     "iopub.status.busy": "2023-04-08T15:32:04.508399Z",
     "iopub.status.idle": "2023-04-08T15:32:04.518900Z",
     "shell.execute_reply": "2023-04-08T15:32:04.517734Z",
     "shell.execute_reply.started": "2023-04-08T15:32:04.509525Z"
    }
   },
   "outputs": [
    {
     "data": {
      "text/plain": [
       "datetime.datetime(2010, 1, 2, 1, 0)"
      ]
     },
     "execution_count": 15,
     "metadata": {},
     "output_type": "execute_result"
    }
   ],
   "source": [
    "datetime.datetime(year=2010, month=1, day=2, hour=1)"
   ]
  },
  {
   "cell_type": "code",
   "execution_count": 16,
   "id": "8fe05760",
   "metadata": {
    "execution": {
     "iopub.execute_input": "2023-04-08T15:32:04.521462Z",
     "iopub.status.busy": "2023-04-08T15:32:04.520718Z",
     "iopub.status.idle": "2023-04-08T15:32:05.814333Z",
     "shell.execute_reply": "2023-04-08T15:32:05.813277Z",
     "shell.execute_reply.started": "2023-04-08T15:32:04.521411Z"
    }
   },
   "outputs": [],
   "source": [
    "data['tm'] = data.apply(\n",
    "    lambda x : datetime.datetime(year=x['year'], month=x['month'], day=x['day'], hour=x['hour']),\n",
    "    axis=1\n",
    ")"
   ]
  },
  {
   "cell_type": "code",
   "execution_count": 17,
   "id": "ae4a624d",
   "metadata": {
    "execution": {
     "iopub.execute_input": "2023-04-08T15:32:05.821426Z",
     "iopub.status.busy": "2023-04-08T15:32:05.819014Z",
     "iopub.status.idle": "2023-04-08T15:32:05.847306Z",
     "shell.execute_reply": "2023-04-08T15:32:05.846449Z",
     "shell.execute_reply.started": "2023-04-08T15:32:05.821381Z"
    }
   },
   "outputs": [
    {
     "data": {
      "text/html": [
       "<div>\n",
       "<style scoped>\n",
       "    .dataframe tbody tr th:only-of-type {\n",
       "        vertical-align: middle;\n",
       "    }\n",
       "\n",
       "    .dataframe tbody tr th {\n",
       "        vertical-align: top;\n",
       "    }\n",
       "\n",
       "    .dataframe thead th {\n",
       "        text-align: right;\n",
       "    }\n",
       "</style>\n",
       "<table border=\"1\" class=\"dataframe\">\n",
       "  <thead>\n",
       "    <tr style=\"text-align: right;\">\n",
       "      <th></th>\n",
       "      <th>No</th>\n",
       "      <th>year</th>\n",
       "      <th>month</th>\n",
       "      <th>day</th>\n",
       "      <th>hour</th>\n",
       "      <th>pm2.5</th>\n",
       "      <th>DEWP</th>\n",
       "      <th>TEMP</th>\n",
       "      <th>PRES</th>\n",
       "      <th>cbwd</th>\n",
       "      <th>Iws</th>\n",
       "      <th>Is</th>\n",
       "      <th>Ir</th>\n",
       "      <th>tm</th>\n",
       "    </tr>\n",
       "  </thead>\n",
       "  <tbody>\n",
       "    <tr>\n",
       "      <th>24</th>\n",
       "      <td>25</td>\n",
       "      <td>2010</td>\n",
       "      <td>1</td>\n",
       "      <td>2</td>\n",
       "      <td>0</td>\n",
       "      <td>129.0</td>\n",
       "      <td>-16</td>\n",
       "      <td>-4.0</td>\n",
       "      <td>1020.0</td>\n",
       "      <td>SE</td>\n",
       "      <td>1.79</td>\n",
       "      <td>0</td>\n",
       "      <td>0</td>\n",
       "      <td>2010-01-02 00:00:00</td>\n",
       "    </tr>\n",
       "    <tr>\n",
       "      <th>25</th>\n",
       "      <td>26</td>\n",
       "      <td>2010</td>\n",
       "      <td>1</td>\n",
       "      <td>2</td>\n",
       "      <td>1</td>\n",
       "      <td>148.0</td>\n",
       "      <td>-15</td>\n",
       "      <td>-4.0</td>\n",
       "      <td>1020.0</td>\n",
       "      <td>SE</td>\n",
       "      <td>2.68</td>\n",
       "      <td>0</td>\n",
       "      <td>0</td>\n",
       "      <td>2010-01-02 01:00:00</td>\n",
       "    </tr>\n",
       "    <tr>\n",
       "      <th>26</th>\n",
       "      <td>27</td>\n",
       "      <td>2010</td>\n",
       "      <td>1</td>\n",
       "      <td>2</td>\n",
       "      <td>2</td>\n",
       "      <td>159.0</td>\n",
       "      <td>-11</td>\n",
       "      <td>-5.0</td>\n",
       "      <td>1021.0</td>\n",
       "      <td>SE</td>\n",
       "      <td>3.57</td>\n",
       "      <td>0</td>\n",
       "      <td>0</td>\n",
       "      <td>2010-01-02 02:00:00</td>\n",
       "    </tr>\n",
       "    <tr>\n",
       "      <th>27</th>\n",
       "      <td>28</td>\n",
       "      <td>2010</td>\n",
       "      <td>1</td>\n",
       "      <td>2</td>\n",
       "      <td>3</td>\n",
       "      <td>181.0</td>\n",
       "      <td>-7</td>\n",
       "      <td>-5.0</td>\n",
       "      <td>1022.0</td>\n",
       "      <td>SE</td>\n",
       "      <td>5.36</td>\n",
       "      <td>1</td>\n",
       "      <td>0</td>\n",
       "      <td>2010-01-02 03:00:00</td>\n",
       "    </tr>\n",
       "    <tr>\n",
       "      <th>28</th>\n",
       "      <td>29</td>\n",
       "      <td>2010</td>\n",
       "      <td>1</td>\n",
       "      <td>2</td>\n",
       "      <td>4</td>\n",
       "      <td>138.0</td>\n",
       "      <td>-7</td>\n",
       "      <td>-5.0</td>\n",
       "      <td>1022.0</td>\n",
       "      <td>SE</td>\n",
       "      <td>6.25</td>\n",
       "      <td>2</td>\n",
       "      <td>0</td>\n",
       "      <td>2010-01-02 04:00:00</td>\n",
       "    </tr>\n",
       "  </tbody>\n",
       "</table>\n",
       "</div>"
      ],
      "text/plain": [
       "    No  year  month  day  hour  pm2.5  DEWP  TEMP    PRES cbwd   Iws  Is  Ir  \\\n",
       "24  25  2010      1    2     0  129.0   -16  -4.0  1020.0   SE  1.79   0   0   \n",
       "25  26  2010      1    2     1  148.0   -15  -4.0  1020.0   SE  2.68   0   0   \n",
       "26  27  2010      1    2     2  159.0   -11  -5.0  1021.0   SE  3.57   0   0   \n",
       "27  28  2010      1    2     3  181.0    -7  -5.0  1022.0   SE  5.36   1   0   \n",
       "28  29  2010      1    2     4  138.0    -7  -5.0  1022.0   SE  6.25   2   0   \n",
       "\n",
       "                    tm  \n",
       "24 2010-01-02 00:00:00  \n",
       "25 2010-01-02 01:00:00  \n",
       "26 2010-01-02 02:00:00  \n",
       "27 2010-01-02 03:00:00  \n",
       "28 2010-01-02 04:00:00  "
      ]
     },
     "execution_count": 17,
     "metadata": {},
     "output_type": "execute_result"
    }
   ],
   "source": [
    "data.head()"
   ]
  },
  {
   "cell_type": "code",
   "execution_count": 18,
   "id": "6d7efc34",
   "metadata": {
    "execution": {
     "iopub.execute_input": "2023-04-08T15:32:05.853711Z",
     "iopub.status.busy": "2023-04-08T15:32:05.851471Z",
     "iopub.status.idle": "2023-04-08T15:32:05.862810Z",
     "shell.execute_reply": "2023-04-08T15:32:05.861695Z",
     "shell.execute_reply.started": "2023-04-08T15:32:05.853674Z"
    }
   },
   "outputs": [],
   "source": [
    "data.drop(columns=['year','month','day','hour','No'],inplace=True)"
   ]
  },
  {
   "cell_type": "code",
   "execution_count": 19,
   "id": "f6fb3ce2",
   "metadata": {
    "execution": {
     "iopub.execute_input": "2023-04-08T15:32:05.870577Z",
     "iopub.status.busy": "2023-04-08T15:32:05.868087Z",
     "iopub.status.idle": "2023-04-08T15:32:05.879834Z",
     "shell.execute_reply": "2023-04-08T15:32:05.878622Z",
     "shell.execute_reply.started": "2023-04-08T15:32:05.870529Z"
    }
   },
   "outputs": [],
   "source": [
    "data = data.set_index('tm')"
   ]
  },
  {
   "cell_type": "code",
   "execution_count": 20,
   "id": "98d879eb",
   "metadata": {
    "execution": {
     "iopub.execute_input": "2023-04-08T15:32:05.887486Z",
     "iopub.status.busy": "2023-04-08T15:32:05.884786Z",
     "iopub.status.idle": "2023-04-08T15:32:05.915137Z",
     "shell.execute_reply": "2023-04-08T15:32:05.914113Z",
     "shell.execute_reply.started": "2023-04-08T15:32:05.887448Z"
    }
   },
   "outputs": [
    {
     "data": {
      "text/html": [
       "<div>\n",
       "<style scoped>\n",
       "    .dataframe tbody tr th:only-of-type {\n",
       "        vertical-align: middle;\n",
       "    }\n",
       "\n",
       "    .dataframe tbody tr th {\n",
       "        vertical-align: top;\n",
       "    }\n",
       "\n",
       "    .dataframe thead th {\n",
       "        text-align: right;\n",
       "    }\n",
       "</style>\n",
       "<table border=\"1\" class=\"dataframe\">\n",
       "  <thead>\n",
       "    <tr style=\"text-align: right;\">\n",
       "      <th></th>\n",
       "      <th>pm2.5</th>\n",
       "      <th>DEWP</th>\n",
       "      <th>TEMP</th>\n",
       "      <th>PRES</th>\n",
       "      <th>cbwd</th>\n",
       "      <th>Iws</th>\n",
       "      <th>Is</th>\n",
       "      <th>Ir</th>\n",
       "    </tr>\n",
       "    <tr>\n",
       "      <th>tm</th>\n",
       "      <th></th>\n",
       "      <th></th>\n",
       "      <th></th>\n",
       "      <th></th>\n",
       "      <th></th>\n",
       "      <th></th>\n",
       "      <th></th>\n",
       "      <th></th>\n",
       "    </tr>\n",
       "  </thead>\n",
       "  <tbody>\n",
       "    <tr>\n",
       "      <th>2010-01-02 00:00:00</th>\n",
       "      <td>129.0</td>\n",
       "      <td>-16</td>\n",
       "      <td>-4.0</td>\n",
       "      <td>1020.0</td>\n",
       "      <td>SE</td>\n",
       "      <td>1.79</td>\n",
       "      <td>0</td>\n",
       "      <td>0</td>\n",
       "    </tr>\n",
       "    <tr>\n",
       "      <th>2010-01-02 01:00:00</th>\n",
       "      <td>148.0</td>\n",
       "      <td>-15</td>\n",
       "      <td>-4.0</td>\n",
       "      <td>1020.0</td>\n",
       "      <td>SE</td>\n",
       "      <td>2.68</td>\n",
       "      <td>0</td>\n",
       "      <td>0</td>\n",
       "    </tr>\n",
       "    <tr>\n",
       "      <th>2010-01-02 02:00:00</th>\n",
       "      <td>159.0</td>\n",
       "      <td>-11</td>\n",
       "      <td>-5.0</td>\n",
       "      <td>1021.0</td>\n",
       "      <td>SE</td>\n",
       "      <td>3.57</td>\n",
       "      <td>0</td>\n",
       "      <td>0</td>\n",
       "    </tr>\n",
       "    <tr>\n",
       "      <th>2010-01-02 03:00:00</th>\n",
       "      <td>181.0</td>\n",
       "      <td>-7</td>\n",
       "      <td>-5.0</td>\n",
       "      <td>1022.0</td>\n",
       "      <td>SE</td>\n",
       "      <td>5.36</td>\n",
       "      <td>1</td>\n",
       "      <td>0</td>\n",
       "    </tr>\n",
       "    <tr>\n",
       "      <th>2010-01-02 04:00:00</th>\n",
       "      <td>138.0</td>\n",
       "      <td>-7</td>\n",
       "      <td>-5.0</td>\n",
       "      <td>1022.0</td>\n",
       "      <td>SE</td>\n",
       "      <td>6.25</td>\n",
       "      <td>2</td>\n",
       "      <td>0</td>\n",
       "    </tr>\n",
       "    <tr>\n",
       "      <th>...</th>\n",
       "      <td>...</td>\n",
       "      <td>...</td>\n",
       "      <td>...</td>\n",
       "      <td>...</td>\n",
       "      <td>...</td>\n",
       "      <td>...</td>\n",
       "      <td>...</td>\n",
       "      <td>...</td>\n",
       "    </tr>\n",
       "    <tr>\n",
       "      <th>2014-12-31 19:00:00</th>\n",
       "      <td>8.0</td>\n",
       "      <td>-23</td>\n",
       "      <td>-2.0</td>\n",
       "      <td>1034.0</td>\n",
       "      <td>NW</td>\n",
       "      <td>231.97</td>\n",
       "      <td>0</td>\n",
       "      <td>0</td>\n",
       "    </tr>\n",
       "    <tr>\n",
       "      <th>2014-12-31 20:00:00</th>\n",
       "      <td>10.0</td>\n",
       "      <td>-22</td>\n",
       "      <td>-3.0</td>\n",
       "      <td>1034.0</td>\n",
       "      <td>NW</td>\n",
       "      <td>237.78</td>\n",
       "      <td>0</td>\n",
       "      <td>0</td>\n",
       "    </tr>\n",
       "    <tr>\n",
       "      <th>2014-12-31 21:00:00</th>\n",
       "      <td>10.0</td>\n",
       "      <td>-22</td>\n",
       "      <td>-3.0</td>\n",
       "      <td>1034.0</td>\n",
       "      <td>NW</td>\n",
       "      <td>242.70</td>\n",
       "      <td>0</td>\n",
       "      <td>0</td>\n",
       "    </tr>\n",
       "    <tr>\n",
       "      <th>2014-12-31 22:00:00</th>\n",
       "      <td>8.0</td>\n",
       "      <td>-22</td>\n",
       "      <td>-4.0</td>\n",
       "      <td>1034.0</td>\n",
       "      <td>NW</td>\n",
       "      <td>246.72</td>\n",
       "      <td>0</td>\n",
       "      <td>0</td>\n",
       "    </tr>\n",
       "    <tr>\n",
       "      <th>2014-12-31 23:00:00</th>\n",
       "      <td>12.0</td>\n",
       "      <td>-21</td>\n",
       "      <td>-3.0</td>\n",
       "      <td>1034.0</td>\n",
       "      <td>NW</td>\n",
       "      <td>249.85</td>\n",
       "      <td>0</td>\n",
       "      <td>0</td>\n",
       "    </tr>\n",
       "  </tbody>\n",
       "</table>\n",
       "<p>43800 rows × 8 columns</p>\n",
       "</div>"
      ],
      "text/plain": [
       "                     pm2.5  DEWP  TEMP    PRES cbwd     Iws  Is  Ir\n",
       "tm                                                                 \n",
       "2010-01-02 00:00:00  129.0   -16  -4.0  1020.0   SE    1.79   0   0\n",
       "2010-01-02 01:00:00  148.0   -15  -4.0  1020.0   SE    2.68   0   0\n",
       "2010-01-02 02:00:00  159.0   -11  -5.0  1021.0   SE    3.57   0   0\n",
       "2010-01-02 03:00:00  181.0    -7  -5.0  1022.0   SE    5.36   1   0\n",
       "2010-01-02 04:00:00  138.0    -7  -5.0  1022.0   SE    6.25   2   0\n",
       "...                    ...   ...   ...     ...  ...     ...  ..  ..\n",
       "2014-12-31 19:00:00    8.0   -23  -2.0  1034.0   NW  231.97   0   0\n",
       "2014-12-31 20:00:00   10.0   -22  -3.0  1034.0   NW  237.78   0   0\n",
       "2014-12-31 21:00:00   10.0   -22  -3.0  1034.0   NW  242.70   0   0\n",
       "2014-12-31 22:00:00    8.0   -22  -4.0  1034.0   NW  246.72   0   0\n",
       "2014-12-31 23:00:00   12.0   -21  -3.0  1034.0   NW  249.85   0   0\n",
       "\n",
       "[43800 rows x 8 columns]"
      ]
     },
     "execution_count": 20,
     "metadata": {},
     "output_type": "execute_result"
    }
   ],
   "source": [
    "data"
   ]
  },
  {
   "cell_type": "code",
   "execution_count": 21,
   "id": "8585d3dd",
   "metadata": {
    "execution": {
     "iopub.execute_input": "2023-04-08T15:32:05.921884Z",
     "iopub.status.busy": "2023-04-08T15:32:05.919399Z",
     "iopub.status.idle": "2023-04-08T15:32:05.936873Z",
     "shell.execute_reply": "2023-04-08T15:32:05.935663Z",
     "shell.execute_reply.started": "2023-04-08T15:32:05.921843Z"
    }
   },
   "outputs": [
    {
     "data": {
      "text/plain": [
       "array(['SE', 'cv', 'NW', 'NE'], dtype=object)"
      ]
     },
     "execution_count": 21,
     "metadata": {},
     "output_type": "execute_result"
    }
   ],
   "source": [
    "data.cbwd.unique()"
   ]
  },
  {
   "cell_type": "code",
   "execution_count": 22,
   "id": "35e114a8",
   "metadata": {
    "execution": {
     "iopub.execute_input": "2023-04-08T15:32:05.943580Z",
     "iopub.status.busy": "2023-04-08T15:32:05.941188Z",
     "iopub.status.idle": "2023-04-08T15:32:05.963509Z",
     "shell.execute_reply": "2023-04-08T15:32:05.962530Z",
     "shell.execute_reply.started": "2023-04-08T15:32:05.943533Z"
    }
   },
   "outputs": [],
   "source": [
    "data = data.join(pd.get_dummies(data.cbwd)) #将cbwd列赋值为独热编码"
   ]
  },
  {
   "cell_type": "code",
   "execution_count": 23,
   "id": "7acea1d1",
   "metadata": {
    "execution": {
     "iopub.execute_input": "2023-04-08T15:32:05.970225Z",
     "iopub.status.busy": "2023-04-08T15:32:05.967779Z",
     "iopub.status.idle": "2023-04-08T15:32:05.995058Z",
     "shell.execute_reply": "2023-04-08T15:32:05.994091Z",
     "shell.execute_reply.started": "2023-04-08T15:32:05.970129Z"
    }
   },
   "outputs": [
    {
     "data": {
      "text/html": [
       "<div>\n",
       "<style scoped>\n",
       "    .dataframe tbody tr th:only-of-type {\n",
       "        vertical-align: middle;\n",
       "    }\n",
       "\n",
       "    .dataframe tbody tr th {\n",
       "        vertical-align: top;\n",
       "    }\n",
       "\n",
       "    .dataframe thead th {\n",
       "        text-align: right;\n",
       "    }\n",
       "</style>\n",
       "<table border=\"1\" class=\"dataframe\">\n",
       "  <thead>\n",
       "    <tr style=\"text-align: right;\">\n",
       "      <th></th>\n",
       "      <th>pm2.5</th>\n",
       "      <th>DEWP</th>\n",
       "      <th>TEMP</th>\n",
       "      <th>PRES</th>\n",
       "      <th>cbwd</th>\n",
       "      <th>Iws</th>\n",
       "      <th>Is</th>\n",
       "      <th>Ir</th>\n",
       "      <th>NE</th>\n",
       "      <th>NW</th>\n",
       "      <th>SE</th>\n",
       "      <th>cv</th>\n",
       "    </tr>\n",
       "    <tr>\n",
       "      <th>tm</th>\n",
       "      <th></th>\n",
       "      <th></th>\n",
       "      <th></th>\n",
       "      <th></th>\n",
       "      <th></th>\n",
       "      <th></th>\n",
       "      <th></th>\n",
       "      <th></th>\n",
       "      <th></th>\n",
       "      <th></th>\n",
       "      <th></th>\n",
       "      <th></th>\n",
       "    </tr>\n",
       "  </thead>\n",
       "  <tbody>\n",
       "    <tr>\n",
       "      <th>2010-01-02 00:00:00</th>\n",
       "      <td>129.0</td>\n",
       "      <td>-16</td>\n",
       "      <td>-4.0</td>\n",
       "      <td>1020.0</td>\n",
       "      <td>SE</td>\n",
       "      <td>1.79</td>\n",
       "      <td>0</td>\n",
       "      <td>0</td>\n",
       "      <td>0</td>\n",
       "      <td>0</td>\n",
       "      <td>1</td>\n",
       "      <td>0</td>\n",
       "    </tr>\n",
       "    <tr>\n",
       "      <th>2010-01-02 01:00:00</th>\n",
       "      <td>148.0</td>\n",
       "      <td>-15</td>\n",
       "      <td>-4.0</td>\n",
       "      <td>1020.0</td>\n",
       "      <td>SE</td>\n",
       "      <td>2.68</td>\n",
       "      <td>0</td>\n",
       "      <td>0</td>\n",
       "      <td>0</td>\n",
       "      <td>0</td>\n",
       "      <td>1</td>\n",
       "      <td>0</td>\n",
       "    </tr>\n",
       "    <tr>\n",
       "      <th>2010-01-02 02:00:00</th>\n",
       "      <td>159.0</td>\n",
       "      <td>-11</td>\n",
       "      <td>-5.0</td>\n",
       "      <td>1021.0</td>\n",
       "      <td>SE</td>\n",
       "      <td>3.57</td>\n",
       "      <td>0</td>\n",
       "      <td>0</td>\n",
       "      <td>0</td>\n",
       "      <td>0</td>\n",
       "      <td>1</td>\n",
       "      <td>0</td>\n",
       "    </tr>\n",
       "    <tr>\n",
       "      <th>2010-01-02 03:00:00</th>\n",
       "      <td>181.0</td>\n",
       "      <td>-7</td>\n",
       "      <td>-5.0</td>\n",
       "      <td>1022.0</td>\n",
       "      <td>SE</td>\n",
       "      <td>5.36</td>\n",
       "      <td>1</td>\n",
       "      <td>0</td>\n",
       "      <td>0</td>\n",
       "      <td>0</td>\n",
       "      <td>1</td>\n",
       "      <td>0</td>\n",
       "    </tr>\n",
       "    <tr>\n",
       "      <th>2010-01-02 04:00:00</th>\n",
       "      <td>138.0</td>\n",
       "      <td>-7</td>\n",
       "      <td>-5.0</td>\n",
       "      <td>1022.0</td>\n",
       "      <td>SE</td>\n",
       "      <td>6.25</td>\n",
       "      <td>2</td>\n",
       "      <td>0</td>\n",
       "      <td>0</td>\n",
       "      <td>0</td>\n",
       "      <td>1</td>\n",
       "      <td>0</td>\n",
       "    </tr>\n",
       "  </tbody>\n",
       "</table>\n",
       "</div>"
      ],
      "text/plain": [
       "                     pm2.5  DEWP  TEMP    PRES cbwd   Iws  Is  Ir  NE  NW  SE  \\\n",
       "tm                                                                              \n",
       "2010-01-02 00:00:00  129.0   -16  -4.0  1020.0   SE  1.79   0   0   0   0   1   \n",
       "2010-01-02 01:00:00  148.0   -15  -4.0  1020.0   SE  2.68   0   0   0   0   1   \n",
       "2010-01-02 02:00:00  159.0   -11  -5.0  1021.0   SE  3.57   0   0   0   0   1   \n",
       "2010-01-02 03:00:00  181.0    -7  -5.0  1022.0   SE  5.36   1   0   0   0   1   \n",
       "2010-01-02 04:00:00  138.0    -7  -5.0  1022.0   SE  6.25   2   0   0   0   1   \n",
       "\n",
       "                     cv  \n",
       "tm                       \n",
       "2010-01-02 00:00:00   0  \n",
       "2010-01-02 01:00:00   0  \n",
       "2010-01-02 02:00:00   0  \n",
       "2010-01-02 03:00:00   0  \n",
       "2010-01-02 04:00:00   0  "
      ]
     },
     "execution_count": 23,
     "metadata": {},
     "output_type": "execute_result"
    }
   ],
   "source": [
    "data.head()"
   ]
  },
  {
   "cell_type": "code",
   "execution_count": 24,
   "id": "7a693c92",
   "metadata": {
    "execution": {
     "iopub.execute_input": "2023-04-08T15:32:06.002425Z",
     "iopub.status.busy": "2023-04-08T15:32:05.999708Z",
     "iopub.status.idle": "2023-04-08T15:32:06.009600Z",
     "shell.execute_reply": "2023-04-08T15:32:06.008512Z",
     "shell.execute_reply.started": "2023-04-08T15:32:06.002384Z"
    }
   },
   "outputs": [],
   "source": [
    "del data['cbwd']"
   ]
  },
  {
   "cell_type": "code",
   "execution_count": 25,
   "id": "9be9d37b",
   "metadata": {
    "execution": {
     "iopub.execute_input": "2023-04-08T15:32:06.016719Z",
     "iopub.status.busy": "2023-04-08T15:32:06.014436Z",
     "iopub.status.idle": "2023-04-08T15:32:06.041917Z",
     "shell.execute_reply": "2023-04-08T15:32:06.041045Z",
     "shell.execute_reply.started": "2023-04-08T15:32:06.016682Z"
    }
   },
   "outputs": [
    {
     "data": {
      "text/html": [
       "<div>\n",
       "<style scoped>\n",
       "    .dataframe tbody tr th:only-of-type {\n",
       "        vertical-align: middle;\n",
       "    }\n",
       "\n",
       "    .dataframe tbody tr th {\n",
       "        vertical-align: top;\n",
       "    }\n",
       "\n",
       "    .dataframe thead th {\n",
       "        text-align: right;\n",
       "    }\n",
       "</style>\n",
       "<table border=\"1\" class=\"dataframe\">\n",
       "  <thead>\n",
       "    <tr style=\"text-align: right;\">\n",
       "      <th></th>\n",
       "      <th>pm2.5</th>\n",
       "      <th>DEWP</th>\n",
       "      <th>TEMP</th>\n",
       "      <th>PRES</th>\n",
       "      <th>Iws</th>\n",
       "      <th>Is</th>\n",
       "      <th>Ir</th>\n",
       "      <th>NE</th>\n",
       "      <th>NW</th>\n",
       "      <th>SE</th>\n",
       "      <th>cv</th>\n",
       "    </tr>\n",
       "    <tr>\n",
       "      <th>tm</th>\n",
       "      <th></th>\n",
       "      <th></th>\n",
       "      <th></th>\n",
       "      <th></th>\n",
       "      <th></th>\n",
       "      <th></th>\n",
       "      <th></th>\n",
       "      <th></th>\n",
       "      <th></th>\n",
       "      <th></th>\n",
       "      <th></th>\n",
       "    </tr>\n",
       "  </thead>\n",
       "  <tbody>\n",
       "    <tr>\n",
       "      <th>2010-01-02 00:00:00</th>\n",
       "      <td>129.0</td>\n",
       "      <td>-16</td>\n",
       "      <td>-4.0</td>\n",
       "      <td>1020.0</td>\n",
       "      <td>1.79</td>\n",
       "      <td>0</td>\n",
       "      <td>0</td>\n",
       "      <td>0</td>\n",
       "      <td>0</td>\n",
       "      <td>1</td>\n",
       "      <td>0</td>\n",
       "    </tr>\n",
       "    <tr>\n",
       "      <th>2010-01-02 01:00:00</th>\n",
       "      <td>148.0</td>\n",
       "      <td>-15</td>\n",
       "      <td>-4.0</td>\n",
       "      <td>1020.0</td>\n",
       "      <td>2.68</td>\n",
       "      <td>0</td>\n",
       "      <td>0</td>\n",
       "      <td>0</td>\n",
       "      <td>0</td>\n",
       "      <td>1</td>\n",
       "      <td>0</td>\n",
       "    </tr>\n",
       "    <tr>\n",
       "      <th>2010-01-02 02:00:00</th>\n",
       "      <td>159.0</td>\n",
       "      <td>-11</td>\n",
       "      <td>-5.0</td>\n",
       "      <td>1021.0</td>\n",
       "      <td>3.57</td>\n",
       "      <td>0</td>\n",
       "      <td>0</td>\n",
       "      <td>0</td>\n",
       "      <td>0</td>\n",
       "      <td>1</td>\n",
       "      <td>0</td>\n",
       "    </tr>\n",
       "    <tr>\n",
       "      <th>2010-01-02 03:00:00</th>\n",
       "      <td>181.0</td>\n",
       "      <td>-7</td>\n",
       "      <td>-5.0</td>\n",
       "      <td>1022.0</td>\n",
       "      <td>5.36</td>\n",
       "      <td>1</td>\n",
       "      <td>0</td>\n",
       "      <td>0</td>\n",
       "      <td>0</td>\n",
       "      <td>1</td>\n",
       "      <td>0</td>\n",
       "    </tr>\n",
       "    <tr>\n",
       "      <th>2010-01-02 04:00:00</th>\n",
       "      <td>138.0</td>\n",
       "      <td>-7</td>\n",
       "      <td>-5.0</td>\n",
       "      <td>1022.0</td>\n",
       "      <td>6.25</td>\n",
       "      <td>2</td>\n",
       "      <td>0</td>\n",
       "      <td>0</td>\n",
       "      <td>0</td>\n",
       "      <td>1</td>\n",
       "      <td>0</td>\n",
       "    </tr>\n",
       "  </tbody>\n",
       "</table>\n",
       "</div>"
      ],
      "text/plain": [
       "                     pm2.5  DEWP  TEMP    PRES   Iws  Is  Ir  NE  NW  SE  cv\n",
       "tm                                                                          \n",
       "2010-01-02 00:00:00  129.0   -16  -4.0  1020.0  1.79   0   0   0   0   1   0\n",
       "2010-01-02 01:00:00  148.0   -15  -4.0  1020.0  2.68   0   0   0   0   1   0\n",
       "2010-01-02 02:00:00  159.0   -11  -5.0  1021.0  3.57   0   0   0   0   1   0\n",
       "2010-01-02 03:00:00  181.0    -7  -5.0  1022.0  5.36   1   0   0   0   1   0\n",
       "2010-01-02 04:00:00  138.0    -7  -5.0  1022.0  6.25   2   0   0   0   1   0"
      ]
     },
     "execution_count": 25,
     "metadata": {},
     "output_type": "execute_result"
    }
   ],
   "source": [
    "data.head()"
   ]
  },
  {
   "cell_type": "code",
   "execution_count": 26,
   "id": "fd511b11",
   "metadata": {
    "execution": {
     "iopub.execute_input": "2023-04-08T15:32:06.048657Z",
     "iopub.status.busy": "2023-04-08T15:32:06.046129Z",
     "iopub.status.idle": "2023-04-08T15:32:06.071935Z",
     "shell.execute_reply": "2023-04-08T15:32:06.070994Z",
     "shell.execute_reply.started": "2023-04-08T15:32:06.048620Z"
    }
   },
   "outputs": [
    {
     "data": {
      "text/html": [
       "<div>\n",
       "<style scoped>\n",
       "    .dataframe tbody tr th:only-of-type {\n",
       "        vertical-align: middle;\n",
       "    }\n",
       "\n",
       "    .dataframe tbody tr th {\n",
       "        vertical-align: top;\n",
       "    }\n",
       "\n",
       "    .dataframe thead th {\n",
       "        text-align: right;\n",
       "    }\n",
       "</style>\n",
       "<table border=\"1\" class=\"dataframe\">\n",
       "  <thead>\n",
       "    <tr style=\"text-align: right;\">\n",
       "      <th></th>\n",
       "      <th>pm2.5</th>\n",
       "      <th>DEWP</th>\n",
       "      <th>TEMP</th>\n",
       "      <th>PRES</th>\n",
       "      <th>Iws</th>\n",
       "      <th>Is</th>\n",
       "      <th>Ir</th>\n",
       "      <th>NE</th>\n",
       "      <th>NW</th>\n",
       "      <th>SE</th>\n",
       "      <th>cv</th>\n",
       "    </tr>\n",
       "    <tr>\n",
       "      <th>tm</th>\n",
       "      <th></th>\n",
       "      <th></th>\n",
       "      <th></th>\n",
       "      <th></th>\n",
       "      <th></th>\n",
       "      <th></th>\n",
       "      <th></th>\n",
       "      <th></th>\n",
       "      <th></th>\n",
       "      <th></th>\n",
       "      <th></th>\n",
       "    </tr>\n",
       "  </thead>\n",
       "  <tbody>\n",
       "    <tr>\n",
       "      <th>2014-12-31 19:00:00</th>\n",
       "      <td>8.0</td>\n",
       "      <td>-23</td>\n",
       "      <td>-2.0</td>\n",
       "      <td>1034.0</td>\n",
       "      <td>231.97</td>\n",
       "      <td>0</td>\n",
       "      <td>0</td>\n",
       "      <td>0</td>\n",
       "      <td>1</td>\n",
       "      <td>0</td>\n",
       "      <td>0</td>\n",
       "    </tr>\n",
       "    <tr>\n",
       "      <th>2014-12-31 20:00:00</th>\n",
       "      <td>10.0</td>\n",
       "      <td>-22</td>\n",
       "      <td>-3.0</td>\n",
       "      <td>1034.0</td>\n",
       "      <td>237.78</td>\n",
       "      <td>0</td>\n",
       "      <td>0</td>\n",
       "      <td>0</td>\n",
       "      <td>1</td>\n",
       "      <td>0</td>\n",
       "      <td>0</td>\n",
       "    </tr>\n",
       "    <tr>\n",
       "      <th>2014-12-31 21:00:00</th>\n",
       "      <td>10.0</td>\n",
       "      <td>-22</td>\n",
       "      <td>-3.0</td>\n",
       "      <td>1034.0</td>\n",
       "      <td>242.70</td>\n",
       "      <td>0</td>\n",
       "      <td>0</td>\n",
       "      <td>0</td>\n",
       "      <td>1</td>\n",
       "      <td>0</td>\n",
       "      <td>0</td>\n",
       "    </tr>\n",
       "    <tr>\n",
       "      <th>2014-12-31 22:00:00</th>\n",
       "      <td>8.0</td>\n",
       "      <td>-22</td>\n",
       "      <td>-4.0</td>\n",
       "      <td>1034.0</td>\n",
       "      <td>246.72</td>\n",
       "      <td>0</td>\n",
       "      <td>0</td>\n",
       "      <td>0</td>\n",
       "      <td>1</td>\n",
       "      <td>0</td>\n",
       "      <td>0</td>\n",
       "    </tr>\n",
       "    <tr>\n",
       "      <th>2014-12-31 23:00:00</th>\n",
       "      <td>12.0</td>\n",
       "      <td>-21</td>\n",
       "      <td>-3.0</td>\n",
       "      <td>1034.0</td>\n",
       "      <td>249.85</td>\n",
       "      <td>0</td>\n",
       "      <td>0</td>\n",
       "      <td>0</td>\n",
       "      <td>1</td>\n",
       "      <td>0</td>\n",
       "      <td>0</td>\n",
       "    </tr>\n",
       "  </tbody>\n",
       "</table>\n",
       "</div>"
      ],
      "text/plain": [
       "                     pm2.5  DEWP  TEMP    PRES     Iws  Is  Ir  NE  NW  SE  cv\n",
       "tm                                                                            \n",
       "2014-12-31 19:00:00    8.0   -23  -2.0  1034.0  231.97   0   0   0   1   0   0\n",
       "2014-12-31 20:00:00   10.0   -22  -3.0  1034.0  237.78   0   0   0   1   0   0\n",
       "2014-12-31 21:00:00   10.0   -22  -3.0  1034.0  242.70   0   0   0   1   0   0\n",
       "2014-12-31 22:00:00    8.0   -22  -4.0  1034.0  246.72   0   0   0   1   0   0\n",
       "2014-12-31 23:00:00   12.0   -21  -3.0  1034.0  249.85   0   0   0   1   0   0"
      ]
     },
     "execution_count": 26,
     "metadata": {},
     "output_type": "execute_result"
    }
   ],
   "source": [
    "data.tail()"
   ]
  },
  {
   "cell_type": "code",
   "execution_count": 27,
   "id": "a585c839",
   "metadata": {
    "execution": {
     "iopub.execute_input": "2023-04-08T15:32:06.078597Z",
     "iopub.status.busy": "2023-04-08T15:32:06.076215Z",
     "iopub.status.idle": "2023-04-08T15:32:06.084482Z",
     "shell.execute_reply": "2023-04-08T15:32:06.083407Z",
     "shell.execute_reply.started": "2023-04-08T15:32:06.078561Z"
    }
   },
   "outputs": [],
   "source": [
    "#17.3"
   ]
  },
  {
   "cell_type": "code",
   "execution_count": 28,
   "id": "1b18557b",
   "metadata": {
    "execution": {
     "iopub.execute_input": "2023-04-08T15:32:06.097115Z",
     "iopub.status.busy": "2023-04-08T15:32:06.094799Z",
     "iopub.status.idle": "2023-04-08T15:32:06.604163Z",
     "shell.execute_reply": "2023-04-08T15:32:06.603163Z",
     "shell.execute_reply.started": "2023-04-08T15:32:06.097077Z"
    }
   },
   "outputs": [
    {
     "data": {
      "text/plain": [
       "<AxesSubplot:xlabel='tm'>"
      ]
     },
     "execution_count": 28,
     "metadata": {},
     "output_type": "execute_result"
    },
    {
     "data": {
      "image/png": "[encoded data removed]",
      "text/plain": [
       "<Figure size 640x480 with 1 Axes>"
      ]
     },
     "metadata": {},
     "output_type": "display_data"
    }
   ],
   "source": [
    "data['pm2.5'][-1000:].plot()"
   ]
  },
  {
   "cell_type": "code",
   "execution_count": 29,
   "id": "bd1e5eb3",
   "metadata": {
    "execution": {
     "iopub.execute_input": "2023-04-08T15:32:06.607031Z",
     "iopub.status.busy": "2023-04-08T15:32:06.606737Z",
     "iopub.status.idle": "2023-04-08T15:32:06.958306Z",
     "shell.execute_reply": "2023-04-08T15:32:06.957184Z",
     "shell.execute_reply.started": "2023-04-08T15:32:06.607002Z"
    }
   },
   "outputs": [
    {
     "data": {
      "text/plain": [
       "<AxesSubplot:xlabel='tm'>"
      ]
     },
     "execution_count": 29,
     "metadata": {},
     "output_type": "execute_result"
    },
    {
     "data": {
      "image/png": "[encoded data removed]",
      "text/plain": [
       "<Figure size 640x480 with 1 Axes>"
      ]
     },
     "metadata": {},
     "output_type": "display_data"
    }
   ],
   "source": [
    "data['TEMP'][-1000:].plot()"
   ]
  },
  {
   "cell_type": "code",
   "execution_count": 30,
   "id": "4bd4a62f",
   "metadata": {
    "execution": {
     "iopub.execute_input": "2023-04-08T15:32:06.959713Z",
     "iopub.status.busy": "2023-04-08T15:32:06.959360Z",
     "iopub.status.idle": "2023-04-08T15:32:06.965524Z",
     "shell.execute_reply": "2023-04-08T15:32:06.964241Z",
     "shell.execute_reply.started": "2023-04-08T15:32:06.959673Z"
    }
   },
   "outputs": [],
   "source": [
    "seq_length = 5*24 #依据前五天的数据 作为train数据\n",
    "delay = 24 #预测24小时的数据 作为目的label数据"
   ]
  },
  {
   "cell_type": "code",
   "execution_count": 31,
   "id": "452c3e54",
   "metadata": {
    "execution": {
     "iopub.execute_input": "2023-04-08T15:32:06.967941Z",
     "iopub.status.busy": "2023-04-08T15:32:06.967260Z",
     "iopub.status.idle": "2023-04-08T15:32:06.994572Z",
     "shell.execute_reply": "2023-04-08T15:32:06.993511Z",
     "shell.execute_reply.started": "2023-04-08T15:32:06.967903Z"
    }
   },
   "outputs": [
    {
     "data": {
      "text/html": [
       "<div>\n",
       "<style scoped>\n",
       "    .dataframe tbody tr th:only-of-type {\n",
       "        vertical-align: middle;\n",
       "    }\n",
       "\n",
       "    .dataframe tbody tr th {\n",
       "        vertical-align: top;\n",
       "    }\n",
       "\n",
       "    .dataframe thead th {\n",
       "        text-align: right;\n",
       "    }\n",
       "</style>\n",
       "<table border=\"1\" class=\"dataframe\">\n",
       "  <thead>\n",
       "    <tr style=\"text-align: right;\">\n",
       "      <th></th>\n",
       "      <th>pm2.5</th>\n",
       "      <th>DEWP</th>\n",
       "      <th>TEMP</th>\n",
       "      <th>PRES</th>\n",
       "      <th>Iws</th>\n",
       "      <th>Is</th>\n",
       "      <th>Ir</th>\n",
       "      <th>NE</th>\n",
       "      <th>NW</th>\n",
       "      <th>SE</th>\n",
       "      <th>cv</th>\n",
       "    </tr>\n",
       "    <tr>\n",
       "      <th>tm</th>\n",
       "      <th></th>\n",
       "      <th></th>\n",
       "      <th></th>\n",
       "      <th></th>\n",
       "      <th></th>\n",
       "      <th></th>\n",
       "      <th></th>\n",
       "      <th></th>\n",
       "      <th></th>\n",
       "      <th></th>\n",
       "      <th></th>\n",
       "    </tr>\n",
       "  </thead>\n",
       "  <tbody>\n",
       "    <tr>\n",
       "      <th>2010-01-02 00:00:00</th>\n",
       "      <td>129.0</td>\n",
       "      <td>-16</td>\n",
       "      <td>-4.0</td>\n",
       "      <td>1020.0</td>\n",
       "      <td>1.79</td>\n",
       "      <td>0</td>\n",
       "      <td>0</td>\n",
       "      <td>0</td>\n",
       "      <td>0</td>\n",
       "      <td>1</td>\n",
       "      <td>0</td>\n",
       "    </tr>\n",
       "    <tr>\n",
       "      <th>2010-01-02 01:00:00</th>\n",
       "      <td>148.0</td>\n",
       "      <td>-15</td>\n",
       "      <td>-4.0</td>\n",
       "      <td>1020.0</td>\n",
       "      <td>2.68</td>\n",
       "      <td>0</td>\n",
       "      <td>0</td>\n",
       "      <td>0</td>\n",
       "      <td>0</td>\n",
       "      <td>1</td>\n",
       "      <td>0</td>\n",
       "    </tr>\n",
       "    <tr>\n",
       "      <th>2010-01-02 02:00:00</th>\n",
       "      <td>159.0</td>\n",
       "      <td>-11</td>\n",
       "      <td>-5.0</td>\n",
       "      <td>1021.0</td>\n",
       "      <td>3.57</td>\n",
       "      <td>0</td>\n",
       "      <td>0</td>\n",
       "      <td>0</td>\n",
       "      <td>0</td>\n",
       "      <td>1</td>\n",
       "      <td>0</td>\n",
       "    </tr>\n",
       "    <tr>\n",
       "      <th>2010-01-02 03:00:00</th>\n",
       "      <td>181.0</td>\n",
       "      <td>-7</td>\n",
       "      <td>-5.0</td>\n",
       "      <td>1022.0</td>\n",
       "      <td>5.36</td>\n",
       "      <td>1</td>\n",
       "      <td>0</td>\n",
       "      <td>0</td>\n",
       "      <td>0</td>\n",
       "      <td>1</td>\n",
       "      <td>0</td>\n",
       "    </tr>\n",
       "    <tr>\n",
       "      <th>2010-01-02 04:00:00</th>\n",
       "      <td>138.0</td>\n",
       "      <td>-7</td>\n",
       "      <td>-5.0</td>\n",
       "      <td>1022.0</td>\n",
       "      <td>6.25</td>\n",
       "      <td>2</td>\n",
       "      <td>0</td>\n",
       "      <td>0</td>\n",
       "      <td>0</td>\n",
       "      <td>1</td>\n",
       "      <td>0</td>\n",
       "    </tr>\n",
       "    <tr>\n",
       "      <th>...</th>\n",
       "      <td>...</td>\n",
       "      <td>...</td>\n",
       "      <td>...</td>\n",
       "      <td>...</td>\n",
       "      <td>...</td>\n",
       "      <td>...</td>\n",
       "      <td>...</td>\n",
       "      <td>...</td>\n",
       "      <td>...</td>\n",
       "      <td>...</td>\n",
       "      <td>...</td>\n",
       "    </tr>\n",
       "    <tr>\n",
       "      <th>2014-12-31 19:00:00</th>\n",
       "      <td>8.0</td>\n",
       "      <td>-23</td>\n",
       "      <td>-2.0</td>\n",
       "      <td>1034.0</td>\n",
       "      <td>231.97</td>\n",
       "      <td>0</td>\n",
       "      <td>0</td>\n",
       "      <td>0</td>\n",
       "      <td>1</td>\n",
       "      <td>0</td>\n",
       "      <td>0</td>\n",
       "    </tr>\n",
       "    <tr>\n",
       "      <th>2014-12-31 20:00:00</th>\n",
       "      <td>10.0</td>\n",
       "      <td>-22</td>\n",
       "      <td>-3.0</td>\n",
       "      <td>1034.0</td>\n",
       "      <td>237.78</td>\n",
       "      <td>0</td>\n",
       "      <td>0</td>\n",
       "      <td>0</td>\n",
       "      <td>1</td>\n",
       "      <td>0</td>\n",
       "      <td>0</td>\n",
       "    </tr>\n",
       "    <tr>\n",
       "      <th>2014-12-31 21:00:00</th>\n",
       "      <td>10.0</td>\n",
       "      <td>-22</td>\n",
       "      <td>-3.0</td>\n",
       "      <td>1034.0</td>\n",
       "      <td>242.70</td>\n",
       "      <td>0</td>\n",
       "      <td>0</td>\n",
       "      <td>0</td>\n",
       "      <td>1</td>\n",
       "      <td>0</td>\n",
       "      <td>0</td>\n",
       "    </tr>\n",
       "    <tr>\n",
       "      <th>2014-12-31 22:00:00</th>\n",
       "      <td>8.0</td>\n",
       "      <td>-22</td>\n",
       "      <td>-4.0</td>\n",
       "      <td>1034.0</td>\n",
       "      <td>246.72</td>\n",
       "      <td>0</td>\n",
       "      <td>0</td>\n",
       "      <td>0</td>\n",
       "      <td>1</td>\n",
       "      <td>0</td>\n",
       "      <td>0</td>\n",
       "    </tr>\n",
       "    <tr>\n",
       "      <th>2014-12-31 23:00:00</th>\n",
       "      <td>12.0</td>\n",
       "      <td>-21</td>\n",
       "      <td>-3.0</td>\n",
       "      <td>1034.0</td>\n",
       "      <td>249.85</td>\n",
       "      <td>0</td>\n",
       "      <td>0</td>\n",
       "      <td>0</td>\n",
       "      <td>1</td>\n",
       "      <td>0</td>\n",
       "      <td>0</td>\n",
       "    </tr>\n",
       "  </tbody>\n",
       "</table>\n",
       "<p>43800 rows × 11 columns</p>\n",
       "</div>"
      ],
      "text/plain": [
       "                     pm2.5  DEWP  TEMP    PRES     Iws  Is  Ir  NE  NW  SE  cv\n",
       "tm                                                                            \n",
       "2010-01-02 00:00:00  129.0   -16  -4.0  1020.0    1.79   0   0   0   0   1   0\n",
       "2010-01-02 01:00:00  148.0   -15  -4.0  1020.0    2.68   0   0   0   0   1   0\n",
       "2010-01-02 02:00:00  159.0   -11  -5.0  1021.0    3.57   0   0   0   0   1   0\n",
       "2010-01-02 03:00:00  181.0    -7  -5.0  1022.0    5.36   1   0   0   0   1   0\n",
       "2010-01-02 04:00:00  138.0    -7  -5.0  1022.0    6.25   2   0   0   0   1   0\n",
       "...                    ...   ...   ...     ...     ...  ..  ..  ..  ..  ..  ..\n",
       "2014-12-31 19:00:00    8.0   -23  -2.0  1034.0  231.97   0   0   0   1   0   0\n",
       "2014-12-31 20:00:00   10.0   -22  -3.0  1034.0  237.78   0   0   0   1   0   0\n",
       "2014-12-31 21:00:00   10.0   -22  -3.0  1034.0  242.70   0   0   0   1   0   0\n",
       "2014-12-31 22:00:00    8.0   -22  -4.0  1034.0  246.72   0   0   0   1   0   0\n",
       "2014-12-31 23:00:00   12.0   -21  -3.0  1034.0  249.85   0   0   0   1   0   0\n",
       "\n",
       "[43800 rows x 11 columns]"
      ]
     },
     "execution_count": 31,
     "metadata": {},
     "output_type": "execute_result"
    }
   ],
   "source": [
    "data "
   ]
  },
  {
   "cell_type": "code",
   "execution_count": 32,
   "id": "a98cd50e",
   "metadata": {
    "execution": {
     "iopub.execute_input": "2023-04-08T15:32:06.998025Z",
     "iopub.status.busy": "2023-04-08T15:32:06.997727Z",
     "iopub.status.idle": "2023-04-08T15:32:09.642942Z",
     "shell.execute_reply": "2023-04-08T15:32:09.641888Z",
     "shell.execute_reply.started": "2023-04-08T15:32:06.997996Z"
    }
   },
   "outputs": [],
   "source": [
    "#提取六天数据\n",
    "data_ = []\n",
    "for i in range(len(data)-seq_length-delay):\n",
    "    data_.append(data.iloc[i:i+seq_length+delay])"
   ]
  },
  {
   "cell_type": "code",
   "execution_count": 33,
   "id": "0e7b642f",
   "metadata": {
    "execution": {
     "iopub.execute_input": "2023-04-08T15:32:09.645050Z",
     "iopub.status.busy": "2023-04-08T15:32:09.644666Z",
     "iopub.status.idle": "2023-04-08T15:32:09.651755Z",
     "shell.execute_reply": "2023-04-08T15:32:09.650659Z",
     "shell.execute_reply.started": "2023-04-08T15:32:09.645011Z"
    }
   },
   "outputs": [
    {
     "data": {
      "text/plain": [
       "(144, 11)"
      ]
     },
     "execution_count": 33,
     "metadata": {},
     "output_type": "execute_result"
    }
   ],
   "source": [
    "data_[0].shape"
   ]
  },
  {
   "cell_type": "code",
   "execution_count": 34,
   "id": "07f8699c",
   "metadata": {
    "execution": {
     "iopub.execute_input": "2023-04-08T15:32:09.653882Z",
     "iopub.status.busy": "2023-04-08T15:32:09.653278Z",
     "iopub.status.idle": "2023-04-08T15:32:22.780678Z",
     "shell.execute_reply": "2023-04-08T15:32:22.779270Z",
     "shell.execute_reply.started": "2023-04-08T15:32:09.653844Z"
    }
   },
   "outputs": [],
   "source": [
    "#将数据变成array类型\n",
    "data_ = np.array([df.values for df in data_])"
   ]
  },
  {
   "cell_type": "code",
   "execution_count": 35,
   "id": "8fd3de04",
   "metadata": {
    "execution": {
     "iopub.execute_input": "2023-04-08T15:32:22.782478Z",
     "iopub.status.busy": "2023-04-08T15:32:22.782072Z",
     "iopub.status.idle": "2023-04-08T15:32:22.791926Z",
     "shell.execute_reply": "2023-04-08T15:32:22.790724Z",
     "shell.execute_reply.started": "2023-04-08T15:32:22.782433Z"
    }
   },
   "outputs": [
    {
     "data": {
      "text/plain": [
       "(43656, 144, 11)"
      ]
     },
     "execution_count": 35,
     "metadata": {},
     "output_type": "execute_result"
    }
   ],
   "source": [
    "data_.shape"
   ]
  },
  {
   "cell_type": "code",
   "execution_count": 36,
   "id": "d9237307",
   "metadata": {
    "execution": {
     "iopub.execute_input": "2023-04-08T15:32:22.794162Z",
     "iopub.status.busy": "2023-04-08T15:32:22.793493Z",
     "iopub.status.idle": "2023-04-08T15:32:22.969336Z",
     "shell.execute_reply": "2023-04-08T15:32:22.968249Z",
     "shell.execute_reply.started": "2023-04-08T15:32:22.794122Z"
    }
   },
   "outputs": [],
   "source": [
    "#乱序\n",
    "np.random.shuffle(data_)"
   ]
  },
  {
   "cell_type": "code",
   "execution_count": 37,
   "id": "7f6e4213",
   "metadata": {
    "execution": {
     "iopub.execute_input": "2023-04-08T15:32:22.974618Z",
     "iopub.status.busy": "2023-04-08T15:32:22.974316Z",
     "iopub.status.idle": "2023-04-08T15:32:22.979401Z",
     "shell.execute_reply": "2023-04-08T15:32:22.978102Z",
     "shell.execute_reply.started": "2023-04-08T15:32:22.974591Z"
    }
   },
   "outputs": [],
   "source": [
    "#划分train与label\n",
    "x = data_[:, :5*24,:]"
   ]
  },
  {
   "cell_type": "code",
   "execution_count": 38,
   "id": "43f56010",
   "metadata": {
    "execution": {
     "iopub.execute_input": "2023-04-08T15:32:22.981678Z",
     "iopub.status.busy": "2023-04-08T15:32:22.981050Z",
     "iopub.status.idle": "2023-04-08T15:32:22.990321Z",
     "shell.execute_reply": "2023-04-08T15:32:22.989186Z",
     "shell.execute_reply.started": "2023-04-08T15:32:22.981638Z"
    }
   },
   "outputs": [],
   "source": [
    "y = data_[:, -1, 0] #第二维取最后一个值，第三维取第一个值pm2.5"
   ]
  },
  {
   "cell_type": "code",
   "execution_count": 39,
   "id": "24032012",
   "metadata": {
    "execution": {
     "iopub.execute_input": "2023-04-08T15:32:22.993804Z",
     "iopub.status.busy": "2023-04-08T15:32:22.992783Z",
     "iopub.status.idle": "2023-04-08T15:32:23.003400Z",
     "shell.execute_reply": "2023-04-08T15:32:23.002244Z",
     "shell.execute_reply.started": "2023-04-08T15:32:22.993766Z"
    }
   },
   "outputs": [
    {
     "data": {
      "text/plain": [
       "(43656, 120, 11)"
      ]
     },
     "execution_count": 39,
     "metadata": {},
     "output_type": "execute_result"
    }
   ],
   "source": [
    "x.shape"
   ]
  },
  {
   "cell_type": "code",
   "execution_count": 40,
   "id": "ef84eaa2",
   "metadata": {
    "execution": {
     "iopub.execute_input": "2023-04-08T15:32:23.006902Z",
     "iopub.status.busy": "2023-04-08T15:32:23.005936Z",
     "iopub.status.idle": "2023-04-08T15:32:23.014105Z",
     "shell.execute_reply": "2023-04-08T15:32:23.012940Z",
     "shell.execute_reply.started": "2023-04-08T15:32:23.006860Z"
    }
   },
   "outputs": [
    {
     "data": {
      "text/plain": [
       "(43656,)"
      ]
     },
     "execution_count": 40,
     "metadata": {},
     "output_type": "execute_result"
    }
   ],
   "source": [
    "y.shape"
   ]
  },
  {
   "cell_type": "code",
   "execution_count": 41,
   "id": "36e8c90b",
   "metadata": {
    "execution": {
     "iopub.execute_input": "2023-04-08T15:32:23.015833Z",
     "iopub.status.busy": "2023-04-08T15:32:23.015423Z",
     "iopub.status.idle": "2023-04-08T15:32:23.023883Z",
     "shell.execute_reply": "2023-04-08T15:32:23.022842Z",
     "shell.execute_reply.started": "2023-04-08T15:32:23.015797Z"
    }
   },
   "outputs": [],
   "source": [
    "#划分训练数据与测试数据"
   ]
  },
  {
   "cell_type": "code",
   "execution_count": 42,
   "id": "733e7778",
   "metadata": {
    "execution": {
     "iopub.execute_input": "2023-04-08T15:32:23.026098Z",
     "iopub.status.busy": "2023-04-08T15:32:23.025673Z",
     "iopub.status.idle": "2023-04-08T15:32:23.035337Z",
     "shell.execute_reply": "2023-04-08T15:32:23.034127Z",
     "shell.execute_reply.started": "2023-04-08T15:32:23.026053Z"
    }
   },
   "outputs": [],
   "source": [
    "#已经shuffle,可以直接切片"
   ]
  },
  {
   "cell_type": "code",
   "execution_count": 43,
   "id": "601266a9",
   "metadata": {
    "execution": {
     "iopub.execute_input": "2023-04-08T15:32:23.037464Z",
     "iopub.status.busy": "2023-04-08T15:32:23.036637Z",
     "iopub.status.idle": "2023-04-08T15:32:23.046363Z",
     "shell.execute_reply": "2023-04-08T15:32:23.045234Z",
     "shell.execute_reply.started": "2023-04-08T15:32:23.037429Z"
    }
   },
   "outputs": [],
   "source": [
    "split_b = int(data_.shape[0]*0.8)"
   ]
  },
  {
   "cell_type": "code",
   "execution_count": 44,
   "id": "4bc0b5e3",
   "metadata": {
    "execution": {
     "iopub.execute_input": "2023-04-08T15:32:23.048630Z",
     "iopub.status.busy": "2023-04-08T15:32:23.047816Z",
     "iopub.status.idle": "2023-04-08T15:32:23.056485Z",
     "shell.execute_reply": "2023-04-08T15:32:23.055715Z",
     "shell.execute_reply.started": "2023-04-08T15:32:23.048584Z"
    }
   },
   "outputs": [],
   "source": [
    "train_x = x[:split_b]\n",
    "train_y = y[:split_b]\n",
    "\n",
    "test_x = x[split_b:]\n",
    "test_y = y[split_b:]"
   ]
  },
  {
   "cell_type": "code",
   "execution_count": 45,
   "id": "f2fad2fb",
   "metadata": {
    "execution": {
     "iopub.execute_input": "2023-04-08T15:32:23.058871Z",
     "iopub.status.busy": "2023-04-08T15:32:23.057909Z",
     "iopub.status.idle": "2023-04-08T15:32:23.070216Z",
     "shell.execute_reply": "2023-04-08T15:32:23.069246Z",
     "shell.execute_reply.started": "2023-04-08T15:32:23.058845Z"
    }
   },
   "outputs": [
    {
     "data": {
      "text/plain": [
       "((34924, 120, 11), (34924,))"
      ]
     },
     "execution_count": 45,
     "metadata": {},
     "output_type": "execute_result"
    }
   ],
   "source": [
    "train_x.shape, train_y.shape"
   ]
  },
  {
   "cell_type": "code",
   "execution_count": 46,
   "id": "307e687b",
   "metadata": {
    "execution": {
     "iopub.execute_input": "2023-04-08T15:32:23.072402Z",
     "iopub.status.busy": "2023-04-08T15:32:23.071532Z",
     "iopub.status.idle": "2023-04-08T15:32:23.084287Z",
     "shell.execute_reply": "2023-04-08T15:32:23.082883Z",
     "shell.execute_reply.started": "2023-04-08T15:32:23.072367Z"
    }
   },
   "outputs": [
    {
     "data": {
      "text/plain": [
       "((8732, 120, 11), (8732,))"
      ]
     },
     "execution_count": 46,
     "metadata": {},
     "output_type": "execute_result"
    }
   ],
   "source": [
    "test_x.shape, test_y.shape"
   ]
  },
  {
   "cell_type": "code",
   "execution_count": 47,
   "id": "3df460a3",
   "metadata": {
    "execution": {
     "iopub.execute_input": "2023-04-08T15:32:23.086697Z",
     "iopub.status.busy": "2023-04-08T15:32:23.086282Z",
     "iopub.status.idle": "2023-04-08T15:32:23.091884Z",
     "shell.execute_reply": "2023-04-08T15:32:23.090766Z",
     "shell.execute_reply.started": "2023-04-08T15:32:23.086661Z"
    }
   },
   "outputs": [],
   "source": [
    "#数据标准化\n",
    "#是在训练数据的方差与均值"
   ]
  },
  {
   "cell_type": "code",
   "execution_count": 48,
   "id": "ea0e2d8f",
   "metadata": {
    "execution": {
     "iopub.execute_input": "2023-04-08T15:32:23.094455Z",
     "iopub.status.busy": "2023-04-08T15:32:23.093971Z",
     "iopub.status.idle": "2023-04-08T15:32:23.375113Z",
     "shell.execute_reply": "2023-04-08T15:32:23.374086Z",
     "shell.execute_reply.started": "2023-04-08T15:32:23.094416Z"
    }
   },
   "outputs": [],
   "source": [
    "mean = train_x.mean(axis=0)#计算每一列的均值 axis=0是指每一列\n",
    "std = train_x.std(axis=0)#方差"
   ]
  },
  {
   "cell_type": "code",
   "execution_count": 49,
   "id": "aea8ee2e",
   "metadata": {
    "execution": {
     "iopub.execute_input": "2023-04-08T15:32:23.377331Z",
     "iopub.status.busy": "2023-04-08T15:32:23.376744Z",
     "iopub.status.idle": "2023-04-08T15:32:23.642256Z",
     "shell.execute_reply": "2023-04-08T15:32:23.641052Z",
     "shell.execute_reply.started": "2023-04-08T15:32:23.377291Z"
    }
   },
   "outputs": [],
   "source": [
    "train_x = (train_x - mean)/std"
   ]
  },
  {
   "cell_type": "code",
   "execution_count": 50,
   "id": "674a9e49",
   "metadata": {
    "execution": {
     "iopub.execute_input": "2023-04-08T15:32:23.644375Z",
     "iopub.status.busy": "2023-04-08T15:32:23.643933Z",
     "iopub.status.idle": "2023-04-08T15:32:23.694716Z",
     "shell.execute_reply": "2023-04-08T15:32:23.693731Z",
     "shell.execute_reply.started": "2023-04-08T15:32:23.644332Z"
    }
   },
   "outputs": [],
   "source": [
    "test_x = (test_x - mean)/std"
   ]
  },
  {
   "cell_type": "code",
   "execution_count": 51,
   "id": "caa154f3",
   "metadata": {
    "execution": {
     "iopub.execute_input": "2023-04-08T15:32:23.696936Z",
     "iopub.status.busy": "2023-04-08T15:32:23.696520Z",
     "iopub.status.idle": "2023-04-08T15:32:23.705080Z",
     "shell.execute_reply": "2023-04-08T15:32:23.703933Z",
     "shell.execute_reply.started": "2023-04-08T15:32:23.696896Z"
    }
   },
   "outputs": [
    {
     "data": {
      "text/plain": [
       "(34924, 120, 11)"
      ]
     },
     "execution_count": 51,
     "metadata": {},
     "output_type": "execute_result"
    }
   ],
   "source": [
    "train_x.shape\n",
    "#dense层需要二维数据"
   ]
  },
  {
   "cell_type": "code",
   "execution_count": 52,
   "id": "409df521",
   "metadata": {
    "execution": {
     "iopub.execute_input": "2023-04-08T15:32:23.707605Z",
     "iopub.status.busy": "2023-04-08T15:32:23.706849Z",
     "iopub.status.idle": "2023-04-08T15:32:23.712647Z",
     "shell.execute_reply": "2023-04-08T15:32:23.711462Z",
     "shell.execute_reply.started": "2023-04-08T15:32:23.707568Z"
    }
   },
   "outputs": [],
   "source": [
    "batch_size = 128"
   ]
  },
  {
   "cell_type": "code",
   "execution_count": 53,
   "id": "871def7a",
   "metadata": {
    "execution": {
     "iopub.execute_input": "2023-04-08T15:33:54.161120Z",
     "iopub.status.busy": "2023-04-08T15:33:54.160459Z",
     "iopub.status.idle": "2023-04-08T15:33:54.165593Z",
     "shell.execute_reply": "2023-04-08T15:33:54.164306Z",
     "shell.execute_reply.started": "2023-04-08T15:33:54.161079Z"
    }
   },
   "outputs": [],
   "source": [
    "#使用LSTM网络模型"
   ]
  },
  {
   "cell_type": "code",
   "execution_count": 54,
   "id": "b3407718",
   "metadata": {
    "execution": {
     "iopub.execute_input": "2023-04-08T15:33:54.169101Z",
     "iopub.status.busy": "2023-04-08T15:33:54.168349Z",
     "iopub.status.idle": "2023-04-08T15:33:54.177906Z",
     "shell.execute_reply": "2023-04-08T15:33:54.176758Z",
     "shell.execute_reply.started": "2023-04-08T15:33:54.169061Z"
    }
   },
   "outputs": [
    {
     "data": {
      "text/plain": [
       "(34924, 120, 11)"
      ]
     },
     "execution_count": 54,
     "metadata": {},
     "output_type": "execute_result"
    }
   ],
   "source": [
    "train_x.shape #LSTM网络需要的就是三维的数据"
   ]
  },
  {
   "cell_type": "code",
   "execution_count": 55,
   "id": "aeec7752",
   "metadata": {},
   "outputs": [],
   "source": [
    "# old_model = keras.Sequential()\n",
    "# old_model.add(layers.LSTM(32,input_shape=(120,11))) #LSTM网络需要的就是三维的数据 32是隐藏单元数 #如果需要堆叠多层需要设置return_seuences=True参数\n",
    "# old_model.add(layers.Dense(1))"
   ]
  },
  {
   "cell_type": "code",
   "execution_count": 56,
   "id": "41d6f87e",
   "metadata": {},
   "outputs": [],
   "source": [
    "# old_model.compile(optimizer='adam',\n",
    "#              loss='mae')#mae是平均绝对误差"
   ]
  },
  {
   "cell_type": "code",
   "execution_count": 57,
   "id": "8e04ff24",
   "metadata": {},
   "outputs": [],
   "source": [
    "#history = old_model.fit(train_x,\n",
    "#                    train_y,\n",
    "#                     batch_size=batch_size,\n",
    "#                     epochs=150,\n",
    "#                     validation_data=(test_x,test_y))"
   ]
  },
  {
   "cell_type": "code",
   "execution_count": 58,
   "id": "6c2646d0",
   "metadata": {},
   "outputs": [],
   "source": [
    "# old_model.save('old_model.h5')"
   ]
  },
  {
   "cell_type": "code",
   "execution_count": 59,
   "id": "9de7e982",
   "metadata": {},
   "outputs": [],
   "source": [
    "# model = tf.keras.models.load_model('old_model.h5')"
   ]
  },
  {
   "cell_type": "code",
   "execution_count": null,
   "id": "a0f597c7",
   "metadata": {},
   "outputs": [],
   "source": []
  },
  {
   "cell_type": "code",
   "execution_count": 60,
   "id": "b21be79d",
   "metadata": {},
   "outputs": [],
   "source": [
    "#预测的平均绝对误差\n",
    "# plt.plot(history.epoch, history.history['loss'],c='r') #训练数据上\n",
    "# plt.plot(history.epoch, history.history['val_loss'],c='g') #测试数据上"
   ]
  },
  {
   "cell_type": "code",
   "execution_count": 61,
   "id": "d2908366",
   "metadata": {},
   "outputs": [],
   "source": [
    "#优化函数之后"
   ]
  },
  {
   "cell_type": "code",
   "execution_count": 62,
   "id": "b3bb8bf6",
   "metadata": {
    "execution": {
     "iopub.execute_input": "2023-04-08T15:33:54.179982Z",
     "iopub.status.busy": "2023-04-08T15:33:54.179621Z",
     "iopub.status.idle": "2023-04-08T15:33:55.173256Z",
     "shell.execute_reply": "2023-04-08T15:33:55.172254Z",
     "shell.execute_reply.started": "2023-04-08T15:33:54.179946Z"
    }
   },
   "outputs": [],
   "source": [
    "model = keras.Sequential()\n",
    "model.add(layers.LSTM(32,input_shape=(120,11), return_sequences=True)) #LSTM网络需要的就是三维的数据 32是隐藏单元数 #如果需要堆叠多层需要设置return_seuences=True参数\n",
    "model.add(layers.LSTM(32, return_sequences=True))\n",
    "model.add(layers.LSTM(32))\n",
    "model.add(layers.Dense(1))"
   ]
  },
  {
   "cell_type": "code",
   "execution_count": 63,
   "id": "7629df32",
   "metadata": {
    "execution": {
     "iopub.execute_input": "2023-04-08T15:33:55.177295Z",
     "iopub.status.busy": "2023-04-08T15:33:55.176902Z",
     "iopub.status.idle": "2023-04-08T15:33:55.182686Z",
     "shell.execute_reply": "2023-04-08T15:33:55.181351Z",
     "shell.execute_reply.started": "2023-04-08T15:33:55.177261Z"
    }
   },
   "outputs": [],
   "source": [
    "#定义回调函数：降低学习速率\n",
    "lr_reduce = keras.callbacks.ReduceLROnPlateau('val_loss', patience=3, factor=0.5, min_lr=0.00001) #连续3个epochs中val_loss都没有降低，那么就降低学习速率,factor为降低的倍率,min_lr为最低的学习速率"
   ]
  },
  {
   "cell_type": "code",
   "execution_count": 64,
   "id": "d8b51354",
   "metadata": {
    "execution": {
     "iopub.execute_input": "2023-04-08T15:33:55.185223Z",
     "iopub.status.busy": "2023-04-08T15:33:55.184511Z",
     "iopub.status.idle": "2023-04-08T15:33:55.199389Z",
     "shell.execute_reply": "2023-04-08T15:33:55.198318Z",
     "shell.execute_reply.started": "2023-04-08T15:33:55.185173Z"
    }
   },
   "outputs": [],
   "source": [
    "model.compile(optimizer='adam',\n",
    "             loss='mae')#mae是平均绝对误差"
   ]
  },
  {
   "cell_type": "code",
   "execution_count": 65,
   "id": "91362c83",
   "metadata": {
    "execution": {
     "iopub.execute_input": "2023-04-08T15:33:55.201413Z",
     "iopub.status.busy": "2023-04-08T15:33:55.200966Z"
    }
   },
   "outputs": [],
   "source": [
    "# history = model.fit(train_x,\n",
    "#                    train_y,\n",
    "#                     batch_size=batch_size,\n",
    "#                     epochs=200,\n",
    "#                     callbacks=[lr_reduce], #降低学习速率\n",
    "#                     validation_data=(test_x,test_y))"
   ]
  },
  {
   "cell_type": "code",
   "execution_count": 66,
   "id": "d92ef57e",
   "metadata": {},
   "outputs": [],
   "source": [
    "# model.save('new_model.h5')"
   ]
  },
  {
   "cell_type": "code",
   "execution_count": 67,
   "id": "cae075c8",
   "metadata": {},
   "outputs": [],
   "source": [
    "model = tf.keras.models.load_model('new_model.h5')"
   ]
  },
  {
   "cell_type": "code",
   "execution_count": 68,
   "id": "78f09f80",
   "metadata": {},
   "outputs": [],
   "source": [
    "#预测的平均绝对误差\n",
    "# plt.plot(history.epoch, history.history['loss'],c='r') #训练数据上\n",
    "# plt.plot(history.epoch, history.history['val_loss'],c='g') #测试数据上"
   ]
  },
  {
   "cell_type": "code",
   "execution_count": 69,
   "id": "0ce023ce",
   "metadata": {},
   "outputs": [],
   "source": [
    "# 使用模型进行预测"
   ]
  },
  {
   "cell_type": "code",
   "execution_count": 70,
   "id": "070309c8",
   "metadata": {},
   "outputs": [
    {
     "name": "stdout",
     "output_type": "stream",
     "text": [
      "WARNING:tensorflow:AutoGraph could not transform <function Model.make_test_function.<locals>.test_function at 0x000001E09575AF78> and will run it as-is.\n",
      "Please report this to the TensorFlow team. When filing the bug, set the verbosity to 10 (on Linux, `export AUTOGRAPH_VERBOSITY=10`) and attach the full output.\n",
      "Cause: 'arguments' object has no attribute 'posonlyargs'\n",
      "To silence this warning, decorate the function with @tf.autograph.experimental.do_not_convert\n",
      "WARNING: AutoGraph could not transform <function Model.make_test_function.<locals>.test_function at 0x000001E09575AF78> and will run it as-is.\n",
      "Please report this to the TensorFlow team. When filing the bug, set the verbosity to 10 (on Linux, `export AUTOGRAPH_VERBOSITY=10`) and attach the full output.\n",
      "Cause: 'arguments' object has no attribute 'posonlyargs'\n",
      "To silence this warning, decorate the function with @tf.autograph.experimental.do_not_convert\n",
      "273/273 [==============================] - 7s 17ms/step - loss: 24.2379\n"
     ]
    },
    {
     "data": {
      "text/plain": [
       "24.237895965576172"
      ]
     },
     "execution_count": 70,
     "metadata": {},
     "output_type": "execute_result"
    }
   ],
   "source": [
    "#使用测试数据进行评价\n",
    "model.evaluate(test_x, test_y)\n",
    "#model.evaluate(test_x, test_y, verbose=0) #verbose=0不显示进度条  32.0068"
   ]
  },
  {
   "cell_type": "code",
   "execution_count": 71,
   "id": "0e707234",
   "metadata": {},
   "outputs": [
    {
     "name": "stdout",
     "output_type": "stream",
     "text": [
      "WARNING:tensorflow:AutoGraph could not transform <function Model.make_predict_function.<locals>.predict_function at 0x000001E0BB18DDC8> and will run it as-is.\n",
      "Please report this to the TensorFlow team. When filing the bug, set the verbosity to 10 (on Linux, `export AUTOGRAPH_VERBOSITY=10`) and attach the full output.\n",
      "Cause: 'arguments' object has no attribute 'posonlyargs'\n",
      "To silence this warning, decorate the function with @tf.autograph.experimental.do_not_convert\n",
      "WARNING: AutoGraph could not transform <function Model.make_predict_function.<locals>.predict_function at 0x000001E0BB18DDC8> and will run it as-is.\n",
      "Please report this to the TensorFlow team. When filing the bug, set the verbosity to 10 (on Linux, `export AUTOGRAPH_VERBOSITY=10`) and attach the full output.\n",
      "Cause: 'arguments' object has no attribute 'posonlyargs'\n",
      "To silence this warning, decorate the function with @tf.autograph.experimental.do_not_convert\n",
      "273/273 [==============================] - 6s 17ms/step\n"
     ]
    }
   ],
   "source": [
    "# 预测多条数据\n",
    "pre_test = model.predict(test_x)"
   ]
  },
  {
   "cell_type": "code",
   "execution_count": 72,
   "id": "35557be6",
   "metadata": {},
   "outputs": [
    {
     "data": {
      "text/plain": [
       "array([[116.43028 ],\n",
       "       [130.87187 ],\n",
       "       [ 36.19162 ],\n",
       "       ...,\n",
       "       [ 76.968636],\n",
       "       [244.87383 ],\n",
       "       [108.53254 ]], dtype=float32)"
      ]
     },
     "execution_count": 72,
     "metadata": {},
     "output_type": "execute_result"
    }
   ],
   "source": [
    "pre_test"
   ]
  },
  {
   "cell_type": "code",
   "execution_count": 73,
   "id": "5135c103",
   "metadata": {},
   "outputs": [
    {
     "data": {
      "text/plain": [
       "(8732, 120, 11)"
      ]
     },
     "execution_count": 73,
     "metadata": {},
     "output_type": "execute_result"
    }
   ],
   "source": [
    "test_x.shape"
   ]
  },
  {
   "cell_type": "code",
   "execution_count": 74,
   "id": "023efc09",
   "metadata": {},
   "outputs": [
    {
     "data": {
      "text/plain": [
       "(8732, 1)"
      ]
     },
     "execution_count": 74,
     "metadata": {},
     "output_type": "execute_result"
    }
   ],
   "source": [
    "pre_test.shape"
   ]
  },
  {
   "cell_type": "code",
   "execution_count": 75,
   "id": "b9c8922b",
   "metadata": {},
   "outputs": [
    {
     "data": {
      "text/plain": [
       "array([[116.43028 ],\n",
       "       [130.87187 ],\n",
       "       [ 36.19162 ],\n",
       "       [110.05873 ],\n",
       "       [ 14.037188]], dtype=float32)"
      ]
     },
     "execution_count": 75,
     "metadata": {},
     "output_type": "execute_result"
    }
   ],
   "source": [
    "pre_test[:5]"
   ]
  },
  {
   "cell_type": "code",
   "execution_count": 76,
   "id": "b8be2200",
   "metadata": {},
   "outputs": [],
   "source": [
    "#对单条数据进行预测"
   ]
  },
  {
   "cell_type": "code",
   "execution_count": 77,
   "id": "2d3219fa",
   "metadata": {},
   "outputs": [],
   "source": [
    "data = pd.read_csv('./dataset/PRSA_data_2010.1.1-2014.12.31.csv')"
   ]
  },
  {
   "cell_type": "code",
   "execution_count": 78,
   "id": "c2819b0e",
   "metadata": {},
   "outputs": [],
   "source": [
    "data_test = data[-120:]  #模型是选取5天的数据"
   ]
  },
  {
   "cell_type": "code",
   "execution_count": 79,
   "id": "e77478aa",
   "metadata": {},
   "outputs": [
    {
     "data": {
      "text/html": [
       "<div>\n",
       "<style scoped>\n",
       "    .dataframe tbody tr th:only-of-type {\n",
       "        vertical-align: middle;\n",
       "    }\n",
       "\n",
       "    .dataframe tbody tr th {\n",
       "        vertical-align: top;\n",
       "    }\n",
       "\n",
       "    .dataframe thead th {\n",
       "        text-align: right;\n",
       "    }\n",
       "</style>\n",
       "<table border=\"1\" class=\"dataframe\">\n",
       "  <thead>\n",
       "    <tr style=\"text-align: right;\">\n",
       "      <th></th>\n",
       "      <th>No</th>\n",
       "      <th>year</th>\n",
       "      <th>month</th>\n",
       "      <th>day</th>\n",
       "      <th>hour</th>\n",
       "      <th>pm2.5</th>\n",
       "      <th>DEWP</th>\n",
       "      <th>TEMP</th>\n",
       "      <th>PRES</th>\n",
       "      <th>cbwd</th>\n",
       "      <th>Iws</th>\n",
       "      <th>Is</th>\n",
       "      <th>Ir</th>\n",
       "    </tr>\n",
       "  </thead>\n",
       "  <tbody>\n",
       "    <tr>\n",
       "      <th>43704</th>\n",
       "      <td>43705</td>\n",
       "      <td>2014</td>\n",
       "      <td>12</td>\n",
       "      <td>27</td>\n",
       "      <td>0</td>\n",
       "      <td>163.0</td>\n",
       "      <td>-10</td>\n",
       "      <td>-5.0</td>\n",
       "      <td>1030.0</td>\n",
       "      <td>NW</td>\n",
       "      <td>1.79</td>\n",
       "      <td>0</td>\n",
       "      <td>0</td>\n",
       "    </tr>\n",
       "    <tr>\n",
       "      <th>43705</th>\n",
       "      <td>43706</td>\n",
       "      <td>2014</td>\n",
       "      <td>12</td>\n",
       "      <td>27</td>\n",
       "      <td>1</td>\n",
       "      <td>194.0</td>\n",
       "      <td>-10</td>\n",
       "      <td>-5.0</td>\n",
       "      <td>1030.0</td>\n",
       "      <td>NW</td>\n",
       "      <td>3.58</td>\n",
       "      <td>0</td>\n",
       "      <td>0</td>\n",
       "    </tr>\n",
       "    <tr>\n",
       "      <th>43706</th>\n",
       "      <td>43707</td>\n",
       "      <td>2014</td>\n",
       "      <td>12</td>\n",
       "      <td>27</td>\n",
       "      <td>2</td>\n",
       "      <td>187.0</td>\n",
       "      <td>-10</td>\n",
       "      <td>-5.0</td>\n",
       "      <td>1030.0</td>\n",
       "      <td>NW</td>\n",
       "      <td>5.37</td>\n",
       "      <td>0</td>\n",
       "      <td>0</td>\n",
       "    </tr>\n",
       "    <tr>\n",
       "      <th>43707</th>\n",
       "      <td>43708</td>\n",
       "      <td>2014</td>\n",
       "      <td>12</td>\n",
       "      <td>27</td>\n",
       "      <td>3</td>\n",
       "      <td>216.0</td>\n",
       "      <td>-11</td>\n",
       "      <td>-6.0</td>\n",
       "      <td>1030.0</td>\n",
       "      <td>NW</td>\n",
       "      <td>7.16</td>\n",
       "      <td>0</td>\n",
       "      <td>0</td>\n",
       "    </tr>\n",
       "    <tr>\n",
       "      <th>43708</th>\n",
       "      <td>43709</td>\n",
       "      <td>2014</td>\n",
       "      <td>12</td>\n",
       "      <td>27</td>\n",
       "      <td>4</td>\n",
       "      <td>225.0</td>\n",
       "      <td>-11</td>\n",
       "      <td>-6.0</td>\n",
       "      <td>1030.0</td>\n",
       "      <td>NW</td>\n",
       "      <td>8.95</td>\n",
       "      <td>0</td>\n",
       "      <td>0</td>\n",
       "    </tr>\n",
       "    <tr>\n",
       "      <th>...</th>\n",
       "      <td>...</td>\n",
       "      <td>...</td>\n",
       "      <td>...</td>\n",
       "      <td>...</td>\n",
       "      <td>...</td>\n",
       "      <td>...</td>\n",
       "      <td>...</td>\n",
       "      <td>...</td>\n",
       "      <td>...</td>\n",
       "      <td>...</td>\n",
       "      <td>...</td>\n",
       "      <td>...</td>\n",
       "      <td>...</td>\n",
       "    </tr>\n",
       "    <tr>\n",
       "      <th>43819</th>\n",
       "      <td>43820</td>\n",
       "      <td>2014</td>\n",
       "      <td>12</td>\n",
       "      <td>31</td>\n",
       "      <td>19</td>\n",
       "      <td>8.0</td>\n",
       "      <td>-23</td>\n",
       "      <td>-2.0</td>\n",
       "      <td>1034.0</td>\n",
       "      <td>NW</td>\n",
       "      <td>231.97</td>\n",
       "      <td>0</td>\n",
       "      <td>0</td>\n",
       "    </tr>\n",
       "    <tr>\n",
       "      <th>43820</th>\n",
       "      <td>43821</td>\n",
       "      <td>2014</td>\n",
       "      <td>12</td>\n",
       "      <td>31</td>\n",
       "      <td>20</td>\n",
       "      <td>10.0</td>\n",
       "      <td>-22</td>\n",
       "      <td>-3.0</td>\n",
       "      <td>1034.0</td>\n",
       "      <td>NW</td>\n",
       "      <td>237.78</td>\n",
       "      <td>0</td>\n",
       "      <td>0</td>\n",
       "    </tr>\n",
       "    <tr>\n",
       "      <th>43821</th>\n",
       "      <td>43822</td>\n",
       "      <td>2014</td>\n",
       "      <td>12</td>\n",
       "      <td>31</td>\n",
       "      <td>21</td>\n",
       "      <td>10.0</td>\n",
       "      <td>-22</td>\n",
       "      <td>-3.0</td>\n",
       "      <td>1034.0</td>\n",
       "      <td>NW</td>\n",
       "      <td>242.70</td>\n",
       "      <td>0</td>\n",
       "      <td>0</td>\n",
       "    </tr>\n",
       "    <tr>\n",
       "      <th>43822</th>\n",
       "      <td>43823</td>\n",
       "      <td>2014</td>\n",
       "      <td>12</td>\n",
       "      <td>31</td>\n",
       "      <td>22</td>\n",
       "      <td>8.0</td>\n",
       "      <td>-22</td>\n",
       "      <td>-4.0</td>\n",
       "      <td>1034.0</td>\n",
       "      <td>NW</td>\n",
       "      <td>246.72</td>\n",
       "      <td>0</td>\n",
       "      <td>0</td>\n",
       "    </tr>\n",
       "    <tr>\n",
       "      <th>43823</th>\n",
       "      <td>43824</td>\n",
       "      <td>2014</td>\n",
       "      <td>12</td>\n",
       "      <td>31</td>\n",
       "      <td>23</td>\n",
       "      <td>12.0</td>\n",
       "      <td>-21</td>\n",
       "      <td>-3.0</td>\n",
       "      <td>1034.0</td>\n",
       "      <td>NW</td>\n",
       "      <td>249.85</td>\n",
       "      <td>0</td>\n",
       "      <td>0</td>\n",
       "    </tr>\n",
       "  </tbody>\n",
       "</table>\n",
       "<p>120 rows × 13 columns</p>\n",
       "</div>"
      ],
      "text/plain": [
       "          No  year  month  day  hour  pm2.5  DEWP  TEMP    PRES cbwd     Iws  \\\n",
       "43704  43705  2014     12   27     0  163.0   -10  -5.0  1030.0   NW    1.79   \n",
       "43705  43706  2014     12   27     1  194.0   -10  -5.0  1030.0   NW    3.58   \n",
       "43706  43707  2014     12   27     2  187.0   -10  -5.0  1030.0   NW    5.37   \n",
       "43707  43708  2014     12   27     3  216.0   -11  -6.0  1030.0   NW    7.16   \n",
       "43708  43709  2014     12   27     4  225.0   -11  -6.0  1030.0   NW    8.95   \n",
       "...      ...   ...    ...  ...   ...    ...   ...   ...     ...  ...     ...   \n",
       "43819  43820  2014     12   31    19    8.0   -23  -2.0  1034.0   NW  231.97   \n",
       "43820  43821  2014     12   31    20   10.0   -22  -3.0  1034.0   NW  237.78   \n",
       "43821  43822  2014     12   31    21   10.0   -22  -3.0  1034.0   NW  242.70   \n",
       "43822  43823  2014     12   31    22    8.0   -22  -4.0  1034.0   NW  246.72   \n",
       "43823  43824  2014     12   31    23   12.0   -21  -3.0  1034.0   NW  249.85   \n",
       "\n",
       "       Is  Ir  \n",
       "43704   0   0  \n",
       "43705   0   0  \n",
       "43706   0   0  \n",
       "43707   0   0  \n",
       "43708   0   0  \n",
       "...    ..  ..  \n",
       "43819   0   0  \n",
       "43820   0   0  \n",
       "43821   0   0  \n",
       "43822   0   0  \n",
       "43823   0   0  \n",
       "\n",
       "[120 rows x 13 columns]"
      ]
     },
     "execution_count": 79,
     "metadata": {},
     "output_type": "execute_result"
    }
   ],
   "source": [
    "data_test"
   ]
  },
  {
   "cell_type": "code",
   "execution_count": 80,
   "id": "fcb72693",
   "metadata": {},
   "outputs": [],
   "source": [
    "data_test = data_test.iloc[:, 5:] #去掉前面的年月日列"
   ]
  },
  {
   "cell_type": "code",
   "execution_count": 81,
   "id": "f0665a11",
   "metadata": {},
   "outputs": [
    {
     "data": {
      "text/html": [
       "<div>\n",
       "<style scoped>\n",
       "    .dataframe tbody tr th:only-of-type {\n",
       "        vertical-align: middle;\n",
       "    }\n",
       "\n",
       "    .dataframe tbody tr th {\n",
       "        vertical-align: top;\n",
       "    }\n",
       "\n",
       "    .dataframe thead th {\n",
       "        text-align: right;\n",
       "    }\n",
       "</style>\n",
       "<table border=\"1\" class=\"dataframe\">\n",
       "  <thead>\n",
       "    <tr style=\"text-align: right;\">\n",
       "      <th></th>\n",
       "      <th>pm2.5</th>\n",
       "      <th>DEWP</th>\n",
       "      <th>TEMP</th>\n",
       "      <th>PRES</th>\n",
       "      <th>cbwd</th>\n",
       "      <th>Iws</th>\n",
       "      <th>Is</th>\n",
       "      <th>Ir</th>\n",
       "    </tr>\n",
       "  </thead>\n",
       "  <tbody>\n",
       "    <tr>\n",
       "      <th>43704</th>\n",
       "      <td>163.0</td>\n",
       "      <td>-10</td>\n",
       "      <td>-5.0</td>\n",
       "      <td>1030.0</td>\n",
       "      <td>NW</td>\n",
       "      <td>1.79</td>\n",
       "      <td>0</td>\n",
       "      <td>0</td>\n",
       "    </tr>\n",
       "    <tr>\n",
       "      <th>43705</th>\n",
       "      <td>194.0</td>\n",
       "      <td>-10</td>\n",
       "      <td>-5.0</td>\n",
       "      <td>1030.0</td>\n",
       "      <td>NW</td>\n",
       "      <td>3.58</td>\n",
       "      <td>0</td>\n",
       "      <td>0</td>\n",
       "    </tr>\n",
       "    <tr>\n",
       "      <th>43706</th>\n",
       "      <td>187.0</td>\n",
       "      <td>-10</td>\n",
       "      <td>-5.0</td>\n",
       "      <td>1030.0</td>\n",
       "      <td>NW</td>\n",
       "      <td>5.37</td>\n",
       "      <td>0</td>\n",
       "      <td>0</td>\n",
       "    </tr>\n",
       "    <tr>\n",
       "      <th>43707</th>\n",
       "      <td>216.0</td>\n",
       "      <td>-11</td>\n",
       "      <td>-6.0</td>\n",
       "      <td>1030.0</td>\n",
       "      <td>NW</td>\n",
       "      <td>7.16</td>\n",
       "      <td>0</td>\n",
       "      <td>0</td>\n",
       "    </tr>\n",
       "    <tr>\n",
       "      <th>43708</th>\n",
       "      <td>225.0</td>\n",
       "      <td>-11</td>\n",
       "      <td>-6.0</td>\n",
       "      <td>1030.0</td>\n",
       "      <td>NW</td>\n",
       "      <td>8.95</td>\n",
       "      <td>0</td>\n",
       "      <td>0</td>\n",
       "    </tr>\n",
       "    <tr>\n",
       "      <th>...</th>\n",
       "      <td>...</td>\n",
       "      <td>...</td>\n",
       "      <td>...</td>\n",
       "      <td>...</td>\n",
       "      <td>...</td>\n",
       "      <td>...</td>\n",
       "      <td>...</td>\n",
       "      <td>...</td>\n",
       "    </tr>\n",
       "    <tr>\n",
       "      <th>43819</th>\n",
       "      <td>8.0</td>\n",
       "      <td>-23</td>\n",
       "      <td>-2.0</td>\n",
       "      <td>1034.0</td>\n",
       "      <td>NW</td>\n",
       "      <td>231.97</td>\n",
       "      <td>0</td>\n",
       "      <td>0</td>\n",
       "    </tr>\n",
       "    <tr>\n",
       "      <th>43820</th>\n",
       "      <td>10.0</td>\n",
       "      <td>-22</td>\n",
       "      <td>-3.0</td>\n",
       "      <td>1034.0</td>\n",
       "      <td>NW</td>\n",
       "      <td>237.78</td>\n",
       "      <td>0</td>\n",
       "      <td>0</td>\n",
       "    </tr>\n",
       "    <tr>\n",
       "      <th>43821</th>\n",
       "      <td>10.0</td>\n",
       "      <td>-22</td>\n",
       "      <td>-3.0</td>\n",
       "      <td>1034.0</td>\n",
       "      <td>NW</td>\n",
       "      <td>242.70</td>\n",
       "      <td>0</td>\n",
       "      <td>0</td>\n",
       "    </tr>\n",
       "    <tr>\n",
       "      <th>43822</th>\n",
       "      <td>8.0</td>\n",
       "      <td>-22</td>\n",
       "      <td>-4.0</td>\n",
       "      <td>1034.0</td>\n",
       "      <td>NW</td>\n",
       "      <td>246.72</td>\n",
       "      <td>0</td>\n",
       "      <td>0</td>\n",
       "    </tr>\n",
       "    <tr>\n",
       "      <th>43823</th>\n",
       "      <td>12.0</td>\n",
       "      <td>-21</td>\n",
       "      <td>-3.0</td>\n",
       "      <td>1034.0</td>\n",
       "      <td>NW</td>\n",
       "      <td>249.85</td>\n",
       "      <td>0</td>\n",
       "      <td>0</td>\n",
       "    </tr>\n",
       "  </tbody>\n",
       "</table>\n",
       "<p>120 rows × 8 columns</p>\n",
       "</div>"
      ],
      "text/plain": [
       "       pm2.5  DEWP  TEMP    PRES cbwd     Iws  Is  Ir\n",
       "43704  163.0   -10  -5.0  1030.0   NW    1.79   0   0\n",
       "43705  194.0   -10  -5.0  1030.0   NW    3.58   0   0\n",
       "43706  187.0   -10  -5.0  1030.0   NW    5.37   0   0\n",
       "43707  216.0   -11  -6.0  1030.0   NW    7.16   0   0\n",
       "43708  225.0   -11  -6.0  1030.0   NW    8.95   0   0\n",
       "...      ...   ...   ...     ...  ...     ...  ..  ..\n",
       "43819    8.0   -23  -2.0  1034.0   NW  231.97   0   0\n",
       "43820   10.0   -22  -3.0  1034.0   NW  237.78   0   0\n",
       "43821   10.0   -22  -3.0  1034.0   NW  242.70   0   0\n",
       "43822    8.0   -22  -4.0  1034.0   NW  246.72   0   0\n",
       "43823   12.0   -21  -3.0  1034.0   NW  249.85   0   0\n",
       "\n",
       "[120 rows x 8 columns]"
      ]
     },
     "execution_count": 81,
     "metadata": {},
     "output_type": "execute_result"
    }
   ],
   "source": [
    "data_test"
   ]
  },
  {
   "cell_type": "code",
   "execution_count": 82,
   "id": "5aab1688",
   "metadata": {},
   "outputs": [],
   "source": [
    "data_test = data_test.join(pd.get_dummies(data_test.cbwd))#cbwd换成独热编码"
   ]
  },
  {
   "cell_type": "code",
   "execution_count": 83,
   "id": "0ee73ae4",
   "metadata": {},
   "outputs": [],
   "source": [
    "data_test.drop('cbwd', axis=1, inplace=True)"
   ]
  },
  {
   "cell_type": "code",
   "execution_count": 84,
   "id": "3c5e2229",
   "metadata": {},
   "outputs": [
    {
     "data": {
      "text/html": [
       "<div>\n",
       "<style scoped>\n",
       "    .dataframe tbody tr th:only-of-type {\n",
       "        vertical-align: middle;\n",
       "    }\n",
       "\n",
       "    .dataframe tbody tr th {\n",
       "        vertical-align: top;\n",
       "    }\n",
       "\n",
       "    .dataframe thead th {\n",
       "        text-align: right;\n",
       "    }\n",
       "</style>\n",
       "<table border=\"1\" class=\"dataframe\">\n",
       "  <thead>\n",
       "    <tr style=\"text-align: right;\">\n",
       "      <th></th>\n",
       "      <th>pm2.5</th>\n",
       "      <th>DEWP</th>\n",
       "      <th>TEMP</th>\n",
       "      <th>PRES</th>\n",
       "      <th>Iws</th>\n",
       "      <th>Is</th>\n",
       "      <th>Ir</th>\n",
       "      <th>NE</th>\n",
       "      <th>NW</th>\n",
       "      <th>SE</th>\n",
       "      <th>cv</th>\n",
       "    </tr>\n",
       "  </thead>\n",
       "  <tbody>\n",
       "    <tr>\n",
       "      <th>43704</th>\n",
       "      <td>163.0</td>\n",
       "      <td>-10</td>\n",
       "      <td>-5.0</td>\n",
       "      <td>1030.0</td>\n",
       "      <td>1.79</td>\n",
       "      <td>0</td>\n",
       "      <td>0</td>\n",
       "      <td>0</td>\n",
       "      <td>1</td>\n",
       "      <td>0</td>\n",
       "      <td>0</td>\n",
       "    </tr>\n",
       "    <tr>\n",
       "      <th>43705</th>\n",
       "      <td>194.0</td>\n",
       "      <td>-10</td>\n",
       "      <td>-5.0</td>\n",
       "      <td>1030.0</td>\n",
       "      <td>3.58</td>\n",
       "      <td>0</td>\n",
       "      <td>0</td>\n",
       "      <td>0</td>\n",
       "      <td>1</td>\n",
       "      <td>0</td>\n",
       "      <td>0</td>\n",
       "    </tr>\n",
       "    <tr>\n",
       "      <th>43706</th>\n",
       "      <td>187.0</td>\n",
       "      <td>-10</td>\n",
       "      <td>-5.0</td>\n",
       "      <td>1030.0</td>\n",
       "      <td>5.37</td>\n",
       "      <td>0</td>\n",
       "      <td>0</td>\n",
       "      <td>0</td>\n",
       "      <td>1</td>\n",
       "      <td>0</td>\n",
       "      <td>0</td>\n",
       "    </tr>\n",
       "    <tr>\n",
       "      <th>43707</th>\n",
       "      <td>216.0</td>\n",
       "      <td>-11</td>\n",
       "      <td>-6.0</td>\n",
       "      <td>1030.0</td>\n",
       "      <td>7.16</td>\n",
       "      <td>0</td>\n",
       "      <td>0</td>\n",
       "      <td>0</td>\n",
       "      <td>1</td>\n",
       "      <td>0</td>\n",
       "      <td>0</td>\n",
       "    </tr>\n",
       "    <tr>\n",
       "      <th>43708</th>\n",
       "      <td>225.0</td>\n",
       "      <td>-11</td>\n",
       "      <td>-6.0</td>\n",
       "      <td>1030.0</td>\n",
       "      <td>8.95</td>\n",
       "      <td>0</td>\n",
       "      <td>0</td>\n",
       "      <td>0</td>\n",
       "      <td>1</td>\n",
       "      <td>0</td>\n",
       "      <td>0</td>\n",
       "    </tr>\n",
       "    <tr>\n",
       "      <th>...</th>\n",
       "      <td>...</td>\n",
       "      <td>...</td>\n",
       "      <td>...</td>\n",
       "      <td>...</td>\n",
       "      <td>...</td>\n",
       "      <td>...</td>\n",
       "      <td>...</td>\n",
       "      <td>...</td>\n",
       "      <td>...</td>\n",
       "      <td>...</td>\n",
       "      <td>...</td>\n",
       "    </tr>\n",
       "    <tr>\n",
       "      <th>43819</th>\n",
       "      <td>8.0</td>\n",
       "      <td>-23</td>\n",
       "      <td>-2.0</td>\n",
       "      <td>1034.0</td>\n",
       "      <td>231.97</td>\n",
       "      <td>0</td>\n",
       "      <td>0</td>\n",
       "      <td>0</td>\n",
       "      <td>1</td>\n",
       "      <td>0</td>\n",
       "      <td>0</td>\n",
       "    </tr>\n",
       "    <tr>\n",
       "      <th>43820</th>\n",
       "      <td>10.0</td>\n",
       "      <td>-22</td>\n",
       "      <td>-3.0</td>\n",
       "      <td>1034.0</td>\n",
       "      <td>237.78</td>\n",
       "      <td>0</td>\n",
       "      <td>0</td>\n",
       "      <td>0</td>\n",
       "      <td>1</td>\n",
       "      <td>0</td>\n",
       "      <td>0</td>\n",
       "    </tr>\n",
       "    <tr>\n",
       "      <th>43821</th>\n",
       "      <td>10.0</td>\n",
       "      <td>-22</td>\n",
       "      <td>-3.0</td>\n",
       "      <td>1034.0</td>\n",
       "      <td>242.70</td>\n",
       "      <td>0</td>\n",
       "      <td>0</td>\n",
       "      <td>0</td>\n",
       "      <td>1</td>\n",
       "      <td>0</td>\n",
       "      <td>0</td>\n",
       "    </tr>\n",
       "    <tr>\n",
       "      <th>43822</th>\n",
       "      <td>8.0</td>\n",
       "      <td>-22</td>\n",
       "      <td>-4.0</td>\n",
       "      <td>1034.0</td>\n",
       "      <td>246.72</td>\n",
       "      <td>0</td>\n",
       "      <td>0</td>\n",
       "      <td>0</td>\n",
       "      <td>1</td>\n",
       "      <td>0</td>\n",
       "      <td>0</td>\n",
       "    </tr>\n",
       "    <tr>\n",
       "      <th>43823</th>\n",
       "      <td>12.0</td>\n",
       "      <td>-21</td>\n",
       "      <td>-3.0</td>\n",
       "      <td>1034.0</td>\n",
       "      <td>249.85</td>\n",
       "      <td>0</td>\n",
       "      <td>0</td>\n",
       "      <td>0</td>\n",
       "      <td>1</td>\n",
       "      <td>0</td>\n",
       "      <td>0</td>\n",
       "    </tr>\n",
       "  </tbody>\n",
       "</table>\n",
       "<p>120 rows × 11 columns</p>\n",
       "</div>"
      ],
      "text/plain": [
       "       pm2.5  DEWP  TEMP    PRES     Iws  Is  Ir  NE  NW  SE  cv\n",
       "43704  163.0   -10  -5.0  1030.0    1.79   0   0   0   1   0   0\n",
       "43705  194.0   -10  -5.0  1030.0    3.58   0   0   0   1   0   0\n",
       "43706  187.0   -10  -5.0  1030.0    5.37   0   0   0   1   0   0\n",
       "43707  216.0   -11  -6.0  1030.0    7.16   0   0   0   1   0   0\n",
       "43708  225.0   -11  -6.0  1030.0    8.95   0   0   0   1   0   0\n",
       "...      ...   ...   ...     ...     ...  ..  ..  ..  ..  ..  ..\n",
       "43819    8.0   -23  -2.0  1034.0  231.97   0   0   0   1   0   0\n",
       "43820   10.0   -22  -3.0  1034.0  237.78   0   0   0   1   0   0\n",
       "43821   10.0   -22  -3.0  1034.0  242.70   0   0   0   1   0   0\n",
       "43822    8.0   -22  -4.0  1034.0  246.72   0   0   0   1   0   0\n",
       "43823   12.0   -21  -3.0  1034.0  249.85   0   0   0   1   0   0\n",
       "\n",
       "[120 rows x 11 columns]"
      ]
     },
     "execution_count": 84,
     "metadata": {},
     "output_type": "execute_result"
    }
   ],
   "source": [
    "data_test"
   ]
  },
  {
   "cell_type": "code",
   "execution_count": 85,
   "id": "769ec66d",
   "metadata": {},
   "outputs": [],
   "source": [
    "# data_test = data_test.reindex(columns=['pm2.5','DEWP','TEMP','PRES','Iws','Is','Ir','NE','NW','SE','cv'])#数据列顺序与训练数据顺序一致"
   ]
  },
  {
   "cell_type": "code",
   "execution_count": 86,
   "id": "597df758",
   "metadata": {},
   "outputs": [],
   "source": [
    "#单条数据也要进行归一化\n",
    "#但是mean std也要与训练时的一样\n",
    "data_test = (data_test - mean)/std"
   ]
  },
  {
   "cell_type": "code",
   "execution_count": 87,
   "id": "621c51f1",
   "metadata": {},
   "outputs": [],
   "source": [
    "data_test = data_test.to_numpy() #变成array数据类型"
   ]
  },
  {
   "cell_type": "code",
   "execution_count": 88,
   "id": "2b8b00d8",
   "metadata": {},
   "outputs": [
    {
     "data": {
      "text/plain": [
       "(120, 11)"
      ]
     },
     "execution_count": 88,
     "metadata": {},
     "output_type": "execute_result"
    }
   ],
   "source": [
    "data_test.shape"
   ]
  },
  {
   "cell_type": "code",
   "execution_count": 89,
   "id": "fb2b7a31",
   "metadata": {},
   "outputs": [],
   "source": [
    "data_test = np.expand_dims(data_test, 0) #在0即第一个位置拓展维度"
   ]
  },
  {
   "cell_type": "code",
   "execution_count": 90,
   "id": "21c5e1dd",
   "metadata": {},
   "outputs": [
    {
     "data": {
      "text/plain": [
       "(1, 120, 11)"
      ]
     },
     "execution_count": 90,
     "metadata": {},
     "output_type": "execute_result"
    }
   ],
   "source": [
    "data_test.shape"
   ]
  },
  {
   "cell_type": "code",
   "execution_count": 91,
   "id": "0026d333",
   "metadata": {},
   "outputs": [
    {
     "name": "stdout",
     "output_type": "stream",
     "text": [
      "1/1 [==============================] - 0s 28ms/step\n"
     ]
    },
    {
     "data": {
      "text/plain": [
       "array([[164.7239]], dtype=float32)"
      ]
     },
     "execution_count": 91,
     "metadata": {},
     "output_type": "execute_result"
    }
   ],
   "source": [
    "model.predict(data_test) #真实值51"
   ]
  },
  {
   "cell_type": "code",
   "execution_count": null,
   "id": "91c5dab9",
   "metadata": {},
   "outputs": [],
   "source": []
  }
 ],
 "metadata": {
  "kernelspec": {
   "display_name": "Python 3 (ipykernel)",
   "language": "python",
   "name": "python3"
  },
  "language_info": {
   "codemirror_mode": {
    "name": "ipython",
    "version": 3
   },
   "file_extension": ".py",
   "mimetype": "text/x-python",
   "name": "python",
   "nbconvert_exporter": "python",
   "pygments_lexer": "ipython3",
   "version": "3.7.16"
  }
 },
 "nbformat": 4,
 "nbformat_minor": 5
}
