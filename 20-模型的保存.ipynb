{
 "cells": [
  {
   "cell_type": "code",
   "execution_count": 1,
   "id": "a67cc7c7",
   "metadata": {},
   "outputs": [],
   "source": [
    "import tensorflow as tf\n",
    "import os"
   ]
  },
  {
   "cell_type": "code",
   "execution_count": 2,
   "id": "588ca580",
   "metadata": {},
   "outputs": [],
   "source": [
    "import pandas as pd\n",
    "import numpy as np\n",
    "import matplotlib.pyplot as plt\n",
    "%matplotlib inline"
   ]
  },
  {
   "cell_type": "code",
   "execution_count": 3,
   "id": "32dea5b8",
   "metadata": {},
   "outputs": [],
   "source": [
    "(train_image, train_lable),_ = tf.keras.datasets.fashion_mnist.load_data()"
   ]
  },
  {
   "cell_type": "code",
   "execution_count": 4,
   "id": "d4c08cb9",
   "metadata": {},
   "outputs": [],
   "source": [
    "train_image = train_image/255"
   ]
  },
  {
   "cell_type": "code",
   "execution_count": 5,
   "id": "e0d339c6",
   "metadata": {},
   "outputs": [
    {
     "data": {
      "text/plain": [
       "(60000,)"
      ]
     },
     "execution_count": 5,
     "metadata": {},
     "output_type": "execute_result"
    }
   ],
   "source": [
    "train_lable.shape"
   ]
  },
  {
   "cell_type": "code",
   "execution_count": 6,
   "id": "d91de1f4",
   "metadata": {},
   "outputs": [],
   "source": [
    "model = tf.keras.Sequential()\n",
    "model.add(tf.keras.layers.Flatten(input_shape=(28,28)))\n",
    "model.add(tf.keras.layers.Dense(128, activation='relu'))\n",
    "model.add(tf.keras.layers.Dense(10))"
   ]
  },
  {
   "cell_type": "code",
   "execution_count": 7,
   "id": "a69216be",
   "metadata": {},
   "outputs": [],
   "source": [
    "optimizer = tf.keras.optimizers.Adam()"
   ]
  },
  {
   "cell_type": "code",
   "execution_count": 8,
   "id": "f88e1bb1",
   "metadata": {},
   "outputs": [],
   "source": [
    "loss_func = tf.keras.losses.SparseCategoricalCrossentropy(from_logits=True)"
   ]
  },
  {
   "cell_type": "code",
   "execution_count": 9,
   "id": "bcfd9228",
   "metadata": {},
   "outputs": [],
   "source": [
    "def loss(model, x, y):\n",
    "    y_ = model(x)\n",
    "    return loss_func(y, y_)"
   ]
  },
  {
   "cell_type": "code",
   "execution_count": 10,
   "id": "7d7ad08a",
   "metadata": {},
   "outputs": [],
   "source": [
    "def train_step(model,images, labels):\n",
    "    #计算梯度 计算损失函数与可model的变量训练参数的梯度\n",
    "    with tf.GradientTape() as t:\n",
    "        pred = model(images)\n",
    "        loss_step = loss(model, images, labels) #记录损失函数的值\n",
    "    grads = t.gradient(loss_step, model.trainable_variables)  # 计算损失函数与可model的变量训练参数的梯度\n",
    "    optimizer.apply_gradients(zip(grads, model.trainable_variables)) #优化 改变可训练参数变量的值\n",
    "    train_loss(loss_step)\n",
    "    train_accuracy(labels, pred)"
   ]
  },
  {
   "cell_type": "code",
   "execution_count": 11,
   "id": "e91e0652",
   "metadata": {},
   "outputs": [],
   "source": [
    "train_loss = tf.keras.metrics.Mean('train_loss', dtype=tf.float32)\n",
    "train_accuracy = tf.keras.metrics.SparseCategoricalAccuracy('train_accuracy') #初始化计算对象"
   ]
  },
  {
   "cell_type": "code",
   "execution_count": 12,
   "id": "f98e0c87",
   "metadata": {},
   "outputs": [],
   "source": [
    "cp_dir = './customtrain_cp'\n",
    "cp_prefix = os.path.join(cp_dir, 'ckpt') #设置保存前缀"
   ]
  },
  {
   "cell_type": "code",
   "execution_count": 13,
   "id": "703eb73d",
   "metadata": {},
   "outputs": [],
   "source": [
    "checkpoint = tf.train.Checkpoint(optimizer=optimizer,\n",
    "                                 model=model\n",
    ") #定义保存的内容"
   ]
  },
  {
   "cell_type": "code",
   "execution_count": 14,
   "id": "0c652f62",
   "metadata": {},
   "outputs": [],
   "source": [
    "dataset = tf.data.Dataset.from_tensor_slices((train_image, train_lable))"
   ]
  },
  {
   "cell_type": "code",
   "execution_count": 15,
   "id": "13c3e5e2",
   "metadata": {},
   "outputs": [],
   "source": [
    "dataset = dataset.shuffle(10000).batch(32)"
   ]
  },
  {
   "cell_type": "code",
   "execution_count": 21,
   "id": "9e68a897",
   "metadata": {},
   "outputs": [],
   "source": [
    "def train():\n",
    "    for epoch in range(5):\n",
    "        for (batch, (images, labels)) in enumerate(dataset):\n",
    "            train_step(model, images, labels)\n",
    "        print('Epoch{} loss is {}, accuracy is {}'.format(epoch,\n",
    "                                                         train_loss.result(),\n",
    "                                                         train_accuracy.result()))\n",
    "        \n",
    "        train_loss.reset_states() #重置对象\n",
    "        train_accuracy.reset_states()\n",
    "        \n",
    "        #每隔两个epoch，进行保存\n",
    "        if (epoch + 1)%2 ==0:\n",
    "            checkpoint.save(file_prefix = cp_prefix)"
   ]
  },
  {
   "cell_type": "code",
   "execution_count": 22,
   "id": "d807ee0c",
   "metadata": {},
   "outputs": [
    {
     "name": "stdout",
     "output_type": "stream",
     "text": [
      "Epoch0 loss is 0.5004569888114929, accuracy is 0.8249833583831787\n",
      "Epoch1 loss is 0.37520208954811096, accuracy is 0.8643500208854675\n",
      "Epoch2 loss is 0.33405163884162903, accuracy is 0.8780666589736938\n",
      "Epoch3 loss is 0.31028130650520325, accuracy is 0.8857499957084656\n",
      "Epoch4 loss is 0.29134881496429443, accuracy is 0.8921499848365784\n"
     ]
    }
   ],
   "source": [
    "train()"
   ]
  },
  {
   "cell_type": "code",
   "execution_count": null,
   "id": "8b10bff3",
   "metadata": {},
   "outputs": [],
   "source": []
  },
  {
   "cell_type": "code",
   "execution_count": 16,
   "id": "1f2f6103",
   "metadata": {},
   "outputs": [
    {
     "data": {
      "text/plain": [
       "<tensorflow.python.training.tracking.util.CheckpointLoadStatus at 0x1b154860588>"
      ]
     },
     "execution_count": 16,
     "metadata": {},
     "output_type": "execute_result"
    }
   ],
   "source": [
    "checkpoint.restore(tf.train.latest_checkpoint(cp_dir)) #恢复最新的检查点"
   ]
  },
  {
   "cell_type": "code",
   "execution_count": 17,
   "id": "79a7fa84",
   "metadata": {},
   "outputs": [
    {
     "name": "stdout",
     "output_type": "stream",
     "text": [
      "WARNING:tensorflow:Layer flatten is casting an input tensor from dtype float64 to the layer's dtype of float32, which is new behavior in TensorFlow 2.  The layer has dtype float32 because it's dtype defaults to floatx.\n",
      "\n",
      "If you intended to run this layer in float32, you can safely ignore this warning. If in doubt, this warning is likely only an issue if you are porting a TensorFlow 1.X model to TensorFlow 2.\n",
      "\n",
      "To change all layers to have dtype float64 by default, call `tf.keras.backend.set_floatx('float64')`. To change just this layer, pass dtype='float64' to the layer constructor. If you are the author of this layer, you can disable autocasting by passing autocast=False to the base Layer constructor.\n",
      "\n"
     ]
    },
    {
     "data": {
      "text/plain": [
       "array([9, 0, 0, ..., 3, 0, 5], dtype=int64)"
      ]
     },
     "execution_count": 17,
     "metadata": {},
     "output_type": "execute_result"
    }
   ],
   "source": [
    "tf.argmax(model(train_image, training=False),axis=-1).numpy()"
   ]
  },
  {
   "cell_type": "code",
   "execution_count": 18,
   "id": "f12396af",
   "metadata": {},
   "outputs": [
    {
     "data": {
      "text/plain": [
       "array([9, 0, 0, ..., 3, 0, 5], dtype=uint8)"
      ]
     },
     "execution_count": 18,
     "metadata": {},
     "output_type": "execute_result"
    }
   ],
   "source": [
    "train_lable"
   ]
  },
  {
   "cell_type": "code",
   "execution_count": 19,
   "id": "319f4210",
   "metadata": {},
   "outputs": [
    {
     "data": {
      "text/plain": [
       "0.89245"
      ]
     },
     "execution_count": 19,
     "metadata": {},
     "output_type": "execute_result"
    }
   ],
   "source": [
    "(tf.argmax(model(train_image, training=False),axis=-1).numpy() == train_lable).sum()/len(train_lable) #查看正确率"
   ]
  },
  {
   "cell_type": "code",
   "execution_count": null,
   "id": "41601e69",
   "metadata": {},
   "outputs": [],
   "source": [
    "#0.8849666666666667 0.89245"
   ]
  }
 ],
 "metadata": {
  "kernelspec": {
   "display_name": "Python 3 (ipykernel)",
   "language": "python",
   "name": "python3"
  },
  "language_info": {
   "codemirror_mode": {
    "name": "ipython",
    "version": 3
   },
   "file_extension": ".py",
   "mimetype": "text/x-python",
   "name": "python",
   "nbconvert_exporter": "python",
   "pygments_lexer": "ipython3",
   "version": "3.7.16"
  }
 },
 "nbformat": 4,
 "nbformat_minor": 5
}
