{
 "cells": [
  {
   "cell_type": "code",
   "execution_count": 1,
   "metadata": {
    "_cell_guid": "b1076dfc-b9ad-4769-8c92-a6c4dae69d19",
    "_uuid": "8f2839f25d086af736a60e9eeb907d3b93b6e0e5",
    "execution": {
     "iopub.execute_input": "2023-03-06T11:36:39.965589Z",
     "iopub.status.busy": "2023-03-06T11:36:39.965201Z",
     "iopub.status.idle": "2023-03-06T11:36:39.980374Z",
     "shell.execute_reply": "2023-03-06T11:36:39.979181Z",
     "shell.execute_reply.started": "2023-03-06T11:36:39.965557Z"
    }
   },
   "outputs": [],
   "source": [
    "# This Python 3 environment comes with many helpful analytics libraries installed\n",
    "# It is defined by the kaggle/python Docker image: https://github.com/kaggle/docker-python\n",
    "# For example, here's several helpful packages to load\n",
    "\n",
    "import numpy as np # linear algebra\n",
    "import pandas as pd # data processing, CSV file I/O (e.g. pd.read_csv)\n",
    "\n",
    "# Input data files are available in the read-only \"../input/\" directory\n",
    "# For example, running this (by clicking run or pressing Shift+Enter) will list all files under the input directory\n",
    "\n",
    "import os\n",
    "for dirname, _, filenames in os.walk('/kaggle/input'):\n",
    "    for filename in filenames:\n",
    "        print(os.path.join(dirname, filename))\n",
    "\n",
    "# You can write up to 20GB to the current directory (/kaggle/working/) that gets preserved as output when you create a version using \"Save & Run All\" \n",
    "# You can also write temporary files to /kaggle/temp/, but they won't be saved outside of the current session"
   ]
  },
  {
   "cell_type": "code",
   "execution_count": 2,
   "metadata": {
    "execution": {
     "iopub.execute_input": "2023-03-06T11:36:39.983233Z",
     "iopub.status.busy": "2023-03-06T11:36:39.982434Z",
     "iopub.status.idle": "2023-03-06T11:36:43.155473Z",
     "shell.execute_reply": "2023-03-06T11:36:43.154367Z",
     "shell.execute_reply.started": "2023-03-06T11:36:39.983191Z"
    }
   },
   "outputs": [],
   "source": [
    "import tensorflow as tf"
   ]
  },
  {
   "cell_type": "code",
   "execution_count": 3,
   "metadata": {
    "execution": {
     "iopub.execute_input": "2023-03-06T11:36:43.158018Z",
     "iopub.status.busy": "2023-03-06T11:36:43.157003Z",
     "iopub.status.idle": "2023-03-06T11:36:43.164909Z",
     "shell.execute_reply": "2023-03-06T11:36:43.163504Z",
     "shell.execute_reply.started": "2023-03-06T11:36:43.157977Z"
    }
   },
   "outputs": [
    {
     "name": "stdout",
     "output_type": "stream",
     "text": [
      "Tensorflow version: 2.0.0\n"
     ]
    }
   ],
   "source": [
    "print('Tensorflow version: {}'.format(tf.__version__))"
   ]
  },
  {
   "cell_type": "code",
   "execution_count": 4,
   "metadata": {
    "execution": {
     "iopub.execute_input": "2023-03-06T11:36:43.169469Z",
     "iopub.status.busy": "2023-03-06T11:36:43.168657Z",
     "iopub.status.idle": "2023-03-06T11:36:45.042092Z",
     "shell.execute_reply": "2023-03-06T11:36:45.040869Z",
     "shell.execute_reply.started": "2023-03-06T11:36:43.169411Z"
    }
   },
   "outputs": [
    {
     "data": {
      "text/plain": [
       "False"
      ]
     },
     "execution_count": 4,
     "metadata": {},
     "output_type": "execute_result"
    }
   ],
   "source": [
    "tf.test.is_gpu_available()"
   ]
  },
  {
   "cell_type": "code",
   "execution_count": 5,
   "metadata": {
    "execution": {
     "iopub.execute_input": "2023-03-06T11:36:45.046456Z",
     "iopub.status.busy": "2023-03-06T11:36:45.045585Z",
     "iopub.status.idle": "2023-03-06T11:36:45.054688Z",
     "shell.execute_reply": "2023-03-06T11:36:45.053665Z",
     "shell.execute_reply.started": "2023-03-06T11:36:45.046413Z"
    }
   },
   "outputs": [],
   "source": [
    "from tensorflow import keras\n",
    "import matplotlib.pyplot as plt\n",
    "%matplotlib inline\n",
    "import numpy as np"
   ]
  },
  {
   "cell_type": "code",
   "execution_count": 6,
   "metadata": {
    "execution": {
     "iopub.execute_input": "2023-03-06T11:36:45.058304Z",
     "iopub.status.busy": "2023-03-06T11:36:45.057991Z",
     "iopub.status.idle": "2023-03-06T11:36:45.459850Z",
     "shell.execute_reply": "2023-03-06T11:36:45.458717Z",
     "shell.execute_reply.started": "2023-03-06T11:36:45.058278Z"
    }
   },
   "outputs": [],
   "source": [
    "fashion_mnist = keras.datasets.fashion_mnist\n",
    "(train_images, train_labels), (test_images, test_labels) = fashion_mnist.load_data()"
   ]
  },
  {
   "cell_type": "code",
   "execution_count": 7,
   "metadata": {
    "execution": {
     "iopub.execute_input": "2023-03-06T11:36:45.461817Z",
     "iopub.status.busy": "2023-03-06T11:36:45.461409Z",
     "iopub.status.idle": "2023-03-06T11:36:45.468657Z",
     "shell.execute_reply": "2023-03-06T11:36:45.467426Z",
     "shell.execute_reply.started": "2023-03-06T11:36:45.461765Z"
    }
   },
   "outputs": [
    {
     "data": {
      "text/plain": [
       "(60000, 28, 28)"
      ]
     },
     "execution_count": 7,
     "metadata": {},
     "output_type": "execute_result"
    }
   ],
   "source": [
    "train_images.shape"
   ]
  },
  {
   "cell_type": "code",
   "execution_count": 8,
   "metadata": {
    "execution": {
     "iopub.execute_input": "2023-03-06T11:36:45.471360Z",
     "iopub.status.busy": "2023-03-06T11:36:45.470536Z",
     "iopub.status.idle": "2023-03-06T11:36:45.482323Z",
     "shell.execute_reply": "2023-03-06T11:36:45.481080Z",
     "shell.execute_reply.started": "2023-03-06T11:36:45.471244Z"
    }
   },
   "outputs": [
    {
     "data": {
      "text/plain": [
       "(60000,)"
      ]
     },
     "execution_count": 8,
     "metadata": {},
     "output_type": "execute_result"
    }
   ],
   "source": [
    "train_labels.shape"
   ]
  },
  {
   "cell_type": "code",
   "execution_count": 9,
   "metadata": {
    "execution": {
     "iopub.execute_input": "2023-03-06T11:36:45.485521Z",
     "iopub.status.busy": "2023-03-06T11:36:45.483613Z",
     "iopub.status.idle": "2023-03-06T11:36:45.497686Z",
     "shell.execute_reply": "2023-03-06T11:36:45.496540Z",
     "shell.execute_reply.started": "2023-03-06T11:36:45.485482Z"
    }
   },
   "outputs": [
    {
     "data": {
      "text/plain": [
       "(10000, 28, 28)"
      ]
     },
     "execution_count": 9,
     "metadata": {},
     "output_type": "execute_result"
    }
   ],
   "source": [
    "test_images.shape"
   ]
  },
  {
   "cell_type": "code",
   "execution_count": 10,
   "metadata": {
    "execution": {
     "iopub.execute_input": "2023-03-06T11:36:45.503226Z",
     "iopub.status.busy": "2023-03-06T11:36:45.502952Z",
     "iopub.status.idle": "2023-03-06T11:36:45.514842Z",
     "shell.execute_reply": "2023-03-06T11:36:45.513772Z",
     "shell.execute_reply.started": "2023-03-06T11:36:45.503200Z"
    }
   },
   "outputs": [
    {
     "data": {
      "text/plain": [
       "array([9, 2, 1, ..., 8, 1, 5], dtype=uint8)"
      ]
     },
     "execution_count": 10,
     "metadata": {},
     "output_type": "execute_result"
    }
   ],
   "source": [
    "test_labels"
   ]
  },
  {
   "cell_type": "code",
   "execution_count": 11,
   "metadata": {
    "execution": {
     "iopub.execute_input": "2023-03-06T11:36:45.516897Z",
     "iopub.status.busy": "2023-03-06T11:36:45.516455Z",
     "iopub.status.idle": "2023-03-06T11:36:45.526681Z",
     "shell.execute_reply": "2023-03-06T11:36:45.525752Z",
     "shell.execute_reply.started": "2023-03-06T11:36:45.516861Z"
    }
   },
   "outputs": [
    {
     "data": {
      "text/plain": [
       "(10000, 28, 28)"
      ]
     },
     "execution_count": 11,
     "metadata": {},
     "output_type": "execute_result"
    }
   ],
   "source": [
    "test_images.shape"
   ]
  },
  {
   "cell_type": "code",
   "execution_count": 12,
   "metadata": {
    "execution": {
     "iopub.execute_input": "2023-03-06T11:36:45.528519Z",
     "iopub.status.busy": "2023-03-06T11:36:45.528204Z",
     "iopub.status.idle": "2023-03-06T11:36:45.533998Z",
     "shell.execute_reply": "2023-03-06T11:36:45.532832Z",
     "shell.execute_reply.started": "2023-03-06T11:36:45.528477Z"
    }
   },
   "outputs": [],
   "source": [
    "train_images = np.expand_dims(train_images, -1) \n",
    "#之前是将图片扁平化，变为一维数组\n",
    "#这里需要扩张维度，使其变为四维（图片个数、图片高度、图片宽度和图片的channal：None，hight，witch,chanal）"
   ]
  },
  {
   "cell_type": "code",
   "execution_count": 13,
   "metadata": {
    "execution": {
     "iopub.execute_input": "2023-03-06T11:36:45.536105Z",
     "iopub.status.busy": "2023-03-06T11:36:45.535657Z",
     "iopub.status.idle": "2023-03-06T11:36:45.548784Z",
     "shell.execute_reply": "2023-03-06T11:36:45.547657Z",
     "shell.execute_reply.started": "2023-03-06T11:36:45.536051Z"
    }
   },
   "outputs": [
    {
     "data": {
      "text/plain": [
       "(60000, 28, 28, 1)"
      ]
     },
     "execution_count": 13,
     "metadata": {},
     "output_type": "execute_result"
    }
   ],
   "source": [
    "train_images.shape #(60000, 28, 28, 1) channal为1是黑白图片 彩色是3"
   ]
  },
  {
   "cell_type": "code",
   "execution_count": 14,
   "metadata": {
    "execution": {
     "iopub.execute_input": "2023-03-06T11:36:45.551123Z",
     "iopub.status.busy": "2023-03-06T11:36:45.550386Z",
     "iopub.status.idle": "2023-03-06T11:36:45.560006Z",
     "shell.execute_reply": "2023-03-06T11:36:45.559060Z",
     "shell.execute_reply.started": "2023-03-06T11:36:45.551009Z"
    }
   },
   "outputs": [],
   "source": [
    "test_images = np.expand_dims(test_images, -1) "
   ]
  },
  {
   "cell_type": "code",
   "execution_count": 15,
   "metadata": {
    "execution": {
     "iopub.execute_input": "2023-03-06T11:36:45.562387Z",
     "iopub.status.busy": "2023-03-06T11:36:45.561690Z",
     "iopub.status.idle": "2023-03-06T11:36:45.581242Z",
     "shell.execute_reply": "2023-03-06T11:36:45.579770Z",
     "shell.execute_reply.started": "2023-03-06T11:36:45.562350Z"
    }
   },
   "outputs": [
    {
     "data": {
      "text/plain": [
       "(10000, 28, 28, 1)"
      ]
     },
     "execution_count": 15,
     "metadata": {},
     "output_type": "execute_result"
    }
   ],
   "source": [
    "test_images.shape"
   ]
  },
  {
   "cell_type": "code",
   "execution_count": 16,
   "metadata": {
    "execution": {
     "iopub.execute_input": "2023-03-06T11:36:45.583904Z",
     "iopub.status.busy": "2023-03-06T11:36:45.582808Z",
     "iopub.status.idle": "2023-03-06T11:36:46.005591Z",
     "shell.execute_reply": "2023-03-06T11:36:46.004513Z",
     "shell.execute_reply.started": "2023-03-06T11:36:45.583861Z"
    }
   },
   "outputs": [],
   "source": [
    "model = tf.keras.Sequential() #顺序模型\n",
    "model.add(tf.keras.layers.Conv2D(32, (3, 3),input_shape = train_images.shape[1:],activation='relu'))\n",
    "#model.add(tf.keras.layers.Conv2D(32, (3, 3),input_shape = train_images.shape[1:],activation='relu'，padding='same'))\n",
    "#添加padding='same'参数可使像素与原像素相同，默认是\"valid\"填充方式会改变像素\n",
    "#识别图形一般使用卷积层作为第一层 32是卷积核个数 3*3是卷积核大小 一般情况使用3*3和5*5 input_shape中传入除了第0维（个数）的shape\n",
    "model.add(keras.layers.MaxPool2D()) # 默认参数是2*2，会将图片缩小为原来的一半\n",
    "model.add(keras.layers.Conv2D(64, (3, 3), activation='relu'))# 卷积核个数是2的n次方递增的，可以增强拟合能力\n",
    "model.add(keras.layers.GlobalAveragePooling2D()) # 全局平均值化\n",
    "model.add(keras.layers.Dense(10, activation='softmax')) #输出层"
   ]
  },
  {
   "cell_type": "code",
   "execution_count": 17,
   "metadata": {
    "execution": {
     "iopub.execute_input": "2023-03-06T11:36:46.008341Z",
     "iopub.status.busy": "2023-03-06T11:36:46.007722Z",
     "iopub.status.idle": "2023-03-06T11:36:46.032257Z",
     "shell.execute_reply": "2023-03-06T11:36:46.031470Z",
     "shell.execute_reply.started": "2023-03-06T11:36:46.008301Z"
    }
   },
   "outputs": [
    {
     "name": "stdout",
     "output_type": "stream",
     "text": [
      "Model: \"sequential\"\n",
      "_________________________________________________________________\n",
      "Layer (type)                 Output Shape              Param #   \n",
      "=================================================================\n",
      "conv2d (Conv2D)              (None, 26, 26, 32)        320       \n",
      "_________________________________________________________________\n",
      "max_pooling2d (MaxPooling2D) (None, 13, 13, 32)        0         \n",
      "_________________________________________________________________\n",
      "conv2d_1 (Conv2D)            (None, 11, 11, 64)        18496     \n",
      "_________________________________________________________________\n",
      "global_average_pooling2d (Gl (None, 64)                0         \n",
      "_________________________________________________________________\n",
      "dense (Dense)                (None, 10)                650       \n",
      "=================================================================\n",
      "Total params: 19,466\n",
      "Trainable params: 19,466\n",
      "Non-trainable params: 0\n",
      "_________________________________________________________________\n"
     ]
    }
   ],
   "source": [
    "model.summary()"
   ]
  },
  {
   "cell_type": "code",
   "execution_count": 18,
   "metadata": {
    "execution": {
     "iopub.execute_input": "2023-03-06T11:36:46.033875Z",
     "iopub.status.busy": "2023-03-06T11:36:46.033301Z",
     "iopub.status.idle": "2023-03-06T11:36:46.056943Z",
     "shell.execute_reply": "2023-03-06T11:36:46.055858Z",
     "shell.execute_reply.started": "2023-03-06T11:36:46.033836Z"
    }
   },
   "outputs": [],
   "source": [
    "model.compile(optimizer='adam', #优化函数\n",
    "             loss='sparse_categorical_crossentropy',\n",
    "             metrics=['acc'] #训练过程中输出正确率\n",
    "             )"
   ]
  },
  {
   "cell_type": "code",
   "execution_count": 19,
   "metadata": {
    "execution": {
     "iopub.execute_input": "2023-03-06T11:36:46.059000Z",
     "iopub.status.busy": "2023-03-06T11:36:46.058210Z",
     "iopub.status.idle": "2023-03-06T11:40:29.670342Z",
     "shell.execute_reply": "2023-03-06T11:40:29.669205Z",
     "shell.execute_reply.started": "2023-03-06T11:36:46.058964Z"
    }
   },
   "outputs": [
    {
     "name": "stdout",
     "output_type": "stream",
     "text": [
      "Train on 60000 samples, validate on 10000 samples\n",
      "Epoch 1/30\n",
      "60000/60000 [==============================] - 28s 467us/sample - loss: 0.7211 - acc: 0.7603 - val_loss: 0.5713 - val_acc: 0.8066\n",
      "Epoch 2/30\n",
      "60000/60000 [==============================] - 25s 410us/sample - loss: 0.4708 - acc: 0.8362 - val_loss: 0.4406 - val_acc: 0.8491\n",
      "Epoch 3/30\n",
      "60000/60000 [==============================] - 29s 481us/sample - loss: 0.4147 - acc: 0.8547 - val_loss: 0.4028 - val_acc: 0.8578\n",
      "Epoch 4/30\n",
      "60000/60000 [==============================] - 29s 491us/sample - loss: 0.3826 - acc: 0.8639 - val_loss: 0.4379 - val_acc: 0.8437\n",
      "Epoch 5/30\n",
      "60000/60000 [==============================] - 29s 476us/sample - loss: 0.3593 - acc: 0.8719 - val_loss: 0.3678 - val_acc: 0.8704\n",
      "Epoch 6/30\n",
      "60000/60000 [==============================] - 29s 481us/sample - loss: 0.3401 - acc: 0.8786 - val_loss: 0.4054 - val_acc: 0.8575\n",
      "Epoch 7/30\n",
      "60000/60000 [==============================] - 29s 476us/sample - loss: 0.3227 - acc: 0.8854 - val_loss: 0.3760 - val_acc: 0.8726\n",
      "Epoch 8/30\n",
      "60000/60000 [==============================] - 30s 492us/sample - loss: 0.3118 - acc: 0.8891 - val_loss: 0.3794 - val_acc: 0.8624\n",
      "Epoch 9/30\n",
      "60000/60000 [==============================] - 28s 465us/sample - loss: 0.3026 - acc: 0.8913 - val_loss: 0.3490 - val_acc: 0.8782\n",
      "Epoch 10/30\n",
      "60000/60000 [==============================] - 28s 470us/sample - loss: 0.2886 - acc: 0.8977 - val_loss: 0.3330 - val_acc: 0.8839\n",
      "Epoch 11/30\n",
      "60000/60000 [==============================] - 29s 478us/sample - loss: 0.2815 - acc: 0.8987 - val_loss: 0.3337 - val_acc: 0.8817\n",
      "Epoch 12/30\n",
      "60000/60000 [==============================] - 27s 442us/sample - loss: 0.2725 - acc: 0.9016 - val_loss: 0.3261 - val_acc: 0.8878\n",
      "Epoch 13/30\n",
      "60000/60000 [==============================] - 28s 461us/sample - loss: 0.2634 - acc: 0.9060 - val_loss: 0.3378 - val_acc: 0.8820\n",
      "Epoch 14/30\n",
      "60000/60000 [==============================] - 29s 476us/sample - loss: 0.2577 - acc: 0.9081 - val_loss: 0.3369 - val_acc: 0.8836\n",
      "Epoch 15/30\n",
      "60000/60000 [==============================] - 29s 490us/sample - loss: 0.2515 - acc: 0.9111 - val_loss: 0.3355 - val_acc: 0.8844\n",
      "Epoch 16/30\n",
      "60000/60000 [==============================] - 29s 478us/sample - loss: 0.2454 - acc: 0.9122 - val_loss: 0.3147 - val_acc: 0.8884\n",
      "Epoch 17/30\n",
      "60000/60000 [==============================] - 29s 484us/sample - loss: 0.2406 - acc: 0.9137 - val_loss: 0.3297 - val_acc: 0.8833\n",
      "Epoch 18/30\n",
      "60000/60000 [==============================] - 28s 469us/sample - loss: 0.2374 - acc: 0.9146 - val_loss: 0.3166 - val_acc: 0.8892\n",
      "Epoch 19/30\n",
      "60000/60000 [==============================] - 28s 467us/sample - loss: 0.2314 - acc: 0.9171 - val_loss: 0.3531 - val_acc: 0.8766\n",
      "Epoch 20/30\n",
      "60000/60000 [==============================] - 24s 392us/sample - loss: 0.2271 - acc: 0.9179 - val_loss: 0.3352 - val_acc: 0.8860\n",
      "Epoch 21/30\n",
      "60000/60000 [==============================] - 24s 396us/sample - loss: 0.2206 - acc: 0.9202 - val_loss: 0.3651 - val_acc: 0.8784\n",
      "Epoch 22/30\n",
      "60000/60000 [==============================] - 26s 441us/sample - loss: 0.2181 - acc: 0.9212 - val_loss: 0.3130 - val_acc: 0.8892\n",
      "Epoch 23/30\n",
      "60000/60000 [==============================] - 25s 416us/sample - loss: 0.2116 - acc: 0.9237 - val_loss: 0.3190 - val_acc: 0.8929\n",
      "Epoch 24/30\n",
      "60000/60000 [==============================] - 23s 388us/sample - loss: 0.2104 - acc: 0.9244 - val_loss: 0.3141 - val_acc: 0.8940\n",
      "Epoch 25/30\n",
      "60000/60000 [==============================] - 23s 390us/sample - loss: 0.2069 - acc: 0.9250 - val_loss: 0.3377 - val_acc: 0.8867\n",
      "Epoch 26/30\n",
      "60000/60000 [==============================] - 34s 564us/sample - loss: 0.2010 - acc: 0.9272 - val_loss: 0.3640 - val_acc: 0.8810\n",
      "Epoch 27/30\n",
      "60000/60000 [==============================] - 24s 402us/sample - loss: 0.1999 - acc: 0.9276 - val_loss: 0.3321 - val_acc: 0.8888\n",
      "Epoch 28/30\n",
      "60000/60000 [==============================] - 24s 392us/sample - loss: 0.1968 - acc: 0.9289 - val_loss: 0.3420 - val_acc: 0.8871\n",
      "Epoch 29/30\n",
      "60000/60000 [==============================] - 24s 396us/sample - loss: 0.1942 - acc: 0.9300 - val_loss: 0.3259 - val_acc: 0.8899\n",
      "Epoch 30/30\n",
      "60000/60000 [==============================] - 24s 395us/sample - loss: 0.1905 - acc: 0.9307 - val_loss: 0.3386 - val_acc: 0.8919\n"
     ]
    }
   ],
   "source": [
    "history = model.fit(train_images, train_labels, epochs=30, validation_data=(test_images, test_labels))"
   ]
  },
  {
   "cell_type": "code",
   "execution_count": 20,
   "metadata": {
    "execution": {
     "iopub.execute_input": "2023-03-06T11:40:29.674284Z",
     "iopub.status.busy": "2023-03-06T11:40:29.673317Z",
     "iopub.status.idle": "2023-03-06T11:40:29.681423Z",
     "shell.execute_reply": "2023-03-06T11:40:29.680304Z",
     "shell.execute_reply.started": "2023-03-06T11:40:29.674249Z"
    }
   },
   "outputs": [
    {
     "data": {
      "text/plain": [
       "dict_keys(['loss', 'acc', 'val_loss', 'val_acc'])"
      ]
     },
     "execution_count": 20,
     "metadata": {},
     "output_type": "execute_result"
    }
   ],
   "source": [
    "history.history.keys() #看一下有哪些参数"
   ]
  },
  {
   "cell_type": "code",
   "execution_count": 21,
   "metadata": {
    "execution": {
     "iopub.execute_input": "2023-03-06T11:40:29.683879Z",
     "iopub.status.busy": "2023-03-06T11:40:29.683107Z",
     "iopub.status.idle": "2023-03-06T11:40:29.944589Z",
     "shell.execute_reply": "2023-03-06T11:40:29.943632Z",
     "shell.execute_reply.started": "2023-03-06T11:40:29.683841Z"
    }
   },
   "outputs": [
    {
     "data": {
      "text/plain": [
       "[<matplotlib.lines.Line2D at 0x236f0a42588>]"
      ]
     },
     "execution_count": 21,
     "metadata": {},
     "output_type": "execute_result"
    },
    {
     "data": {
      "image/png": "[encoded data removed]",
      "text/plain": [
       "<Figure size 640x480 with 1 Axes>"
      ]
     },
     "metadata": {},
     "output_type": "display_data"
    }
   ],
   "source": [
    "plt.plot(history.epoch, history.history.get('acc'), label='acc')\n",
    "plt.plot(history.epoch, history.history.get('val_acc'), label='val_acc') \n",
    "#由图得知过拟合\n",
    "# train数据正确率没有100%，有待提高，说明对train数据拟合不够：增加隐藏层个数 单元数\n",
    "# test数据与train数据有差距，说明test数据过拟合：添加dropout层"
   ]
  },
  {
   "cell_type": "code",
   "execution_count": 22,
   "metadata": {
    "execution": {
     "iopub.execute_input": "2023-03-06T11:40:29.946505Z",
     "iopub.status.busy": "2023-03-06T11:40:29.946148Z",
     "iopub.status.idle": "2023-03-06T11:40:30.344836Z",
     "shell.execute_reply": "2023-03-06T11:40:30.343665Z",
     "shell.execute_reply.started": "2023-03-06T11:40:29.946468Z"
    }
   },
   "outputs": [
    {
     "data": {
      "text/plain": [
       "[<matplotlib.lines.Line2D at 0x236f0a98488>]"
      ]
     },
     "execution_count": 22,
     "metadata": {},
     "output_type": "execute_result"
    },
    {
     "data": {
      "image/png": "[encoded data removed]",
      "text/plain": [
       "<Figure size 640x480 with 1 Axes>"
      ]
     },
     "metadata": {},
     "output_type": "display_data"
    }
   ],
   "source": [
    "plt.plot(history.epoch, history.history.get('loss'), label='loss')\n",
    "plt.plot(history.epoch, history.history.get('val_loss'), label='val_loss')\n"
   ]
  },
  {
   "cell_type": "code",
   "execution_count": 23,
   "metadata": {
    "execution": {
     "iopub.execute_input": "2023-03-06T11:40:30.347234Z",
     "iopub.status.busy": "2023-03-06T11:40:30.346483Z",
     "iopub.status.idle": "2023-03-06T11:40:30.515781Z",
     "shell.execute_reply": "2023-03-06T11:40:30.514749Z",
     "shell.execute_reply.started": "2023-03-06T11:40:30.347187Z"
    }
   },
   "outputs": [],
   "source": [
    "# 修改：增加第一层卷积层个数2的n次方；多重复添加Conv2D层与MaxPool2D层；倒数第二层添加Dens层（注意激活函数是relu，因为此层不是输出层）\n",
    "#修改后会导致过拟合严重，所有添加dropout层：在MaxPool2D层与Conv2D层后添加\n",
    "model = tf.keras.Sequential() #顺序模型\n",
    "model.add(tf.keras.layers.Conv2D(64, (3, 3),input_shape = train_images.shape[1:],activation='relu',padding='same'))\n",
    "model.add(tf.keras.layers.Conv2D(64, (3, 3),activation='relu',padding='same'))\n",
    "model.add(keras.layers.MaxPool2D()) # 默认参数是2*2，会将图片缩小为原来的一半\n",
    "model.add(keras.layers.Dropout(0.5))\n",
    "model.add(keras.layers.Conv2D(128, (3, 3), activation='relu',padding='same'))# 卷积核个数是2的n次方递增的，可以增强拟合能力\n",
    "model.add(keras.layers.Conv2D(128, (3, 3), activation='relu',padding='same'))\n",
    "model.add(keras.layers.MaxPool2D())\n",
    "model.add(keras.layers.Dropout(0.5))\n",
    "model.add(keras.layers.Conv2D(256, (3, 3), activation='relu',padding='same'))\n",
    "model.add(keras.layers.Conv2D(256, (3, 3), activation='relu',padding='same'))\n",
    "model.add(keras.layers.MaxPool2D())\n",
    "model.add(keras.layers.Dropout(0.5))\n",
    "model.add(keras.layers.Conv2D(512, (3, 3), activation='relu',padding='same'))\n",
    "model.add(keras.layers.Conv2D(512, (3, 3), activation='relu',padding='same'))\n",
    "model.add(keras.layers.Dropout(0.5))\n",
    "model.add(keras.layers.GlobalAveragePooling2D()) # 全局平均值化\n",
    "model.add(keras.layers.Dense(256, activation='relu')) \n",
    "model.add(keras.layers.Dense(10, activation='softmax')) #输出层"
   ]
  },
  {
   "cell_type": "code",
   "execution_count": 24,
   "metadata": {
    "execution": {
     "iopub.execute_input": "2023-03-06T11:40:30.518561Z",
     "iopub.status.busy": "2023-03-06T11:40:30.517630Z",
     "iopub.status.idle": "2023-03-06T11:40:30.567444Z",
     "shell.execute_reply": "2023-03-06T11:40:30.566677Z",
     "shell.execute_reply.started": "2023-03-06T11:40:30.518522Z"
    }
   },
   "outputs": [
    {
     "name": "stdout",
     "output_type": "stream",
     "text": [
      "Model: \"sequential_1\"\n",
      "_________________________________________________________________\n",
      "Layer (type)                 Output Shape              Param #   \n",
      "=================================================================\n",
      "conv2d_2 (Conv2D)            (None, 28, 28, 64)        640       \n",
      "_________________________________________________________________\n",
      "conv2d_3 (Conv2D)            (None, 28, 28, 64)        36928     \n",
      "_________________________________________________________________\n",
      "max_pooling2d_1 (MaxPooling2 (None, 14, 14, 64)        0         \n",
      "_________________________________________________________________\n",
      "dropout (Dropout)            (None, 14, 14, 64)        0         \n",
      "_________________________________________________________________\n",
      "conv2d_4 (Conv2D)            (None, 14, 14, 128)       73856     \n",
      "_________________________________________________________________\n",
      "conv2d_5 (Conv2D)            (None, 14, 14, 128)       147584    \n",
      "_________________________________________________________________\n",
      "max_pooling2d_2 (MaxPooling2 (None, 7, 7, 128)         0         \n",
      "_________________________________________________________________\n",
      "dropout_1 (Dropout)          (None, 7, 7, 128)         0         \n",
      "_________________________________________________________________\n",
      "conv2d_6 (Conv2D)            (None, 7, 7, 256)         295168    \n",
      "_________________________________________________________________\n",
      "conv2d_7 (Conv2D)            (None, 7, 7, 256)         590080    \n",
      "_________________________________________________________________\n",
      "max_pooling2d_3 (MaxPooling2 (None, 3, 3, 256)         0         \n",
      "_________________________________________________________________\n",
      "dropout_2 (Dropout)          (None, 3, 3, 256)         0         \n",
      "_________________________________________________________________\n",
      "conv2d_8 (Conv2D)            (None, 3, 3, 512)         1180160   \n",
      "_________________________________________________________________\n",
      "conv2d_9 (Conv2D)            (None, 3, 3, 512)         2359808   \n",
      "_________________________________________________________________\n",
      "dropout_3 (Dropout)          (None, 3, 3, 512)         0         \n",
      "_________________________________________________________________\n",
      "global_average_pooling2d_1 ( (None, 512)               0         \n",
      "_________________________________________________________________\n",
      "dense_1 (Dense)              (None, 256)               131328    \n",
      "_________________________________________________________________\n",
      "dense_2 (Dense)              (None, 10)                2570      \n",
      "=================================================================\n",
      "Total params: 4,818,122\n",
      "Trainable params: 4,818,122\n",
      "Non-trainable params: 0\n",
      "_________________________________________________________________\n"
     ]
    }
   ],
   "source": [
    "model.summary()"
   ]
  },
  {
   "cell_type": "code",
   "execution_count": 25,
   "metadata": {
    "execution": {
     "iopub.execute_input": "2023-03-06T11:40:30.568820Z",
     "iopub.status.busy": "2023-03-06T11:40:30.568451Z",
     "iopub.status.idle": "2023-03-06T11:40:30.591389Z",
     "shell.execute_reply": "2023-03-06T11:40:30.590591Z",
     "shell.execute_reply.started": "2023-03-06T11:40:30.568782Z"
    }
   },
   "outputs": [],
   "source": [
    "model.compile(optimizer='adam', #优化函数\n",
    "             loss='sparse_categorical_crossentropy',\n",
    "             metrics=['acc'] #训练过程中输出正确率\n",
    "             )"
   ]
  },
  {
   "cell_type": "code",
   "execution_count": 26,
   "metadata": {
    "execution": {
     "iopub.execute_input": "2023-03-06T11:40:30.592985Z",
     "iopub.status.busy": "2023-03-06T11:40:30.592646Z",
     "iopub.status.idle": "2023-03-06T11:53:48.106147Z",
     "shell.execute_reply": "2023-03-06T11:53:48.105108Z",
     "shell.execute_reply.started": "2023-03-06T11:40:30.592951Z"
    }
   },
   "outputs": [
    {
     "name": "stdout",
     "output_type": "stream",
     "text": [
      "Train on 60000 samples, validate on 10000 samples\n",
      "Epoch 1/30\n",
      "60000/60000 [==============================] - 582s 10ms/sample - loss: 0.8059 - acc: 0.7010 - val_loss: 0.4241 - val_acc: 0.8403\n",
      "Epoch 2/30\n",
      "27392/60000 [============>.................] - ETA: 4:52 - loss: 0.4734 - acc: 0.8277"
     ]
    },
    {
     "ename": "KeyboardInterrupt",
     "evalue": "",
     "output_type": "error",
     "traceback": [
      "\u001b[1;31m---------------------------------------------------------------------------\u001b[0m",
      "\u001b[1;31mKeyboardInterrupt\u001b[0m                         Traceback (most recent call last)",
      "\u001b[1;32m~\\AppData\\Local\\Temp\\ipykernel_19704\\2311680125.py\u001b[0m in \u001b[0;36m<module>\u001b[1;34m\u001b[0m\n\u001b[1;32m----> 1\u001b[1;33m \u001b[0mhistory\u001b[0m \u001b[1;33m=\u001b[0m \u001b[0mmodel\u001b[0m\u001b[1;33m.\u001b[0m\u001b[0mfit\u001b[0m\u001b[1;33m(\u001b[0m\u001b[0mtrain_images\u001b[0m\u001b[1;33m,\u001b[0m \u001b[0mtrain_labels\u001b[0m\u001b[1;33m,\u001b[0m \u001b[0mepochs\u001b[0m\u001b[1;33m=\u001b[0m\u001b[1;36m30\u001b[0m\u001b[1;33m,\u001b[0m \u001b[0mvalidation_data\u001b[0m\u001b[1;33m=\u001b[0m\u001b[1;33m(\u001b[0m\u001b[0mtest_images\u001b[0m\u001b[1;33m,\u001b[0m \u001b[0mtest_labels\u001b[0m\u001b[1;33m)\u001b[0m\u001b[1;33m)\u001b[0m\u001b[1;33m\u001b[0m\u001b[1;33m\u001b[0m\u001b[0m\n\u001b[0m",
      "\u001b[1;32mD:\\soft\\Anaconda\\envs\\python37\\lib\\site-packages\\tensorflow_core\\python\\keras\\engine\\training.py\u001b[0m in \u001b[0;36mfit\u001b[1;34m(self, x, y, batch_size, epochs, verbose, callbacks, validation_split, validation_data, shuffle, class_weight, sample_weight, initial_epoch, steps_per_epoch, validation_steps, validation_freq, max_queue_size, workers, use_multiprocessing, **kwargs)\u001b[0m\n\u001b[0;32m    726\u001b[0m         \u001b[0mmax_queue_size\u001b[0m\u001b[1;33m=\u001b[0m\u001b[0mmax_queue_size\u001b[0m\u001b[1;33m,\u001b[0m\u001b[1;33m\u001b[0m\u001b[1;33m\u001b[0m\u001b[0m\n\u001b[0;32m    727\u001b[0m         \u001b[0mworkers\u001b[0m\u001b[1;33m=\u001b[0m\u001b[0mworkers\u001b[0m\u001b[1;33m,\u001b[0m\u001b[1;33m\u001b[0m\u001b[1;33m\u001b[0m\u001b[0m\n\u001b[1;32m--> 728\u001b[1;33m         use_multiprocessing=use_multiprocessing)\n\u001b[0m\u001b[0;32m    729\u001b[0m \u001b[1;33m\u001b[0m\u001b[0m\n\u001b[0;32m    730\u001b[0m   def evaluate(self,\n",
      "\u001b[1;32mD:\\soft\\Anaconda\\envs\\python37\\lib\\site-packages\\tensorflow_core\\python\\keras\\engine\\training_v2.py\u001b[0m in \u001b[0;36mfit\u001b[1;34m(self, model, x, y, batch_size, epochs, verbose, callbacks, validation_split, validation_data, shuffle, class_weight, sample_weight, initial_epoch, steps_per_epoch, validation_steps, validation_freq, **kwargs)\u001b[0m\n\u001b[0;32m    322\u001b[0m                 \u001b[0mmode\u001b[0m\u001b[1;33m=\u001b[0m\u001b[0mModeKeys\u001b[0m\u001b[1;33m.\u001b[0m\u001b[0mTRAIN\u001b[0m\u001b[1;33m,\u001b[0m\u001b[1;33m\u001b[0m\u001b[1;33m\u001b[0m\u001b[0m\n\u001b[0;32m    323\u001b[0m                 \u001b[0mtraining_context\u001b[0m\u001b[1;33m=\u001b[0m\u001b[0mtraining_context\u001b[0m\u001b[1;33m,\u001b[0m\u001b[1;33m\u001b[0m\u001b[1;33m\u001b[0m\u001b[0m\n\u001b[1;32m--> 324\u001b[1;33m                 total_epochs=epochs)\n\u001b[0m\u001b[0;32m    325\u001b[0m             \u001b[0mcbks\u001b[0m\u001b[1;33m.\u001b[0m\u001b[0mmake_logs\u001b[0m\u001b[1;33m(\u001b[0m\u001b[0mmodel\u001b[0m\u001b[1;33m,\u001b[0m \u001b[0mepoch_logs\u001b[0m\u001b[1;33m,\u001b[0m \u001b[0mtraining_result\u001b[0m\u001b[1;33m,\u001b[0m \u001b[0mModeKeys\u001b[0m\u001b[1;33m.\u001b[0m\u001b[0mTRAIN\u001b[0m\u001b[1;33m)\u001b[0m\u001b[1;33m\u001b[0m\u001b[1;33m\u001b[0m\u001b[0m\n\u001b[0;32m    326\u001b[0m \u001b[1;33m\u001b[0m\u001b[0m\n",
      "\u001b[1;32mD:\\soft\\Anaconda\\envs\\python37\\lib\\site-packages\\tensorflow_core\\python\\keras\\engine\\training_v2.py\u001b[0m in \u001b[0;36mrun_one_epoch\u001b[1;34m(model, iterator, execution_function, dataset_size, batch_size, strategy, steps_per_epoch, num_samples, mode, training_context, total_epochs)\u001b[0m\n\u001b[0;32m    121\u001b[0m         step=step, mode=mode, size=current_batch_size) as batch_logs:\n\u001b[0;32m    122\u001b[0m       \u001b[1;32mtry\u001b[0m\u001b[1;33m:\u001b[0m\u001b[1;33m\u001b[0m\u001b[1;33m\u001b[0m\u001b[0m\n\u001b[1;32m--> 123\u001b[1;33m         \u001b[0mbatch_outs\u001b[0m \u001b[1;33m=\u001b[0m \u001b[0mexecution_function\u001b[0m\u001b[1;33m(\u001b[0m\u001b[0miterator\u001b[0m\u001b[1;33m)\u001b[0m\u001b[1;33m\u001b[0m\u001b[1;33m\u001b[0m\u001b[0m\n\u001b[0m\u001b[0;32m    124\u001b[0m       \u001b[1;32mexcept\u001b[0m \u001b[1;33m(\u001b[0m\u001b[0mStopIteration\u001b[0m\u001b[1;33m,\u001b[0m \u001b[0merrors\u001b[0m\u001b[1;33m.\u001b[0m\u001b[0mOutOfRangeError\u001b[0m\u001b[1;33m)\u001b[0m\u001b[1;33m:\u001b[0m\u001b[1;33m\u001b[0m\u001b[1;33m\u001b[0m\u001b[0m\n\u001b[0;32m    125\u001b[0m         \u001b[1;31m# TODO(kaftan): File bug about tf function and errors.OutOfRangeError?\u001b[0m\u001b[1;33m\u001b[0m\u001b[1;33m\u001b[0m\u001b[1;33m\u001b[0m\u001b[0m\n",
      "\u001b[1;32mD:\\soft\\Anaconda\\envs\\python37\\lib\\site-packages\\tensorflow_core\\python\\keras\\engine\\training_v2_utils.py\u001b[0m in \u001b[0;36mexecution_function\u001b[1;34m(input_fn)\u001b[0m\n\u001b[0;32m     84\u001b[0m     \u001b[1;31m# `numpy` translates Tensors to values in Eager mode.\u001b[0m\u001b[1;33m\u001b[0m\u001b[1;33m\u001b[0m\u001b[1;33m\u001b[0m\u001b[0m\n\u001b[0;32m     85\u001b[0m     return nest.map_structure(_non_none_constant_value,\n\u001b[1;32m---> 86\u001b[1;33m                               distributed_function(input_fn))\n\u001b[0m\u001b[0;32m     87\u001b[0m \u001b[1;33m\u001b[0m\u001b[0m\n\u001b[0;32m     88\u001b[0m   \u001b[1;32mreturn\u001b[0m \u001b[0mexecution_function\u001b[0m\u001b[1;33m\u001b[0m\u001b[1;33m\u001b[0m\u001b[0m\n",
      "\u001b[1;32mD:\\soft\\Anaconda\\envs\\python37\\lib\\site-packages\\tensorflow_core\\python\\eager\\def_function.py\u001b[0m in \u001b[0;36m__call__\u001b[1;34m(self, *args, **kwds)\u001b[0m\n\u001b[0;32m    455\u001b[0m \u001b[1;33m\u001b[0m\u001b[0m\n\u001b[0;32m    456\u001b[0m     \u001b[0mtracing_count\u001b[0m \u001b[1;33m=\u001b[0m \u001b[0mself\u001b[0m\u001b[1;33m.\u001b[0m\u001b[0m_get_tracing_count\u001b[0m\u001b[1;33m(\u001b[0m\u001b[1;33m)\u001b[0m\u001b[1;33m\u001b[0m\u001b[1;33m\u001b[0m\u001b[0m\n\u001b[1;32m--> 457\u001b[1;33m     \u001b[0mresult\u001b[0m \u001b[1;33m=\u001b[0m \u001b[0mself\u001b[0m\u001b[1;33m.\u001b[0m\u001b[0m_call\u001b[0m\u001b[1;33m(\u001b[0m\u001b[1;33m*\u001b[0m\u001b[0margs\u001b[0m\u001b[1;33m,\u001b[0m \u001b[1;33m**\u001b[0m\u001b[0mkwds\u001b[0m\u001b[1;33m)\u001b[0m\u001b[1;33m\u001b[0m\u001b[1;33m\u001b[0m\u001b[0m\n\u001b[0m\u001b[0;32m    458\u001b[0m     \u001b[1;32mif\u001b[0m \u001b[0mtracing_count\u001b[0m \u001b[1;33m==\u001b[0m \u001b[0mself\u001b[0m\u001b[1;33m.\u001b[0m\u001b[0m_get_tracing_count\u001b[0m\u001b[1;33m(\u001b[0m\u001b[1;33m)\u001b[0m\u001b[1;33m:\u001b[0m\u001b[1;33m\u001b[0m\u001b[1;33m\u001b[0m\u001b[0m\n\u001b[0;32m    459\u001b[0m       \u001b[0mself\u001b[0m\u001b[1;33m.\u001b[0m\u001b[0m_call_counter\u001b[0m\u001b[1;33m.\u001b[0m\u001b[0mcalled_without_tracing\u001b[0m\u001b[1;33m(\u001b[0m\u001b[1;33m)\u001b[0m\u001b[1;33m\u001b[0m\u001b[1;33m\u001b[0m\u001b[0m\n",
      "\u001b[1;32mD:\\soft\\Anaconda\\envs\\python37\\lib\\site-packages\\tensorflow_core\\python\\eager\\def_function.py\u001b[0m in \u001b[0;36m_call\u001b[1;34m(self, *args, **kwds)\u001b[0m\n\u001b[0;32m    485\u001b[0m       \u001b[1;31m# In this case we have created variables on the first call, so we run the\u001b[0m\u001b[1;33m\u001b[0m\u001b[1;33m\u001b[0m\u001b[1;33m\u001b[0m\u001b[0m\n\u001b[0;32m    486\u001b[0m       \u001b[1;31m# defunned version which is guaranteed to never create variables.\u001b[0m\u001b[1;33m\u001b[0m\u001b[1;33m\u001b[0m\u001b[1;33m\u001b[0m\u001b[0m\n\u001b[1;32m--> 487\u001b[1;33m       \u001b[1;32mreturn\u001b[0m \u001b[0mself\u001b[0m\u001b[1;33m.\u001b[0m\u001b[0m_stateless_fn\u001b[0m\u001b[1;33m(\u001b[0m\u001b[1;33m*\u001b[0m\u001b[0margs\u001b[0m\u001b[1;33m,\u001b[0m \u001b[1;33m**\u001b[0m\u001b[0mkwds\u001b[0m\u001b[1;33m)\u001b[0m  \u001b[1;31m# pylint: disable=not-callable\u001b[0m\u001b[1;33m\u001b[0m\u001b[1;33m\u001b[0m\u001b[0m\n\u001b[0m\u001b[0;32m    488\u001b[0m     \u001b[1;32melif\u001b[0m \u001b[0mself\u001b[0m\u001b[1;33m.\u001b[0m\u001b[0m_stateful_fn\u001b[0m \u001b[1;32mis\u001b[0m \u001b[1;32mnot\u001b[0m \u001b[1;32mNone\u001b[0m\u001b[1;33m:\u001b[0m\u001b[1;33m\u001b[0m\u001b[1;33m\u001b[0m\u001b[0m\n\u001b[0;32m    489\u001b[0m       \u001b[1;31m# Release the lock early so that multiple threads can perform the call\u001b[0m\u001b[1;33m\u001b[0m\u001b[1;33m\u001b[0m\u001b[1;33m\u001b[0m\u001b[0m\n",
      "\u001b[1;32mD:\\soft\\Anaconda\\envs\\python37\\lib\\site-packages\\tensorflow_core\\python\\eager\\function.py\u001b[0m in \u001b[0;36m__call__\u001b[1;34m(self, *args, **kwargs)\u001b[0m\n\u001b[0;32m   1821\u001b[0m     \u001b[1;34m\"\"\"Calls a graph function specialized to the inputs.\"\"\"\u001b[0m\u001b[1;33m\u001b[0m\u001b[1;33m\u001b[0m\u001b[0m\n\u001b[0;32m   1822\u001b[0m     \u001b[0mgraph_function\u001b[0m\u001b[1;33m,\u001b[0m \u001b[0margs\u001b[0m\u001b[1;33m,\u001b[0m \u001b[0mkwargs\u001b[0m \u001b[1;33m=\u001b[0m \u001b[0mself\u001b[0m\u001b[1;33m.\u001b[0m\u001b[0m_maybe_define_function\u001b[0m\u001b[1;33m(\u001b[0m\u001b[0margs\u001b[0m\u001b[1;33m,\u001b[0m \u001b[0mkwargs\u001b[0m\u001b[1;33m)\u001b[0m\u001b[1;33m\u001b[0m\u001b[1;33m\u001b[0m\u001b[0m\n\u001b[1;32m-> 1823\u001b[1;33m     \u001b[1;32mreturn\u001b[0m \u001b[0mgraph_function\u001b[0m\u001b[1;33m.\u001b[0m\u001b[0m_filtered_call\u001b[0m\u001b[1;33m(\u001b[0m\u001b[0margs\u001b[0m\u001b[1;33m,\u001b[0m \u001b[0mkwargs\u001b[0m\u001b[1;33m)\u001b[0m  \u001b[1;31m# pylint: disable=protected-access\u001b[0m\u001b[1;33m\u001b[0m\u001b[1;33m\u001b[0m\u001b[0m\n\u001b[0m\u001b[0;32m   1824\u001b[0m \u001b[1;33m\u001b[0m\u001b[0m\n\u001b[0;32m   1825\u001b[0m   \u001b[1;33m@\u001b[0m\u001b[0mproperty\u001b[0m\u001b[1;33m\u001b[0m\u001b[1;33m\u001b[0m\u001b[0m\n",
      "\u001b[1;32mD:\\soft\\Anaconda\\envs\\python37\\lib\\site-packages\\tensorflow_core\\python\\eager\\function.py\u001b[0m in \u001b[0;36m_filtered_call\u001b[1;34m(self, args, kwargs)\u001b[0m\n\u001b[0;32m   1139\u001b[0m          if isinstance(t, (ops.Tensor,\n\u001b[0;32m   1140\u001b[0m                            resource_variable_ops.BaseResourceVariable))),\n\u001b[1;32m-> 1141\u001b[1;33m         self.captured_inputs)\n\u001b[0m\u001b[0;32m   1142\u001b[0m \u001b[1;33m\u001b[0m\u001b[0m\n\u001b[0;32m   1143\u001b[0m   \u001b[1;32mdef\u001b[0m \u001b[0m_call_flat\u001b[0m\u001b[1;33m(\u001b[0m\u001b[0mself\u001b[0m\u001b[1;33m,\u001b[0m \u001b[0margs\u001b[0m\u001b[1;33m,\u001b[0m \u001b[0mcaptured_inputs\u001b[0m\u001b[1;33m,\u001b[0m \u001b[0mcancellation_manager\u001b[0m\u001b[1;33m=\u001b[0m\u001b[1;32mNone\u001b[0m\u001b[1;33m)\u001b[0m\u001b[1;33m:\u001b[0m\u001b[1;33m\u001b[0m\u001b[1;33m\u001b[0m\u001b[0m\n",
      "\u001b[1;32mD:\\soft\\Anaconda\\envs\\python37\\lib\\site-packages\\tensorflow_core\\python\\eager\\function.py\u001b[0m in \u001b[0;36m_call_flat\u001b[1;34m(self, args, captured_inputs, cancellation_manager)\u001b[0m\n\u001b[0;32m   1222\u001b[0m     \u001b[1;32mif\u001b[0m \u001b[0mexecuting_eagerly\u001b[0m\u001b[1;33m:\u001b[0m\u001b[1;33m\u001b[0m\u001b[1;33m\u001b[0m\u001b[0m\n\u001b[0;32m   1223\u001b[0m       flat_outputs = forward_function.call(\n\u001b[1;32m-> 1224\u001b[1;33m           ctx, args, cancellation_manager=cancellation_manager)\n\u001b[0m\u001b[0;32m   1225\u001b[0m     \u001b[1;32melse\u001b[0m\u001b[1;33m:\u001b[0m\u001b[1;33m\u001b[0m\u001b[1;33m\u001b[0m\u001b[0m\n\u001b[0;32m   1226\u001b[0m       \u001b[0mgradient_name\u001b[0m \u001b[1;33m=\u001b[0m \u001b[0mself\u001b[0m\u001b[1;33m.\u001b[0m\u001b[0m_delayed_rewrite_functions\u001b[0m\u001b[1;33m.\u001b[0m\u001b[0mregister\u001b[0m\u001b[1;33m(\u001b[0m\u001b[1;33m)\u001b[0m\u001b[1;33m\u001b[0m\u001b[1;33m\u001b[0m\u001b[0m\n",
      "\u001b[1;32mD:\\soft\\Anaconda\\envs\\python37\\lib\\site-packages\\tensorflow_core\\python\\eager\\function.py\u001b[0m in \u001b[0;36mcall\u001b[1;34m(self, ctx, args, cancellation_manager)\u001b[0m\n\u001b[0;32m    509\u001b[0m               \u001b[0minputs\u001b[0m\u001b[1;33m=\u001b[0m\u001b[0margs\u001b[0m\u001b[1;33m,\u001b[0m\u001b[1;33m\u001b[0m\u001b[1;33m\u001b[0m\u001b[0m\n\u001b[0;32m    510\u001b[0m               \u001b[0mattrs\u001b[0m\u001b[1;33m=\u001b[0m\u001b[1;33m(\u001b[0m\u001b[1;34m\"executor_type\"\u001b[0m\u001b[1;33m,\u001b[0m \u001b[0mexecutor_type\u001b[0m\u001b[1;33m,\u001b[0m \u001b[1;34m\"config_proto\"\u001b[0m\u001b[1;33m,\u001b[0m \u001b[0mconfig\u001b[0m\u001b[1;33m)\u001b[0m\u001b[1;33m,\u001b[0m\u001b[1;33m\u001b[0m\u001b[1;33m\u001b[0m\u001b[0m\n\u001b[1;32m--> 511\u001b[1;33m               ctx=ctx)\n\u001b[0m\u001b[0;32m    512\u001b[0m         \u001b[1;32melse\u001b[0m\u001b[1;33m:\u001b[0m\u001b[1;33m\u001b[0m\u001b[1;33m\u001b[0m\u001b[0m\n\u001b[0;32m    513\u001b[0m           outputs = execute.execute_with_cancellation(\n",
      "\u001b[1;32mD:\\soft\\Anaconda\\envs\\python37\\lib\\site-packages\\tensorflow_core\\python\\eager\\execute.py\u001b[0m in \u001b[0;36mquick_execute\u001b[1;34m(op_name, num_outputs, inputs, attrs, ctx, name)\u001b[0m\n\u001b[0;32m     59\u001b[0m     tensors = pywrap_tensorflow.TFE_Py_Execute(ctx._handle, device_name,\n\u001b[0;32m     60\u001b[0m                                                \u001b[0mop_name\u001b[0m\u001b[1;33m,\u001b[0m \u001b[0minputs\u001b[0m\u001b[1;33m,\u001b[0m \u001b[0mattrs\u001b[0m\u001b[1;33m,\u001b[0m\u001b[1;33m\u001b[0m\u001b[1;33m\u001b[0m\u001b[0m\n\u001b[1;32m---> 61\u001b[1;33m                                                num_outputs)\n\u001b[0m\u001b[0;32m     62\u001b[0m   \u001b[1;32mexcept\u001b[0m \u001b[0mcore\u001b[0m\u001b[1;33m.\u001b[0m\u001b[0m_NotOkStatusException\u001b[0m \u001b[1;32mas\u001b[0m \u001b[0me\u001b[0m\u001b[1;33m:\u001b[0m\u001b[1;33m\u001b[0m\u001b[1;33m\u001b[0m\u001b[0m\n\u001b[0;32m     63\u001b[0m     \u001b[1;32mif\u001b[0m \u001b[0mname\u001b[0m \u001b[1;32mis\u001b[0m \u001b[1;32mnot\u001b[0m \u001b[1;32mNone\u001b[0m\u001b[1;33m:\u001b[0m\u001b[1;33m\u001b[0m\u001b[1;33m\u001b[0m\u001b[0m\n",
      "\u001b[1;31mKeyboardInterrupt\u001b[0m: "
     ]
    }
   ],
   "source": [
    "history = model.fit(train_images, train_labels, epochs=30, validation_data=(test_images, test_labels))"
   ]
  },
  {
   "cell_type": "code",
   "execution_count": null,
   "metadata": {
    "execution": {
     "iopub.execute_input": "2023-03-06T11:53:48.108314Z",
     "iopub.status.busy": "2023-03-06T11:53:48.108005Z",
     "iopub.status.idle": "2023-03-06T11:53:48.327431Z",
     "shell.execute_reply": "2023-03-06T11:53:48.326476Z",
     "shell.execute_reply.started": "2023-03-06T11:53:48.108285Z"
    }
   },
   "outputs": [],
   "source": [
    "plt.plot(history.epoch, history.history.get('acc'), label='acc')\n",
    "plt.plot(history.epoch, history.history.get('val_acc'), label='val_acc') "
   ]
  },
  {
   "cell_type": "code",
   "execution_count": null,
   "metadata": {
    "execution": {
     "iopub.execute_input": "2023-03-06T11:53:48.333260Z",
     "iopub.status.busy": "2023-03-06T11:53:48.332976Z",
     "iopub.status.idle": "2023-03-06T11:53:48.555667Z",
     "shell.execute_reply": "2023-03-06T11:53:48.554658Z",
     "shell.execute_reply.started": "2023-03-06T11:53:48.333234Z"
    }
   },
   "outputs": [],
   "source": [
    "plt.plot(history.epoch, history.history.get('loss'), label='loss')\n",
    "plt.plot(history.epoch, history.history.get('val_loss'), label='val_loss')\n"
   ]
  }
 ],
 "metadata": {
  "kernelspec": {
   "display_name": "Python 3 (ipykernel)",
   "language": "python",
   "name": "python3"
  },
  "language_info": {
   "codemirror_mode": {
    "name": "ipython",
    "version": 3
   },
   "file_extension": ".py",
   "mimetype": "text/x-python",
   "name": "python",
   "nbconvert_exporter": "python",
   "pygments_lexer": "ipython3",
   "version": "3.7.16"
  }
 },
 "nbformat": 4,
 "nbformat_minor": 4
}
