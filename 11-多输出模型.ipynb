{
 "cells": [
  {
   "cell_type": "code",
   "execution_count": 1,
   "metadata": {
    "execution": {
     "iopub.execute_input": "2023-03-26T08:11:43.469209Z",
     "iopub.status.busy": "2023-03-26T08:11:43.468793Z",
     "iopub.status.idle": "2023-03-26T08:11:51.932735Z",
     "shell.execute_reply": "2023-03-26T08:11:51.931453Z",
     "shell.execute_reply.started": "2023-03-26T08:11:43.469170Z"
    }
   },
   "outputs": [],
   "source": [
    "import tensorflow as tf"
   ]
  },
  {
   "cell_type": "code",
   "execution_count": null,
   "metadata": {
    "execution": {
     "iopub.execute_input": "2023-03-26T08:11:51.937005Z",
     "iopub.status.busy": "2023-03-26T08:11:51.935908Z",
     "iopub.status.idle": "2023-03-26T08:11:51.944988Z",
     "shell.execute_reply": "2023-03-26T08:11:51.943669Z",
     "shell.execute_reply.started": "2023-03-26T08:11:51.936951Z"
    }
   },
   "outputs": [],
   "source": [
    "from tensorflow import keras\n",
    "import matplotlib.pyplot as plt\n",
    "%matplotlib inline\n",
    "import numpy as np\n",
    "import pathlib"
   ]
  },
  {
   "cell_type": "code",
   "execution_count": null,
   "metadata": {
    "execution": {
     "iopub.execute_input": "2023-03-26T08:11:51.946976Z",
     "iopub.status.busy": "2023-03-26T08:11:51.946514Z",
     "iopub.status.idle": "2023-03-26T08:11:51.954298Z",
     "shell.execute_reply": "2023-03-26T08:11:51.953014Z",
     "shell.execute_reply.started": "2023-03-26T08:11:51.946909Z"
    }
   },
   "outputs": [],
   "source": [
    "data_dir = '.\\dataset\\moc'"
   ]
  },
  {
   "cell_type": "code",
   "execution_count": null,
   "metadata": {
    "execution": {
     "iopub.execute_input": "2023-03-26T08:11:51.958151Z",
     "iopub.status.busy": "2023-03-26T08:11:51.957275Z",
     "iopub.status.idle": "2023-03-26T08:11:51.964072Z",
     "shell.execute_reply": "2023-03-26T08:11:51.962952Z",
     "shell.execute_reply.started": "2023-03-26T08:11:51.958096Z"
    }
   },
   "outputs": [],
   "source": [
    "data_root = pathlib.Path(data_dir)"
   ]
  },
  {
   "cell_type": "code",
   "execution_count": null,
   "metadata": {
    "execution": {
     "iopub.execute_input": "2023-03-26T08:11:51.966443Z",
     "iopub.status.busy": "2023-03-26T08:11:51.965712Z",
     "iopub.status.idle": "2023-03-26T08:11:51.977566Z",
     "shell.execute_reply": "2023-03-26T08:11:51.976164Z",
     "shell.execute_reply.started": "2023-03-26T08:11:51.966394Z"
    }
   },
   "outputs": [],
   "source": [
    "data_root"
   ]
  },
  {
   "cell_type": "code",
   "execution_count": null,
   "metadata": {
    "execution": {
     "iopub.execute_input": "2023-03-26T08:11:51.979479Z",
     "iopub.status.busy": "2023-03-26T08:11:51.979000Z",
     "iopub.status.idle": "2023-03-26T08:11:51.996435Z",
     "shell.execute_reply": "2023-03-26T08:11:51.994883Z",
     "shell.execute_reply.started": "2023-03-26T08:11:51.979378Z"
    }
   },
   "outputs": [],
   "source": [
    "for item in data_root.iterdir():\n",
    "    print(item)"
   ]
  },
  {
   "cell_type": "code",
   "execution_count": null,
   "metadata": {
    "execution": {
     "iopub.execute_input": "2023-03-26T08:11:51.998761Z",
     "iopub.status.busy": "2023-03-26T08:11:51.998205Z",
     "iopub.status.idle": "2023-03-26T08:11:55.688341Z",
     "shell.execute_reply": "2023-03-26T08:11:55.686992Z",
     "shell.execute_reply.started": "2023-03-26T08:11:51.998701Z"
    }
   },
   "outputs": [],
   "source": [
    "all_image_paths = list(data_root.glob('*/*'))"
   ]
  },
  {
   "cell_type": "code",
   "execution_count": null,
   "metadata": {
    "execution": {
     "iopub.execute_input": "2023-03-26T08:11:55.690301Z",
     "iopub.status.busy": "2023-03-26T08:11:55.689843Z",
     "iopub.status.idle": "2023-03-26T08:11:55.700056Z",
     "shell.execute_reply": "2023-03-26T08:11:55.697033Z",
     "shell.execute_reply.started": "2023-03-26T08:11:55.690254Z"
    }
   },
   "outputs": [],
   "source": [
    "image_count = len(all_image_paths)\n",
    "image_count #取出所有图片"
   ]
  },
  {
   "cell_type": "code",
   "execution_count": null,
   "metadata": {
    "execution": {
     "iopub.execute_input": "2023-03-26T08:11:55.702808Z",
     "iopub.status.busy": "2023-03-26T08:11:55.701702Z",
     "iopub.status.idle": "2023-03-26T08:11:55.731458Z",
     "shell.execute_reply": "2023-03-26T08:11:55.730272Z",
     "shell.execute_reply.started": "2023-03-26T08:11:55.702755Z"
    }
   },
   "outputs": [],
   "source": [
    "all_image_paths[-3:]"
   ]
  },
  {
   "cell_type": "code",
   "execution_count": null,
   "metadata": {
    "execution": {
     "iopub.execute_input": "2023-03-26T08:11:55.736091Z",
     "iopub.status.busy": "2023-03-26T08:11:55.735408Z",
     "iopub.status.idle": "2023-03-26T08:11:55.781880Z",
     "shell.execute_reply": "2023-03-26T08:11:55.780939Z",
     "shell.execute_reply.started": "2023-03-26T08:11:55.736051Z"
    }
   },
   "outputs": [],
   "source": [
    "# 对所有图片的路径进行乱序\n",
    "import random\n",
    "all_image_paths = [str(path) for path in all_image_paths]\n",
    "random.shuffle(all_image_paths)"
   ]
  },
  {
   "cell_type": "code",
   "execution_count": null,
   "metadata": {
    "execution": {
     "iopub.execute_input": "2023-03-26T08:11:55.783651Z",
     "iopub.status.busy": "2023-03-26T08:11:55.783128Z",
     "iopub.status.idle": "2023-03-26T08:11:55.790273Z",
     "shell.execute_reply": "2023-03-26T08:11:55.789002Z",
     "shell.execute_reply.started": "2023-03-26T08:11:55.783616Z"
    }
   },
   "outputs": [],
   "source": [
    "all_image_paths[-3:]"
   ]
  },
  {
   "cell_type": "code",
   "execution_count": null,
   "metadata": {
    "execution": {
     "iopub.execute_input": "2023-03-26T08:11:55.793021Z",
     "iopub.status.busy": "2023-03-26T08:11:55.792021Z",
     "iopub.status.idle": "2023-03-26T08:11:55.802991Z",
     "shell.execute_reply": "2023-03-26T08:11:55.801709Z",
     "shell.execute_reply.started": "2023-03-26T08:11:55.792978Z"
    }
   },
   "outputs": [],
   "source": [
    "label_names = sorted(item.name for item in data_root.glob('*/') if item.is_dir())\n",
    "label_names"
   ]
  },
  {
   "cell_type": "code",
   "execution_count": null,
   "metadata": {
    "execution": {
     "iopub.execute_input": "2023-03-26T08:11:55.805222Z",
     "iopub.status.busy": "2023-03-26T08:11:55.804538Z",
     "iopub.status.idle": "2023-03-26T08:11:55.812404Z",
     "shell.execute_reply": "2023-03-26T08:11:55.811331Z",
     "shell.execute_reply.started": "2023-03-26T08:11:55.805186Z"
    }
   },
   "outputs": [],
   "source": [
    "color_label_names = set(name.split('_')[0] for name in label_names)\n",
    "color_label_names#提取颜色"
   ]
  },
  {
   "cell_type": "code",
   "execution_count": null,
   "metadata": {
    "execution": {
     "iopub.execute_input": "2023-03-26T08:11:55.814392Z",
     "iopub.status.busy": "2023-03-26T08:11:55.813771Z",
     "iopub.status.idle": "2023-03-26T08:11:55.824204Z",
     "shell.execute_reply": "2023-03-26T08:11:55.822952Z",
     "shell.execute_reply.started": "2023-03-26T08:11:55.814356Z"
    }
   },
   "outputs": [],
   "source": [
    "item_label_names = set(name.split('_')[1] for name in label_names)\n",
    "item_label_names#提取物品"
   ]
  },
  {
   "cell_type": "code",
   "execution_count": null,
   "metadata": {
    "execution": {
     "iopub.execute_input": "2023-03-26T08:11:55.827227Z",
     "iopub.status.busy": "2023-03-26T08:11:55.825846Z",
     "iopub.status.idle": "2023-03-26T08:11:55.836054Z",
     "shell.execute_reply": "2023-03-26T08:11:55.834862Z",
     "shell.execute_reply.started": "2023-03-26T08:11:55.827176Z"
    }
   },
   "outputs": [],
   "source": [
    "color_label_to_index = dict((name, index) for index,name in enumerate(color_label_names))\n",
    "color_label_to_index"
   ]
  },
  {
   "cell_type": "code",
   "execution_count": null,
   "metadata": {
    "execution": {
     "iopub.execute_input": "2023-03-26T08:11:55.838892Z",
     "iopub.status.busy": "2023-03-26T08:11:55.838414Z",
     "iopub.status.idle": "2023-03-26T08:11:55.848492Z",
     "shell.execute_reply": "2023-03-26T08:11:55.847257Z",
     "shell.execute_reply.started": "2023-03-26T08:11:55.838843Z"
    }
   },
   "outputs": [],
   "source": [
    "item_label_to_index = dict((name, index) for index,name in enumerate(item_label_names))\n",
    "item_label_to_index"
   ]
  },
  {
   "cell_type": "code",
   "execution_count": null,
   "metadata": {},
   "outputs": [],
   "source": [
    "import IPython.display as display\n",
    "index_to_color =dict( (v, k) for k, v in color_label_to_index.items())\n",
    "\n",
    "index_to_color #知道编号可获取实际名称"
   ]
  },
  {
   "cell_type": "code",
   "execution_count": null,
   "metadata": {},
   "outputs": [],
   "source": [
    "import IPython.display as display\n",
    "index_to_item =dict( (v, k) for k, v in item_label_to_index.items())\n",
    "\n",
    "index_to_item #知道编号可获取实际名称"
   ]
  },
  {
   "cell_type": "code",
   "execution_count": null,
   "metadata": {
    "execution": {
     "iopub.execute_input": "2023-03-26T08:11:55.851262Z",
     "iopub.status.busy": "2023-03-26T08:11:55.850214Z",
     "iopub.status.idle": "2023-03-26T08:11:55.856588Z",
     "shell.execute_reply": "2023-03-26T08:11:55.855339Z",
     "shell.execute_reply.started": "2023-03-26T08:11:55.851214Z"
    }
   },
   "outputs": [],
   "source": [
    "#对label进行编码"
   ]
  },
  {
   "cell_type": "code",
   "execution_count": null,
   "metadata": {
    "execution": {
     "iopub.execute_input": "2023-03-26T08:11:55.859553Z",
     "iopub.status.busy": "2023-03-26T08:11:55.858338Z",
     "iopub.status.idle": "2023-03-26T08:11:56.024199Z",
     "shell.execute_reply": "2023-03-26T08:11:56.022861Z",
     "shell.execute_reply.started": "2023-03-26T08:11:55.859505Z"
    }
   },
   "outputs": [],
   "source": [
    "all_image_labels = [pathlib.Path(path).parent.name for path in all_image_paths]\n",
    "all_image_labels[:5]"
   ]
  },
  {
   "cell_type": "code",
   "execution_count": null,
   "metadata": {
    "execution": {
     "iopub.execute_input": "2023-03-26T08:11:56.026036Z",
     "iopub.status.busy": "2023-03-26T08:11:56.025590Z",
     "iopub.status.idle": "2023-03-26T08:11:56.041709Z",
     "shell.execute_reply": "2023-03-26T08:11:56.040342Z",
     "shell.execute_reply.started": "2023-03-26T08:11:56.026002Z"
    }
   },
   "outputs": [],
   "source": [
    "color_labels = [color_label_to_index[label.split('_')[0]] for label in all_image_labels]\n",
    "color_labels[:5]"
   ]
  },
  {
   "cell_type": "code",
   "execution_count": null,
   "metadata": {
    "execution": {
     "iopub.execute_input": "2023-03-26T08:11:56.044020Z",
     "iopub.status.busy": "2023-03-26T08:11:56.043313Z",
     "iopub.status.idle": "2023-03-26T08:11:56.058223Z",
     "shell.execute_reply": "2023-03-26T08:11:56.056607Z",
     "shell.execute_reply.started": "2023-03-26T08:11:56.043962Z"
    }
   },
   "outputs": [],
   "source": [
    "item_labels = [item_label_to_index[label.split('_')[1]] for label in all_image_labels]\n",
    "item_labels[:5]"
   ]
  },
  {
   "cell_type": "code",
   "execution_count": null,
   "metadata": {
    "execution": {
     "iopub.execute_input": "2023-03-26T08:11:56.060480Z",
     "iopub.status.busy": "2023-03-26T08:11:56.060121Z",
     "iopub.status.idle": "2023-03-26T08:11:56.066196Z",
     "shell.execute_reply": "2023-03-26T08:11:56.064804Z",
     "shell.execute_reply.started": "2023-03-26T08:11:56.060448Z"
    }
   },
   "outputs": [],
   "source": [
    "import IPython.display as display"
   ]
  },
  {
   "cell_type": "code",
   "execution_count": null,
   "metadata": {
    "execution": {
     "iopub.execute_input": "2023-03-26T08:11:56.068754Z",
     "iopub.status.busy": "2023-03-26T08:11:56.068288Z",
     "iopub.status.idle": "2023-03-26T08:11:56.101378Z",
     "shell.execute_reply": "2023-03-26T08:11:56.100113Z",
     "shell.execute_reply.started": "2023-03-26T08:11:56.068703Z"
    }
   },
   "outputs": [],
   "source": [
    "for n in range(3):\n",
    "    image_index = random.choice(range(len(all_image_paths)))\n",
    "    display.display(display.Image(all_image_paths[image_index],width=100, height=100))\n",
    "    print(all_image_labels[image_index])\n",
    "    print()"
   ]
  },
  {
   "cell_type": "code",
   "execution_count": null,
   "metadata": {
    "execution": {
     "iopub.execute_input": "2023-03-26T08:11:56.103022Z",
     "iopub.status.busy": "2023-03-26T08:11:56.102647Z",
     "iopub.status.idle": "2023-03-26T08:11:56.107740Z",
     "shell.execute_reply": "2023-03-26T08:11:56.106248Z",
     "shell.execute_reply.started": "2023-03-26T08:11:56.102989Z"
    }
   },
   "outputs": [],
   "source": [
    "#加载和格式化图片"
   ]
  },
  {
   "cell_type": "code",
   "execution_count": null,
   "metadata": {
    "execution": {
     "iopub.execute_input": "2023-03-26T08:11:56.109935Z",
     "iopub.status.busy": "2023-03-26T08:11:56.109461Z",
     "iopub.status.idle": "2023-03-26T08:11:56.121778Z",
     "shell.execute_reply": "2023-03-26T08:11:56.120153Z",
     "shell.execute_reply.started": "2023-03-26T08:11:56.109848Z"
    }
   },
   "outputs": [],
   "source": [
    "img_path = all_image_paths[0]\n",
    "img_path"
   ]
  },
  {
   "cell_type": "code",
   "execution_count": null,
   "metadata": {
    "execution": {
     "iopub.execute_input": "2023-03-26T08:11:56.124720Z",
     "iopub.status.busy": "2023-03-26T08:11:56.124064Z",
     "iopub.status.idle": "2023-03-26T08:11:56.216653Z",
     "shell.execute_reply": "2023-03-26T08:11:56.215376Z",
     "shell.execute_reply.started": "2023-03-26T08:11:56.124667Z"
    }
   },
   "outputs": [],
   "source": [
    "img_raw = tf.io.read_file(img_path)\n",
    "print(repr(img_raw)[:100]+\"...\")"
   ]
  },
  {
   "cell_type": "code",
   "execution_count": null,
   "metadata": {
    "execution": {
     "iopub.execute_input": "2023-03-26T08:11:56.219400Z",
     "iopub.status.busy": "2023-03-26T08:11:56.218903Z",
     "iopub.status.idle": "2023-03-26T08:11:56.233605Z",
     "shell.execute_reply": "2023-03-26T08:11:56.232433Z",
     "shell.execute_reply.started": "2023-03-26T08:11:56.219350Z"
    }
   },
   "outputs": [],
   "source": [
    "img_tensor = tf.image.decode_image(img_raw)\n",
    "\n",
    "print(img_tensor.shape)\n",
    "print(img_tensor.dtype)"
   ]
  },
  {
   "cell_type": "code",
   "execution_count": null,
   "metadata": {
    "execution": {
     "iopub.execute_input": "2023-03-26T08:11:56.235338Z",
     "iopub.status.busy": "2023-03-26T08:11:56.234961Z",
     "iopub.status.idle": "2023-03-26T08:11:56.274097Z",
     "shell.execute_reply": "2023-03-26T08:11:56.273072Z",
     "shell.execute_reply.started": "2023-03-26T08:11:56.235302Z"
    }
   },
   "outputs": [],
   "source": [
    "img_tensor = tf.cast(img_tensor, tf.float32)\n",
    "img_tensor = tf.image.resize(img_tensor, [224,224])\n",
    "img_final = img_tensor/255.0\n",
    "print(img_final.shape)\n",
    "print(img_final.numpy().min())\n",
    "print(img_final.numpy().max())"
   ]
  },
  {
   "cell_type": "code",
   "execution_count": null,
   "metadata": {
    "execution": {
     "iopub.execute_input": "2023-03-26T08:11:56.282970Z",
     "iopub.status.busy": "2023-03-26T08:11:56.282329Z",
     "iopub.status.idle": "2023-03-26T08:11:56.289862Z",
     "shell.execute_reply": "2023-03-26T08:11:56.288678Z",
     "shell.execute_reply.started": "2023-03-26T08:11:56.282893Z"
    }
   },
   "outputs": [],
   "source": [
    "def load_and_preprocess_image(path):\n",
    "    image = tf.io.read_file(path) #读取图片\n",
    "    image = tf.image.decode_jpeg(image, channels=3) #解码\n",
    "    image = tf.image.resize(image, [244,244]) #重新定义大小为244*244\n",
    "    image = tf.cast(image, tf.float32) #改变数据类型\n",
    "    image = image / 255.0 #归一化到0-1\n",
    "    image = 2*image-1\n",
    "    return image"
   ]
  },
  {
   "cell_type": "code",
   "execution_count": null,
   "metadata": {
    "execution": {
     "iopub.execute_input": "2023-03-26T08:11:56.292337Z",
     "iopub.status.busy": "2023-03-26T08:11:56.291989Z",
     "iopub.status.idle": "2023-03-26T08:11:56.599285Z",
     "shell.execute_reply": "2023-03-26T08:11:56.598231Z",
     "shell.execute_reply.started": "2023-03-26T08:11:56.292302Z"
    }
   },
   "outputs": [],
   "source": [
    "import matplotlib.pyplot as plt\n",
    "\n",
    "image_path = all_image_paths[0]\n",
    "label = all_image_labels[0]\n",
    "\n",
    "plt.imshow((load_and_preprocess_image(img_path)+1)/2) #由-1到1 变为0到1\n",
    "plt.grid(False)\n",
    "plt.xlabel(label)\n",
    "print()"
   ]
  },
  {
   "cell_type": "code",
   "execution_count": null,
   "metadata": {
    "execution": {
     "iopub.execute_input": "2023-03-26T08:11:56.601222Z",
     "iopub.status.busy": "2023-03-26T08:11:56.600617Z",
     "iopub.status.idle": "2023-03-26T08:11:56.862928Z",
     "shell.execute_reply": "2023-03-26T08:11:56.861413Z",
     "shell.execute_reply.started": "2023-03-26T08:11:56.601183Z"
    }
   },
   "outputs": [],
   "source": [
    "path_ds = tf.data.Dataset.from_tensor_slices(all_image_paths)"
   ]
  },
  {
   "cell_type": "code",
   "execution_count": null,
   "metadata": {
    "execution": {
     "iopub.execute_input": "2023-03-26T08:11:56.864855Z",
     "iopub.status.busy": "2023-03-26T08:11:56.864500Z",
     "iopub.status.idle": "2023-03-26T08:11:56.967624Z",
     "shell.execute_reply": "2023-03-26T08:11:56.966041Z",
     "shell.execute_reply.started": "2023-03-26T08:11:56.864820Z"
    }
   },
   "outputs": [],
   "source": [
    "AUTOTUNE = tf.data.experimental.AUTOTUNE\n",
    "image_ds = path_ds.map(load_and_preprocess_image, num_parallel_calls=AUTOTUNE)"
   ]
  },
  {
   "cell_type": "code",
   "execution_count": null,
   "metadata": {
    "execution": {
     "iopub.execute_input": "2023-03-26T08:11:56.969442Z",
     "iopub.status.busy": "2023-03-26T08:11:56.969095Z",
     "iopub.status.idle": "2023-03-26T08:11:57.073175Z",
     "shell.execute_reply": "2023-03-26T08:11:57.071874Z",
     "shell.execute_reply.started": "2023-03-26T08:11:56.969407Z"
    }
   },
   "outputs": [],
   "source": [
    "label_ds = tf.data.Dataset.from_tensor_slices((color_labels, item_labels))"
   ]
  },
  {
   "cell_type": "code",
   "execution_count": null,
   "metadata": {
    "execution": {
     "iopub.execute_input": "2023-03-26T08:11:57.075055Z",
     "iopub.status.busy": "2023-03-26T08:11:57.074676Z",
     "iopub.status.idle": "2023-03-26T08:11:57.169411Z",
     "shell.execute_reply": "2023-03-26T08:11:57.168010Z",
     "shell.execute_reply.started": "2023-03-26T08:11:57.075019Z"
    }
   },
   "outputs": [],
   "source": [
    "for ele in label_ds.take(3):\n",
    "    print(ele[0].numpy(), ele[1].numpy())"
   ]
  },
  {
   "cell_type": "code",
   "execution_count": null,
   "metadata": {
    "execution": {
     "iopub.execute_input": "2023-03-26T08:11:57.171416Z",
     "iopub.status.busy": "2023-03-26T08:11:57.170909Z",
     "iopub.status.idle": "2023-03-26T08:11:57.180994Z",
     "shell.execute_reply": "2023-03-26T08:11:57.179888Z",
     "shell.execute_reply.started": "2023-03-26T08:11:57.171377Z"
    }
   },
   "outputs": [],
   "source": [
    "image_label_ds = tf.data.Dataset.zip((image_ds, label_ds))"
   ]
  },
  {
   "cell_type": "code",
   "execution_count": null,
   "metadata": {
    "execution": {
     "iopub.execute_input": "2023-03-26T08:11:57.183224Z",
     "iopub.status.busy": "2023-03-26T08:11:57.182712Z",
     "iopub.status.idle": "2023-03-26T08:11:57.191886Z",
     "shell.execute_reply": "2023-03-26T08:11:57.190956Z",
     "shell.execute_reply.started": "2023-03-26T08:11:57.183173Z"
    }
   },
   "outputs": [],
   "source": [
    "image_label_ds"
   ]
  },
  {
   "cell_type": "code",
   "execution_count": null,
   "metadata": {
    "execution": {
     "iopub.execute_input": "2023-03-26T08:11:57.194148Z",
     "iopub.status.busy": "2023-03-26T08:11:57.193140Z",
     "iopub.status.idle": "2023-03-26T08:11:57.201524Z",
     "shell.execute_reply": "2023-03-26T08:11:57.200476Z",
     "shell.execute_reply.started": "2023-03-26T08:11:57.194112Z"
    }
   },
   "outputs": [],
   "source": [
    "#划分test数据集\n",
    "test_count = int(image_count*0.2)\n",
    "train_count = image_count - test_count"
   ]
  },
  {
   "cell_type": "code",
   "execution_count": null,
   "metadata": {
    "execution": {
     "iopub.execute_input": "2023-03-26T08:11:57.203580Z",
     "iopub.status.busy": "2023-03-26T08:11:57.202840Z",
     "iopub.status.idle": "2023-03-26T08:11:57.216980Z",
     "shell.execute_reply": "2023-03-26T08:11:57.215799Z",
     "shell.execute_reply.started": "2023-03-26T08:11:57.203543Z"
    }
   },
   "outputs": [],
   "source": [
    "train_data = image_label_ds.skip(test_count)\n",
    "\n",
    "test_data = image_label_ds.take(test_count)"
   ]
  },
  {
   "cell_type": "code",
   "execution_count": null,
   "metadata": {
    "execution": {
     "iopub.execute_input": "2023-03-26T08:11:57.219136Z",
     "iopub.status.busy": "2023-03-26T08:11:57.218350Z",
     "iopub.status.idle": "2023-03-26T08:11:57.225056Z",
     "shell.execute_reply": "2023-03-26T08:11:57.223738Z",
     "shell.execute_reply.started": "2023-03-26T08:11:57.219098Z"
    }
   },
   "outputs": [],
   "source": [
    "BATCH_SIZE = 32"
   ]
  },
  {
   "cell_type": "code",
   "execution_count": null,
   "metadata": {
    "execution": {
     "iopub.execute_input": "2023-03-26T08:11:57.227197Z",
     "iopub.status.busy": "2023-03-26T08:11:57.226801Z",
     "iopub.status.idle": "2023-03-26T08:11:57.250661Z",
     "shell.execute_reply": "2023-03-26T08:11:57.249392Z",
     "shell.execute_reply.started": "2023-03-26T08:11:57.227163Z"
    }
   },
   "outputs": [],
   "source": [
    "train_data = train_data.shuffle(buffer_size=train_count).repeat(-1)\n",
    "train_data = train_data.batch(BATCH_SIZE)\n",
    "train_data = train_data.prefetch(buffer_size=AUTOTUNE)\n",
    "train_data"
   ]
  },
  {
   "cell_type": "code",
   "execution_count": null,
   "metadata": {
    "execution": {
     "iopub.execute_input": "2023-03-26T08:11:57.253144Z",
     "iopub.status.busy": "2023-03-26T08:11:57.252141Z",
     "iopub.status.idle": "2023-03-26T08:11:57.259181Z",
     "shell.execute_reply": "2023-03-26T08:11:57.257851Z",
     "shell.execute_reply.started": "2023-03-26T08:11:57.253080Z"
    }
   },
   "outputs": [],
   "source": [
    "test_data = test_data.batch(BATCH_SIZE)"
   ]
  },
  {
   "cell_type": "code",
   "execution_count": null,
   "metadata": {
    "execution": {
     "iopub.execute_input": "2023-03-26T08:11:57.261673Z",
     "iopub.status.busy": "2023-03-26T08:11:57.260698Z",
     "iopub.status.idle": "2023-03-26T08:11:57.270655Z",
     "shell.execute_reply": "2023-03-26T08:11:57.269584Z",
     "shell.execute_reply.started": "2023-03-26T08:11:57.261618Z"
    }
   },
   "outputs": [],
   "source": [
    "# 11.2 建立模型"
   ]
  },
  {
   "cell_type": "code",
   "execution_count": null,
   "metadata": {
    "execution": {
     "iopub.execute_input": "2023-03-26T08:11:57.272909Z",
     "iopub.status.busy": "2023-03-26T08:11:57.272549Z",
     "iopub.status.idle": "2023-03-26T08:11:59.020968Z",
     "shell.execute_reply": "2023-03-26T08:11:59.019791Z",
     "shell.execute_reply.started": "2023-03-26T08:11:57.272876Z"
    }
   },
   "outputs": [],
   "source": [
    "mobile_net = tf.keras.applications.MobileNetV2(input_shape=(224,224,3),\n",
    "                                               include_top=False\n",
    "                                              )"
   ]
  },
  {
   "cell_type": "code",
   "execution_count": null,
   "metadata": {
    "execution": {
     "iopub.execute_input": "2023-03-26T08:11:59.022807Z",
     "iopub.status.busy": "2023-03-26T08:11:59.022358Z",
     "iopub.status.idle": "2023-03-26T08:11:59.029967Z",
     "shell.execute_reply": "2023-03-26T08:11:59.028797Z",
     "shell.execute_reply.started": "2023-03-26T08:11:59.022767Z"
    }
   },
   "outputs": [],
   "source": [
    "inputs = tf.keras.Input(shape=(244, 244, 3))"
   ]
  },
  {
   "cell_type": "code",
   "execution_count": null,
   "metadata": {
    "execution": {
     "iopub.execute_input": "2023-03-26T08:11:59.031530Z",
     "iopub.status.busy": "2023-03-26T08:11:59.031166Z",
     "iopub.status.idle": "2023-03-26T08:11:59.496265Z",
     "shell.execute_reply": "2023-03-26T08:11:59.495261Z",
     "shell.execute_reply.started": "2023-03-26T08:11:59.031497Z"
    }
   },
   "outputs": [],
   "source": [
    "x = mobile_net(inputs)"
   ]
  },
  {
   "cell_type": "code",
   "execution_count": null,
   "metadata": {
    "execution": {
     "iopub.execute_input": "2023-03-26T08:11:59.498693Z",
     "iopub.status.busy": "2023-03-26T08:11:59.497795Z",
     "iopub.status.idle": "2023-03-26T08:11:59.507510Z",
     "shell.execute_reply": "2023-03-26T08:11:59.506022Z",
     "shell.execute_reply.started": "2023-03-26T08:11:59.498653Z"
    }
   },
   "outputs": [],
   "source": [
    "x.get_shape() #输出变成四维，所以需要添加GlobalAveragePooling2D层"
   ]
  },
  {
   "cell_type": "code",
   "execution_count": null,
   "metadata": {
    "execution": {
     "iopub.execute_input": "2023-03-26T08:11:59.509936Z",
     "iopub.status.busy": "2023-03-26T08:11:59.509275Z",
     "iopub.status.idle": "2023-03-26T08:11:59.522945Z",
     "shell.execute_reply": "2023-03-26T08:11:59.521429Z",
     "shell.execute_reply.started": "2023-03-26T08:11:59.509882Z"
    }
   },
   "outputs": [],
   "source": [
    "x =tf.keras.layers.GlobalAveragePooling2D()(x)"
   ]
  },
  {
   "cell_type": "code",
   "execution_count": null,
   "metadata": {
    "execution": {
     "iopub.execute_input": "2023-03-26T08:11:59.525783Z",
     "iopub.status.busy": "2023-03-26T08:11:59.525324Z",
     "iopub.status.idle": "2023-03-26T08:11:59.536778Z",
     "shell.execute_reply": "2023-03-26T08:11:59.535220Z",
     "shell.execute_reply.started": "2023-03-26T08:11:59.525714Z"
    }
   },
   "outputs": [],
   "source": [
    "x.get_shape() #现在变成[None, 1280]形式"
   ]
  },
  {
   "cell_type": "code",
   "execution_count": null,
   "metadata": {
    "execution": {
     "iopub.execute_input": "2023-03-26T08:11:59.538907Z",
     "iopub.status.busy": "2023-03-26T08:11:59.538529Z",
     "iopub.status.idle": "2023-03-26T08:11:59.591159Z",
     "shell.execute_reply": "2023-03-26T08:11:59.589905Z",
     "shell.execute_reply.started": "2023-03-26T08:11:59.538856Z"
    }
   },
   "outputs": [],
   "source": [
    "x1 = tf.keras.layers.Dense(1024, activation='relu')(x)\n",
    "out_color = tf.keras.layers.Dense(len(color_label_names), activation='softmax', \n",
    "                                  name='out_color')(x1)"
   ]
  },
  {
   "cell_type": "code",
   "execution_count": null,
   "metadata": {
    "execution": {
     "iopub.execute_input": "2023-03-26T08:11:59.593170Z",
     "iopub.status.busy": "2023-03-26T08:11:59.592788Z",
     "iopub.status.idle": "2023-03-26T08:11:59.637088Z",
     "shell.execute_reply": "2023-03-26T08:11:59.636058Z",
     "shell.execute_reply.started": "2023-03-26T08:11:59.593133Z"
    }
   },
   "outputs": [],
   "source": [
    "x2 = tf.keras.layers.Dense(1024, activation='relu')(x)\n",
    "out_item = tf.keras.layers.Dense(len(item_label_names), activation='softmax',\n",
    "                                name='out_item')(x2)"
   ]
  },
  {
   "cell_type": "code",
   "execution_count": null,
   "metadata": {
    "execution": {
     "iopub.execute_input": "2023-03-26T08:11:59.638597Z",
     "iopub.status.busy": "2023-03-26T08:11:59.638277Z",
     "iopub.status.idle": "2023-03-26T08:11:59.649374Z",
     "shell.execute_reply": "2023-03-26T08:11:59.648004Z",
     "shell.execute_reply.started": "2023-03-26T08:11:59.638559Z"
    }
   },
   "outputs": [],
   "source": [
    "model = tf.keras.Model(inputs=inputs,\n",
    "                      outputs=[out_color,out_item])"
   ]
  },
  {
   "cell_type": "code",
   "execution_count": null,
   "metadata": {
    "execution": {
     "iopub.execute_input": "2023-03-26T08:11:59.651442Z",
     "iopub.status.busy": "2023-03-26T08:11:59.651024Z",
     "iopub.status.idle": "2023-03-26T08:11:59.701545Z",
     "shell.execute_reply": "2023-03-26T08:11:59.698969Z",
     "shell.execute_reply.started": "2023-03-26T08:11:59.651389Z"
    }
   },
   "outputs": [],
   "source": [
    "model.summary()"
   ]
  },
  {
   "cell_type": "code",
   "execution_count": null,
   "metadata": {
    "execution": {
     "iopub.execute_input": "2023-03-26T08:11:59.703446Z",
     "iopub.status.busy": "2023-03-26T08:11:59.703127Z",
     "iopub.status.idle": "2023-03-26T08:11:59.711345Z",
     "shell.execute_reply": "2023-03-26T08:11:59.709951Z",
     "shell.execute_reply.started": "2023-03-26T08:11:59.703415Z"
    }
   },
   "outputs": [],
   "source": [
    "#11.3 编译 配置"
   ]
  },
  {
   "cell_type": "code",
   "execution_count": null,
   "metadata": {
    "execution": {
     "iopub.execute_input": "2023-03-26T08:11:59.713415Z",
     "iopub.status.busy": "2023-03-26T08:11:59.712971Z",
     "iopub.status.idle": "2023-03-26T08:11:59.742280Z",
     "shell.execute_reply": "2023-03-26T08:11:59.741126Z",
     "shell.execute_reply.started": "2023-03-26T08:11:59.713381Z"
    }
   },
   "outputs": [],
   "source": [
    "model.compile(optimizer='adam',\n",
    "              loss={'out_color':'sparse_categorical_crossentropy',\n",
    "                    'out_item':'sparse_categorical_crossentropy'},#两个输出，loss赋值为字典,两个使用相同的loss可以只写一个\n",
    "              metrics=['acc']\n",
    "             )"
   ]
  },
  {
   "cell_type": "code",
   "execution_count": null,
   "metadata": {
    "execution": {
     "iopub.execute_input": "2023-03-26T08:11:59.744357Z",
     "iopub.status.busy": "2023-03-26T08:11:59.743662Z",
     "iopub.status.idle": "2023-03-26T08:11:59.748713Z",
     "shell.execute_reply": "2023-03-26T08:11:59.747851Z",
     "shell.execute_reply.started": "2023-03-26T08:11:59.744313Z"
    }
   },
   "outputs": [],
   "source": [
    "train_steps = train_count//BATCH_SIZE\n",
    "test_steps = test_count//BATCH_SIZE"
   ]
  },
  {
   "cell_type": "code",
   "execution_count": null,
   "metadata": {
    "execution": {
     "iopub.execute_input": "2023-03-26T08:11:59.749868Z",
     "iopub.status.busy": "2023-03-26T08:11:59.749583Z",
     "iopub.status.idle": "2023-03-26T08:12:52.432604Z",
     "shell.execute_reply": "2023-03-26T08:12:52.430723Z",
     "shell.execute_reply.started": "2023-03-26T08:11:59.749838Z"
    }
   },
   "outputs": [],
   "source": [
    "history = model.fit(train_data,\n",
    "          epochs=15,\n",
    "          steps_per_epoch=train_steps,\n",
    "          validation_data=test_data,\n",
    "          validation_steps=test_steps)"
   ]
  },
  {
   "cell_type": "code",
   "execution_count": null,
   "metadata": {
    "execution": {
     "iopub.execute_input": "2023-03-26T08:13:05.089399Z",
     "iopub.status.busy": "2023-03-26T08:13:05.088568Z",
     "iopub.status.idle": "2023-03-26T08:13:05.093663Z",
     "shell.execute_reply": "2023-03-26T08:13:05.092651Z",
     "shell.execute_reply.started": "2023-03-26T08:13:05.089357Z"
    }
   },
   "outputs": [],
   "source": [
    "#11.4 评价模型"
   ]
  },
  {
   "cell_type": "code",
   "execution_count": null,
   "metadata": {
    "execution": {
     "iopub.execute_input": "2023-03-26T08:13:05.542744Z",
     "iopub.status.busy": "2023-03-26T08:13:05.542299Z",
     "iopub.status.idle": "2023-03-26T08:13:11.780994Z",
     "shell.execute_reply": "2023-03-26T08:13:11.779676Z",
     "shell.execute_reply.started": "2023-03-26T08:13:05.542704Z"
    }
   },
   "outputs": [],
   "source": [
    "model.evaluate(test_data,verbose=1) # verbose为0不显示提示"
   ]
  },
  {
   "cell_type": "code",
   "execution_count": null,
   "metadata": {
    "execution": {
     "iopub.execute_input": "2023-03-26T08:30:51.182650Z",
     "iopub.status.busy": "2023-03-26T08:30:51.182229Z",
     "iopub.status.idle": "2023-03-26T08:30:51.195308Z",
     "shell.execute_reply": "2023-03-26T08:30:51.193723Z",
     "shell.execute_reply.started": "2023-03-26T08:30:51.182610Z"
    }
   },
   "outputs": [],
   "source": [
    "my_image = load_and_preprocess_image(r'C:\\Users\\i80980\\Downloads\\863b601ff3d38ee259665b78dfc13d58.jpg')"
   ]
  },
  {
   "cell_type": "code",
   "execution_count": null,
   "metadata": {
    "execution": {
     "iopub.execute_input": "2023-03-26T08:30:51.398325Z",
     "iopub.status.busy": "2023-03-26T08:30:51.397852Z",
     "iopub.status.idle": "2023-03-26T08:30:51.406283Z",
     "shell.execute_reply": "2023-03-26T08:30:51.404807Z",
     "shell.execute_reply.started": "2023-03-26T08:30:51.398278Z"
    }
   },
   "outputs": [],
   "source": [
    "my_image.shape"
   ]
  },
  {
   "cell_type": "code",
   "execution_count": null,
   "metadata": {},
   "outputs": [],
   "source": []
  },
  {
   "cell_type": "code",
   "execution_count": null,
   "metadata": {
    "execution": {
     "iopub.execute_input": "2023-03-26T08:30:51.807552Z",
     "iopub.status.busy": "2023-03-26T08:30:51.807111Z",
     "iopub.status.idle": "2023-03-26T08:30:51.813368Z",
     "shell.execute_reply": "2023-03-26T08:30:51.811998Z",
     "shell.execute_reply.started": "2023-03-26T08:30:51.807512Z"
    }
   },
   "outputs": [],
   "source": [
    "#拓展成四维图片\n",
    "my_image = np.expand_dims(my_image, 0) #或者使用tf.expand_dims"
   ]
  },
  {
   "cell_type": "code",
   "execution_count": null,
   "metadata": {
    "execution": {
     "iopub.execute_input": "2023-03-26T08:30:52.016566Z",
     "iopub.status.busy": "2023-03-26T08:30:52.015836Z",
     "iopub.status.idle": "2023-03-26T08:30:52.025683Z",
     "shell.execute_reply": "2023-03-26T08:30:52.024135Z",
     "shell.execute_reply.started": "2023-03-26T08:30:52.016520Z"
    }
   },
   "outputs": [],
   "source": [
    "my_image.shape"
   ]
  },
  {
   "cell_type": "code",
   "execution_count": null,
   "metadata": {
    "execution": {
     "iopub.execute_input": "2023-03-26T08:30:52.230274Z",
     "iopub.status.busy": "2023-03-26T08:30:52.229458Z",
     "iopub.status.idle": "2023-03-26T08:30:52.348387Z",
     "shell.execute_reply": "2023-03-26T08:30:52.347029Z",
     "shell.execute_reply.started": "2023-03-26T08:30:52.230214Z"
    }
   },
   "outputs": [],
   "source": [
    "#使用模型对单张图片进行预测 #以下为预测的概率值\n",
    "pre = model.predict(my_image)\n",
    "pre"
   ]
  },
  {
   "cell_type": "code",
   "execution_count": null,
   "metadata": {},
   "outputs": [],
   "source": [
    "#model(my_image,training=False) #也可以直接调用model进行预测"
   ]
  },
  {
   "cell_type": "code",
   "execution_count": null,
   "metadata": {
    "execution": {
     "iopub.execute_input": "2023-03-26T08:30:52.413168Z",
     "iopub.status.busy": "2023-03-26T08:30:52.412701Z",
     "iopub.status.idle": "2023-03-26T08:30:52.421801Z",
     "shell.execute_reply": "2023-03-26T08:30:52.420293Z",
     "shell.execute_reply.started": "2023-03-26T08:30:52.413127Z"
    }
   },
   "outputs": [],
   "source": [
    "pre[0] #对第一个color的预测"
   ]
  },
  {
   "cell_type": "code",
   "execution_count": null,
   "metadata": {
    "execution": {
     "iopub.execute_input": "2023-03-26T08:30:52.644354Z",
     "iopub.status.busy": "2023-03-26T08:30:52.643011Z",
     "iopub.status.idle": "2023-03-26T08:30:52.649843Z",
     "shell.execute_reply": "2023-03-26T08:30:52.648560Z",
     "shell.execute_reply.started": "2023-03-26T08:30:52.644301Z"
    }
   },
   "outputs": [],
   "source": [
    "pre_color = index_to_color.get(np.argmax(pre[0][0]))"
   ]
  },
  {
   "cell_type": "code",
   "execution_count": null,
   "metadata": {
    "execution": {
     "iopub.execute_input": "2023-03-26T08:30:52.857748Z",
     "iopub.status.busy": "2023-03-26T08:30:52.857309Z",
     "iopub.status.idle": "2023-03-26T08:30:52.865888Z",
     "shell.execute_reply": "2023-03-26T08:30:52.864517Z",
     "shell.execute_reply.started": "2023-03-26T08:30:52.857708Z"
    }
   },
   "outputs": [],
   "source": [
    "pre_color"
   ]
  },
  {
   "cell_type": "code",
   "execution_count": null,
   "metadata": {
    "execution": {
     "iopub.execute_input": "2023-03-26T08:30:53.067373Z",
     "iopub.status.busy": "2023-03-26T08:30:53.066938Z",
     "iopub.status.idle": "2023-03-26T08:30:53.073816Z",
     "shell.execute_reply": "2023-03-26T08:30:53.072355Z",
     "shell.execute_reply.started": "2023-03-26T08:30:53.067333Z"
    }
   },
   "outputs": [],
   "source": [
    "pre_item = index_to_item.get(np.argmax(pre[1][0]))"
   ]
  },
  {
   "cell_type": "code",
   "execution_count": null,
   "metadata": {
    "execution": {
     "iopub.execute_input": "2023-03-26T08:30:53.494827Z",
     "iopub.status.busy": "2023-03-26T08:30:53.494412Z",
     "iopub.status.idle": "2023-03-26T08:30:53.503520Z",
     "shell.execute_reply": "2023-03-26T08:30:53.501982Z",
     "shell.execute_reply.started": "2023-03-26T08:30:53.494789Z"
    }
   },
   "outputs": [],
   "source": [
    "pre_item"
   ]
  },
  {
   "cell_type": "code",
   "execution_count": null,
   "metadata": {},
   "outputs": [],
   "source": [
    "pred = pre_color + '_' + pre_item\n",
    "pred"
   ]
  },
  {
   "cell_type": "code",
   "execution_count": null,
   "metadata": {
    "execution": {
     "iopub.execute_input": "2023-03-26T08:30:54.013301Z",
     "iopub.status.busy": "2023-03-26T08:30:54.012805Z",
     "iopub.status.idle": "2023-03-26T08:30:54.347609Z",
     "shell.execute_reply": "2023-03-26T08:30:54.345588Z",
     "shell.execute_reply.started": "2023-03-26T08:30:54.013259Z"
    }
   },
   "outputs": [],
   "source": [
    "plt.imshow((my_image[0] + 1)/2)\n",
    "plt.xlabel(pred)"
   ]
  },
  {
   "cell_type": "code",
   "execution_count": null,
   "metadata": {
    "scrolled": true
   },
   "outputs": [],
   "source": [
    "model(my_image)"
   ]
  },
  {
   "cell_type": "code",
   "execution_count": null,
   "metadata": {},
   "outputs": [],
   "source": [
    "json_config = model.to_json()"
   ]
  },
  {
   "cell_type": "code",
   "execution_count": null,
   "metadata": {},
   "outputs": [],
   "source": [
    "json_config"
   ]
  },
  {
   "cell_type": "code",
   "execution_count": null,
   "metadata": {},
   "outputs": [],
   "source": [
    "#重建模型"
   ]
  },
  {
   "cell_type": "code",
   "execution_count": null,
   "metadata": {},
   "outputs": [],
   "source": [
    "reinitialized_model = tf.keras.models.model_from_json(json_config)"
   ]
  },
  {
   "cell_type": "code",
   "execution_count": null,
   "metadata": {},
   "outputs": [],
   "source": [
    "reinitialized_model.summary()"
   ]
  },
  {
   "cell_type": "code",
   "execution_count": null,
   "metadata": {},
   "outputs": [],
   "source": [
    "reinitialized_model.compile(optimizer='adam',\n",
    "              loss={'out_color':'sparse_categorical_crossentropy',\n",
    "                    'out_item':'sparse_categorical_crossentropy'},#两个输出，loss赋值为字典,两个使用相同的loss可以只写一个\n",
    "              metrics=['acc']\n",
    "             )"
   ]
  },
  {
   "cell_type": "code",
   "execution_count": null,
   "metadata": {},
   "outputs": [],
   "source": [
    "reinitialized_model.evaluate(test_data,verbose=1)"
   ]
  },
  {
   "cell_type": "code",
   "execution_count": null,
   "metadata": {},
   "outputs": [],
   "source": [
    "#仅保存权重"
   ]
  },
  {
   "cell_type": "code",
   "execution_count": null,
   "metadata": {},
   "outputs": [],
   "source": [
    "weighs = model.get_weights()"
   ]
  },
  {
   "cell_type": "code",
   "execution_count": null,
   "metadata": {},
   "outputs": [],
   "source": [
    "weighs"
   ]
  },
  {
   "cell_type": "code",
   "execution_count": null,
   "metadata": {},
   "outputs": [],
   "source": [
    "reinitialized_model.set_weights(weighs)"
   ]
  },
  {
   "cell_type": "code",
   "execution_count": null,
   "metadata": {},
   "outputs": [],
   "source": [
    "reinitialized_model.evaluate(test_data,verbose=1)"
   ]
  },
  {
   "cell_type": "code",
   "execution_count": null,
   "metadata": {},
   "outputs": [],
   "source": [
    "#将权重保存到磁盘上"
   ]
  },
  {
   "cell_type": "code",
   "execution_count": null,
   "metadata": {},
   "outputs": [],
   "source": [
    "model.save_weights('less_weight.h5')"
   ]
  },
  {
   "cell_type": "code",
   "execution_count": null,
   "metadata": {},
   "outputs": [],
   "source": [
    "#从磁盘上加载权重\n",
    "reinitialized_model.load_weights('less_weight.h5')"
   ]
  },
  {
   "cell_type": "code",
   "execution_count": null,
   "metadata": {},
   "outputs": [],
   "source": [
    "#使用上面两个方法 并不等同于第一种方法，但仍然没有保存优化器的配置    "
   ]
  },
  {
   "cell_type": "code",
   "execution_count": null,
   "metadata": {},
   "outputs": [],
   "source": []
  },
  {
   "cell_type": "code",
   "execution_count": null,
   "metadata": {},
   "outputs": [],
   "source": [
    "checkpoint_path = 'training_cp/cp.ckpt' #保存检查点的路径"
   ]
  },
  {
   "cell_type": "code",
   "execution_count": null,
   "metadata": {},
   "outputs": [],
   "source": [
    "cp_callback = tf.keras.callbacks.ModelCheckpoint(checkpoint_path,\n",
    "                                                save_weights_only=True) #设置回调函数 只保存权重"
   ]
  },
  {
   "cell_type": "code",
   "execution_count": null,
   "metadata": {},
   "outputs": [],
   "source": []
  }
 ],
 "metadata": {
  "kernelspec": {
   "display_name": "Python 3 (ipykernel)",
   "language": "python",
   "name": "python3"
  },
  "language_info": {
   "codemirror_mode": {
    "name": "ipython",
    "version": 3
   },
   "file_extension": ".py",
   "mimetype": "text/x-python",
   "name": "python",
   "nbconvert_exporter": "python",
   "pygments_lexer": "ipython3",
   "version": "3.7.16"
  }
 },
 "nbformat": 4,
 "nbformat_minor": 4
}
