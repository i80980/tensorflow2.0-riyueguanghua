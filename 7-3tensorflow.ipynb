{
 "cells": [
  {
   "cell_type": "code",
   "execution_count": 1,
   "metadata": {
    "execution": {
     "iopub.execute_input": "2023-03-17T12:56:41.949856Z",
     "iopub.status.busy": "2023-03-17T12:56:41.949015Z",
     "iopub.status.idle": "2023-03-17T12:56:45.579198Z",
     "shell.execute_reply": "2023-03-17T12:56:45.577756Z",
     "shell.execute_reply.started": "2023-03-17T12:56:41.949807Z"
    }
   },
   "outputs": [],
   "source": [
    "import tensorflow as tf\n",
    "import datetime"
   ]
  },
  {
   "cell_type": "code",
   "execution_count": 2,
   "metadata": {
    "execution": {
     "iopub.execute_input": "2023-03-17T12:56:45.581715Z",
     "iopub.status.busy": "2023-03-17T12:56:45.580948Z",
     "iopub.status.idle": "2023-03-17T12:56:45.590932Z",
     "shell.execute_reply": "2023-03-17T12:56:45.589461Z",
     "shell.execute_reply.started": "2023-03-17T12:56:45.581671Z"
    }
   },
   "outputs": [
    {
     "data": {
      "text/plain": [
       "'2.0.0'"
      ]
     },
     "execution_count": 2,
     "metadata": {},
     "output_type": "execute_result"
    }
   ],
   "source": [
    "tf.__version__"
   ]
  },
  {
   "cell_type": "code",
   "execution_count": 3,
   "metadata": {
    "execution": {
     "iopub.execute_input": "2023-03-17T12:56:45.888995Z",
     "iopub.status.busy": "2023-03-17T12:56:45.888513Z",
     "iopub.status.idle": "2023-03-17T12:56:46.227156Z",
     "shell.execute_reply": "2023-03-17T12:56:46.226055Z",
     "shell.execute_reply.started": "2023-03-17T12:56:45.888946Z"
    }
   },
   "outputs": [],
   "source": [
    "(train_image, train_labels),(test_image, test_labels) = tf.keras.datasets.mnist.load_data()  #mnist数据集中第二个是test数据集，用不着所以使用占位符"
   ]
  },
  {
   "cell_type": "code",
   "execution_count": 4,
   "metadata": {
    "execution": {
     "iopub.execute_input": "2023-03-17T12:56:46.229578Z",
     "iopub.status.busy": "2023-03-17T12:56:46.228525Z",
     "iopub.status.idle": "2023-03-17T12:56:46.236140Z",
     "shell.execute_reply": "2023-03-17T12:56:46.235118Z",
     "shell.execute_reply.started": "2023-03-17T12:56:46.229532Z"
    }
   },
   "outputs": [
    {
     "data": {
      "text/plain": [
       "(60000, 28, 28)"
      ]
     },
     "execution_count": 4,
     "metadata": {},
     "output_type": "execute_result"
    }
   ],
   "source": [
    "train_image.shape"
   ]
  },
  {
   "cell_type": "code",
   "execution_count": 5,
   "metadata": {
    "execution": {
     "iopub.execute_input": "2023-03-17T12:56:46.238108Z",
     "iopub.status.busy": "2023-03-17T12:56:46.237422Z",
     "iopub.status.idle": "2023-03-17T12:56:46.247585Z",
     "shell.execute_reply": "2023-03-17T12:56:46.246527Z",
     "shell.execute_reply.started": "2023-03-17T12:56:46.238063Z"
    }
   },
   "outputs": [
    {
     "data": {
      "text/plain": [
       "array([5, 0, 4, ..., 5, 6, 8], dtype=uint8)"
      ]
     },
     "execution_count": 5,
     "metadata": {},
     "output_type": "execute_result"
    }
   ],
   "source": [
    "train_labels"
   ]
  },
  {
   "cell_type": "code",
   "execution_count": 6,
   "metadata": {
    "execution": {
     "iopub.execute_input": "2023-03-17T12:56:46.249384Z",
     "iopub.status.busy": "2023-03-17T12:56:46.249046Z",
     "iopub.status.idle": "2023-03-17T12:56:46.260403Z",
     "shell.execute_reply": "2023-03-17T12:56:46.259109Z",
     "shell.execute_reply.started": "2023-03-17T12:56:46.249353Z"
    }
   },
   "outputs": [
    {
     "data": {
      "text/plain": [
       "(60000, 28, 28)"
      ]
     },
     "execution_count": 6,
     "metadata": {},
     "output_type": "execute_result"
    }
   ],
   "source": [
    "train_image.shape"
   ]
  },
  {
   "cell_type": "code",
   "execution_count": 7,
   "metadata": {
    "execution": {
     "iopub.execute_input": "2023-03-17T12:56:46.263184Z",
     "iopub.status.busy": "2023-03-17T12:56:46.261985Z",
     "iopub.status.idle": "2023-03-17T12:56:46.321067Z",
     "shell.execute_reply": "2023-03-17T12:56:46.319701Z",
     "shell.execute_reply.started": "2023-03-17T12:56:46.263143Z"
    }
   },
   "outputs": [],
   "source": [
    "train_image = tf.expand_dims(train_image,-1)#扩展维度其他方法:1. tf.newx 2. napy里的reshape\n",
    "test_image = tf.expand_dims(test_image,-1)"
   ]
  },
  {
   "cell_type": "code",
   "execution_count": 8,
   "metadata": {
    "execution": {
     "iopub.execute_input": "2023-03-17T12:56:46.323777Z",
     "iopub.status.busy": "2023-03-17T12:56:46.323318Z",
     "iopub.status.idle": "2023-03-17T12:56:46.332158Z",
     "shell.execute_reply": "2023-03-17T12:56:46.331002Z",
     "shell.execute_reply.started": "2023-03-17T12:56:46.323693Z"
    }
   },
   "outputs": [
    {
     "data": {
      "text/plain": [
       "TensorShape([60000, 28, 28, 1])"
      ]
     },
     "execution_count": 8,
     "metadata": {},
     "output_type": "execute_result"
    }
   ],
   "source": [
    "train_image.shape"
   ]
  },
  {
   "cell_type": "code",
   "execution_count": 9,
   "metadata": {
    "execution": {
     "iopub.execute_input": "2023-03-17T12:56:46.334715Z",
     "iopub.status.busy": "2023-03-17T12:56:46.333717Z",
     "iopub.status.idle": "2023-03-17T12:56:46.478645Z",
     "shell.execute_reply": "2023-03-17T12:56:46.477283Z",
     "shell.execute_reply.started": "2023-03-17T12:56:46.334664Z"
    }
   },
   "outputs": [],
   "source": [
    "train_image = tf.cast(train_image/255, tf.float32)#归一化，转换数据类型\n",
    "test_image = tf.cast(test_image/255, tf.float32)#归一化，转换数据类型"
   ]
  },
  {
   "cell_type": "code",
   "execution_count": 10,
   "metadata": {
    "execution": {
     "iopub.execute_input": "2023-03-17T12:56:46.480484Z",
     "iopub.status.busy": "2023-03-17T12:56:46.480129Z",
     "iopub.status.idle": "2023-03-17T12:56:46.487017Z",
     "shell.execute_reply": "2023-03-17T12:56:46.485615Z",
     "shell.execute_reply.started": "2023-03-17T12:56:46.480450Z"
    }
   },
   "outputs": [],
   "source": [
    "train_labels = tf.cast(train_labels, tf.int64)#转换数据类型\n",
    "test_labels = tf.cast(test_labels, tf.int64)"
   ]
  },
  {
   "cell_type": "code",
   "execution_count": 11,
   "metadata": {
    "execution": {
     "iopub.execute_input": "2023-03-17T12:56:46.490271Z",
     "iopub.status.busy": "2023-03-17T12:56:46.488608Z",
     "iopub.status.idle": "2023-03-17T12:56:46.502907Z",
     "shell.execute_reply": "2023-03-17T12:56:46.501390Z",
     "shell.execute_reply.started": "2023-03-17T12:56:46.490209Z"
    }
   },
   "outputs": [],
   "source": [
    "dataset = tf.data.Dataset.from_tensor_slices((train_image, train_labels))#扩展维度"
   ]
  },
  {
   "cell_type": "code",
   "execution_count": 12,
   "metadata": {},
   "outputs": [],
   "source": [
    "test_dataset = tf.data.Dataset.from_tensor_slices((test_image, test_labels))#扩展维度"
   ]
  },
  {
   "cell_type": "code",
   "execution_count": 13,
   "metadata": {
    "execution": {
     "iopub.execute_input": "2023-03-17T12:56:46.505431Z",
     "iopub.status.busy": "2023-03-17T12:56:46.504905Z",
     "iopub.status.idle": "2023-03-17T12:56:46.513737Z",
     "shell.execute_reply": "2023-03-17T12:56:46.512423Z",
     "shell.execute_reply.started": "2023-03-17T12:56:46.505381Z"
    }
   },
   "outputs": [
    {
     "data": {
      "text/plain": [
       "<TensorSliceDataset shapes: ((28, 28, 1), ()), types: (tf.float32, tf.int64)>"
      ]
     },
     "execution_count": 13,
     "metadata": {},
     "output_type": "execute_result"
    }
   ],
   "source": [
    "dataset"
   ]
  },
  {
   "cell_type": "code",
   "execution_count": 14,
   "metadata": {
    "execution": {
     "iopub.execute_input": "2023-03-17T12:56:46.516327Z",
     "iopub.status.busy": "2023-03-17T12:56:46.515648Z",
     "iopub.status.idle": "2023-03-17T12:56:46.530981Z",
     "shell.execute_reply": "2023-03-17T12:56:46.529424Z",
     "shell.execute_reply.started": "2023-03-17T12:56:46.516274Z"
    }
   },
   "outputs": [],
   "source": [
    "dataset = dataset.shuffle(10000).batch(32)\n",
    "test_dataset = test_dataset.batch(32)"
   ]
  },
  {
   "cell_type": "code",
   "execution_count": 15,
   "metadata": {
    "execution": {
     "iopub.execute_input": "2023-03-17T12:56:46.533112Z",
     "iopub.status.busy": "2023-03-17T12:56:46.532374Z",
     "iopub.status.idle": "2023-03-17T12:56:46.539176Z",
     "shell.execute_reply": "2023-03-17T12:56:46.538094Z",
     "shell.execute_reply.started": "2023-03-17T12:56:46.533074Z"
    }
   },
   "outputs": [
    {
     "data": {
      "text/plain": [
       "<BatchDataset shapes: ((None, 28, 28, 1), (None,)), types: (tf.float32, tf.int64)>"
      ]
     },
     "execution_count": 15,
     "metadata": {},
     "output_type": "execute_result"
    }
   ],
   "source": [
    "dataset"
   ]
  },
  {
   "cell_type": "code",
   "execution_count": 16,
   "metadata": {
    "execution": {
     "iopub.execute_input": "2023-03-17T12:56:46.541426Z",
     "iopub.status.busy": "2023-03-17T12:56:46.540536Z",
     "iopub.status.idle": "2023-03-17T12:56:46.550370Z",
     "shell.execute_reply": "2023-03-17T12:56:46.549471Z",
     "shell.execute_reply.started": "2023-03-17T12:56:46.541389Z"
    }
   },
   "outputs": [],
   "source": [
    "#7.5 第五节"
   ]
  },
  {
   "cell_type": "code",
   "execution_count": 17,
   "metadata": {
    "execution": {
     "iopub.execute_input": "2023-03-17T12:56:46.552193Z",
     "iopub.status.busy": "2023-03-17T12:56:46.551653Z",
     "iopub.status.idle": "2023-03-17T12:56:46.637778Z",
     "shell.execute_reply": "2023-03-17T12:56:46.636527Z",
     "shell.execute_reply.started": "2023-03-17T12:56:46.552160Z"
    }
   },
   "outputs": [],
   "source": [
    "model = tf.keras.Sequential([\n",
    "    tf.keras.layers.Conv2D(16, [3,3],activation='relu',input_shape=(None,None,1)),\n",
    "    tf.keras.layers.Conv2D(32,[3,3], activation='relu'),\n",
    "    tf.keras.layers.GlobalMaxPooling2D(),#全局平均池化\n",
    "    tf.keras.layers.Dense(10,activation='softmax')#这里不需要softmax的激活方式，softmax只是把值归一化\n",
    "])"
   ]
  },
  {
   "cell_type": "code",
   "execution_count": 18,
   "metadata": {
    "execution": {
     "iopub.execute_input": "2023-03-17T12:56:46.648283Z",
     "iopub.status.busy": "2023-03-17T12:56:46.647564Z",
     "iopub.status.idle": "2023-03-17T12:56:46.653334Z",
     "shell.execute_reply": "2023-03-17T12:56:46.651860Z",
     "shell.execute_reply.started": "2023-03-17T12:56:46.648235Z"
    }
   },
   "outputs": [],
   "source": [
    "#因为我们要自定义循环，不需要编译模型"
   ]
  },
  {
   "cell_type": "code",
   "execution_count": 19,
   "metadata": {
    "execution": {
     "iopub.execute_input": "2023-03-17T12:56:46.655461Z",
     "iopub.status.busy": "2023-03-17T12:56:46.655111Z",
     "iopub.status.idle": "2023-03-17T12:56:46.666468Z",
     "shell.execute_reply": "2023-03-17T12:56:46.665211Z",
     "shell.execute_reply.started": "2023-03-17T12:56:46.655426Z"
    }
   },
   "outputs": [],
   "source": [
    "#定义优化函数\n",
    "optimizer = tf.keras.optimizers.Adam()"
   ]
  },
  {
   "cell_type": "code",
   "execution_count": 20,
   "metadata": {
    "execution": {
     "iopub.execute_input": "2023-03-17T12:56:46.668841Z",
     "iopub.status.busy": "2023-03-17T12:56:46.668138Z",
     "iopub.status.idle": "2023-03-17T12:56:46.676391Z",
     "shell.execute_reply": "2023-03-17T12:56:46.674830Z",
     "shell.execute_reply.started": "2023-03-17T12:56:46.668791Z"
    }
   },
   "outputs": [],
   "source": [
    "loss_func = tf.keras.losses.SparseCategoricalCrossentropy() #大写的是可调用的方法 模型没有激活，所以传递参数from_logits=True"
   ]
  },
  {
   "cell_type": "code",
   "execution_count": 21,
   "metadata": {
    "execution": {
     "iopub.execute_input": "2023-03-17T12:56:47.058465Z",
     "iopub.status.busy": "2023-03-17T12:56:47.057737Z",
     "iopub.status.idle": "2023-03-17T12:56:47.066363Z",
     "shell.execute_reply": "2023-03-17T12:56:47.064972Z",
     "shell.execute_reply.started": "2023-03-17T12:56:47.058425Z"
    }
   },
   "outputs": [],
   "source": [
    "def loss(model, x, y):\n",
    "    y_ = model(x) #y是实际的label y_是预测的label\n",
    "    return loss_func(y, y_)    #建立损失函数"
   ]
  },
  {
   "cell_type": "code",
   "execution_count": null,
   "metadata": {},
   "outputs": [],
   "source": []
  },
  {
   "cell_type": "code",
   "execution_count": 22,
   "metadata": {},
   "outputs": [],
   "source": [
    "train_loss = tf.keras.metrics.Mean('train_loss')\n",
    "train_accuracy = tf.keras.metrics.SparseCategoricalAccuracy('train_accuracy') #初始化计算对象"
   ]
  },
  {
   "cell_type": "code",
   "execution_count": 23,
   "metadata": {},
   "outputs": [],
   "source": [
    "test_loss = tf.keras.metrics.Mean('test_loss')\n",
    "test_accuracy = tf.keras.metrics.SparseCategoricalAccuracy('test_accuracy') #初始化计算对象"
   ]
  },
  {
   "cell_type": "code",
   "execution_count": 24,
   "metadata": {},
   "outputs": [],
   "source": [
    "def train_step(model,images, labels):\n",
    "    #计算梯度 计算损失函数与可model的变量训练参数的梯度\n",
    "    with tf.GradientTape() as t:\n",
    "        pred = model(images)\n",
    "        loss_step = loss_func(labels, pred)\n",
    "    grads = t.gradient(loss_step, model.trainable_variables)  # 计算损失函数与可model的变量训练参数的梯度\n",
    "    optimizer.apply_gradients(zip(grads, model.trainable_variables)) #优化 改变可训练参数变量的值\n",
    "    train_loss(loss_step)\n",
    "    train_accuracy(labels, pred)"
   ]
  },
  {
   "cell_type": "code",
   "execution_count": 25,
   "metadata": {},
   "outputs": [],
   "source": [
    "def test_step(model, images, labels):\n",
    "        pred = model(images)\n",
    "        loss_step = loss_func(labels, pred)\n",
    "        test_loss(loss_step)\n",
    "        test_accuracy(labels, pred)"
   ]
  },
  {
   "cell_type": "code",
   "execution_count": null,
   "metadata": {},
   "outputs": [],
   "source": []
  },
  {
   "cell_type": "code",
   "execution_count": 26,
   "metadata": {},
   "outputs": [],
   "source": [
    "current_time = datetime.datetime.now().strftime(\"%Y%m%d-%H%M%S\") #名称为时间的目录"
   ]
  },
  {
   "cell_type": "code",
   "execution_count": 27,
   "metadata": {},
   "outputs": [],
   "source": [
    "train_log_dir = 'logs/gradient_tape' + current_time + '/train'\n",
    "test_log_dir = 'logs/gradient_tape' + current_time + '/test'\n",
    "train_writer = tf.summary.create_file_writer(train_log_dir)\n",
    "test_writer = tf.summary.create_file_writer(test_log_dir)"
   ]
  },
  {
   "cell_type": "code",
   "execution_count": null,
   "metadata": {},
   "outputs": [],
   "source": []
  },
  {
   "cell_type": "code",
   "execution_count": 29,
   "metadata": {
    "execution": {
     "iopub.execute_input": "2023-03-17T12:56:47.088816Z",
     "iopub.status.busy": "2023-03-17T12:56:47.087736Z",
     "iopub.status.idle": "2023-03-17T12:56:47.099286Z",
     "shell.execute_reply": "2023-03-17T12:56:47.097843Z",
     "shell.execute_reply.started": "2023-03-17T12:56:47.088742Z"
    }
   },
   "outputs": [],
   "source": [
    "def train():\n",
    "    for epoch in range(10):\n",
    "        for (batch, (images, labels)) in enumerate(dataset):\n",
    "            train_step(model, images, labels)\n",
    "        with train_writer.as_default():\n",
    "            tf.summary.scalar('loss', train_loss.result(), step = epoch)\n",
    "            tf.summary.scalar('acc', train_accuracy.result(), step = epoch)\n",
    "        print('Epoch{} loss is {}, accuracy is {}'.format(epoch,\n",
    "                                                         train_loss.result(),\n",
    "                                                         train_accuracy.result()))\n",
    "        \n",
    "        for (batch, (images, labels)) in enumerate(test_dataset):\n",
    "            test_step(model, images, labels)\n",
    "        with test_writer.as_default():\n",
    "            tf.summary.scalar('loss', test_loss.result(), step = epoch)\n",
    "            tf.summary.scalar('acc', test_accuracy.result(), step = epoch)\n",
    "        print('Epoch{} test_loss is {}, test_accuracy is {}'.format(epoch,\n",
    "                                                         test_loss.result(),\n",
    "                                                         test_accuracy.result()))    \n",
    "        \n",
    "        \n",
    "        train_loss.reset_states() #重置对象\n",
    "        train_accuracy.reset_states()\n",
    "        \n",
    "        test_loss.reset_states() #重置对象\n",
    "        test_accuracy.reset_states()"
   ]
  },
  {
   "cell_type": "code",
   "execution_count": 30,
   "metadata": {
    "execution": {
     "iopub.execute_input": "2023-03-17T12:56:47.101716Z",
     "iopub.status.busy": "2023-03-17T12:56:47.101090Z",
     "iopub.status.idle": "2023-03-17T13:14:13.532577Z",
     "shell.execute_reply": "2023-03-17T13:14:13.530362Z",
     "shell.execute_reply.started": "2023-03-17T12:56:47.101674Z"
    }
   },
   "outputs": [
    {
     "name": "stdout",
     "output_type": "stream",
     "text": [
      "Epoch0 loss is 0.8024818301200867, accuracy is 0.7539499998092651\n",
      "Epoch0 test_loss is 0.35624372959136963, test_accuracy is 0.8888000249862671\n",
      "Epoch1 loss is 0.33778735995292664, accuracy is 0.8934166431427002\n",
      "Epoch1 test_loss is 0.27743351459503174, test_accuracy is 0.9136000275611877\n",
      "Epoch2 loss is 0.2772001326084137, accuracy is 0.9131166934967041\n",
      "Epoch2 test_loss is 0.2523631155490875, test_accuracy is 0.9207000136375427\n",
      "Epoch3 loss is 0.2472366988658905, accuracy is 0.9207000136375427\n",
      "Epoch3 test_loss is 0.2194492220878601, test_accuracy is 0.9322999715805054\n",
      "Epoch4 loss is 0.22750599682331085, accuracy is 0.9272333383560181\n",
      "Epoch4 test_loss is 0.2222587615251541, test_accuracy is 0.9294000267982483\n",
      "Epoch5 loss is 0.2144065499305725, accuracy is 0.9310666918754578\n",
      "Epoch5 test_loss is 0.2003791183233261, test_accuracy is 0.9379000067710876\n",
      "Epoch6 loss is 0.20544786751270294, accuracy is 0.9344333410263062\n",
      "Epoch6 test_loss is 0.1903553009033203, test_accuracy is 0.9419000148773193\n",
      "Epoch7 loss is 0.19617034494876862, accuracy is 0.9377833604812622\n",
      "Epoch7 test_loss is 0.1776222586631775, test_accuracy is 0.945900022983551\n",
      "Epoch8 loss is 0.18755313754081726, accuracy is 0.9397833347320557\n",
      "Epoch8 test_loss is 0.18747584521770477, test_accuracy is 0.9415000081062317\n",
      "Epoch9 loss is 0.18108782172203064, accuracy is 0.9422666430473328\n",
      "Epoch9 test_loss is 0.18872696161270142, test_accuracy is 0.9405999779701233\n"
     ]
    }
   ],
   "source": [
    "train()"
   ]
  },
  {
   "cell_type": "code",
   "execution_count": 31,
   "metadata": {},
   "outputs": [],
   "source": [
    "%load_ext tensorboard\n",
    "%matplotlib inline"
   ]
  },
  {
   "cell_type": "code",
   "execution_count": 32,
   "metadata": {},
   "outputs": [
    {
     "data": {
      "text/plain": [
       "Reusing TensorBoard on port 6006 (pid 3784), started 19:01:24 ago. (Use '!kill 3784' to kill it.)"
      ]
     },
     "metadata": {},
     "output_type": "display_data"
    },
    {
     "data": {
      "text/html": [
       "\n",
       "      <iframe id=\"tensorboard-frame-a698d5d71f84462f\" width=\"100%\" height=\"800\" frameborder=\"0\">\n",
       "      </iframe>\n",
       "      <script>\n",
       "        (function() {\n",
       "          const frame = document.getElementById(\"tensorboard-frame-a698d5d71f84462f\");\n",
       "          const url = new URL(\"/\", window.location);\n",
       "          const port = 6006;\n",
       "          if (port) {\n",
       "            url.port = port;\n",
       "          }\n",
       "          frame.src = url;\n",
       "        })();\n",
       "      </script>\n",
       "    "
      ],
      "text/plain": [
       "<IPython.core.display.HTML object>"
      ]
     },
     "metadata": {},
     "output_type": "display_data"
    }
   ],
   "source": [
    "%tensorboard --logdir logs"
   ]
  },
  {
   "cell_type": "code",
   "execution_count": null,
   "metadata": {},
   "outputs": [],
   "source": []
  }
 ],
 "metadata": {
  "kernelspec": {
   "display_name": "Python 3 (ipykernel)",
   "language": "python",
   "name": "python3"
  },
  "language_info": {
   "codemirror_mode": {
    "name": "ipython",
    "version": 3
   },
   "file_extension": ".py",
   "mimetype": "text/x-python",
   "name": "python",
   "nbconvert_exporter": "python",
   "pygments_lexer": "ipython3",
   "version": "3.7.16"
  }
 },
 "nbformat": 4,
 "nbformat_minor": 4
}
