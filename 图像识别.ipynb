{
 "cells": [
  {
   "cell_type": "code",
   "execution_count": 2,
   "id": "098d8484",
   "metadata": {},
   "outputs": [],
   "source": [
    "import tensorflow as tf\n",
    "from tensorflow import keras\n",
    "from tensorflow.keras import layers\n",
    "import numpy as np\n",
    "import glob"
   ]
  },
  {
   "cell_type": "code",
   "execution_count": 3,
   "id": "6542225e",
   "metadata": {},
   "outputs": [
    {
     "data": {
      "text/plain": [
       "'2.0.0'"
      ]
     },
     "execution_count": 3,
     "metadata": {},
     "output_type": "execute_result"
    }
   ],
   "source": [
    "tf.__version__"
   ]
  },
  {
   "cell_type": "code",
   "execution_count": 4,
   "id": "184b24fb",
   "metadata": {},
   "outputs": [],
   "source": [
    "image_filenames = glob.glob('./dc/train/*.jpg') #提取路径"
   ]
  },
  {
   "cell_type": "code",
   "execution_count": 5,
   "id": "5210eda0",
   "metadata": {},
   "outputs": [],
   "source": [
    "image_filenames = np.random.permutation(image_filenames) #对路径进行乱序"
   ]
  },
  {
   "cell_type": "code",
   "execution_count": 6,
   "id": "a46461c4",
   "metadata": {},
   "outputs": [
    {
     "data": {
      "text/plain": [
       "array(['./dc/train\\\\cat.7264.jpg', './dc/train\\\\dog.3809.jpg',\n",
       "       './dc/train\\\\cat.2781.jpg', ..., './dc/train\\\\cat.6730.jpg',\n",
       "       './dc/train\\\\cat.6858.jpg', './dc/train\\\\cat.12073.jpg'],\n",
       "      dtype='<U24')"
      ]
     },
     "execution_count": 6,
     "metadata": {},
     "output_type": "execute_result"
    }
   ],
   "source": [
    "image_filenames"
   ]
  },
  {
   "cell_type": "code",
   "execution_count": 5,
   "id": "4091a6eb",
   "metadata": {},
   "outputs": [],
   "source": [
    "lables = list(map(lambda x: float(x.split('\\\\')[1].split('.')[0] == 'cat'), image_filenames))\n",
    "#提取对应的lable"
   ]
  },
  {
   "cell_type": "code",
   "execution_count": 6,
   "id": "f375038c",
   "metadata": {},
   "outputs": [],
   "source": [
    "dataset = tf.data.Dataset.from_tensor_slices((image_filenames, lables))"
   ]
  },
  {
   "cell_type": "code",
   "execution_count": 7,
   "id": "3c90a50a",
   "metadata": {},
   "outputs": [
    {
     "data": {
      "text/plain": [
       "<TensorSliceDataset shapes: ((), ()), types: (tf.string, tf.float32)>"
      ]
     },
     "execution_count": 7,
     "metadata": {},
     "output_type": "execute_result"
    }
   ],
   "source": [
    "dataset"
   ]
  },
  {
   "cell_type": "code",
   "execution_count": 8,
   "id": "cce44042",
   "metadata": {},
   "outputs": [],
   "source": [
    "#定义一个函数处理图片\n",
    "def _pre_read(img_filename, lable):\n",
    "    image = tf.io.read_file(img_filename) #加载图片\n",
    "    image = tf.image.decode_jpeg(image, channels=3) #解码\n",
    "    image = tf.image.resize(image, (200, 200))#统一定义大小200*200\n",
    "    image = tf.reshape(image, [200,200,3]) \n",
    "    image = tf.image.per_image_standardization(image) #图片数据标准化\n",
    "    return image, lable"
   ]
  },
  {
   "cell_type": "code",
   "execution_count": 9,
   "id": "e16010c0",
   "metadata": {},
   "outputs": [
    {
     "name": "stdout",
     "output_type": "stream",
     "text": [
      "WARNING:tensorflow:From D:\\soft\\Anaconda\\envs\\python37\\lib\\site-packages\\tensorflow_core\\python\\ops\\image_ops_impl.py:1518: div (from tensorflow.python.ops.math_ops) is deprecated and will be removed in a future version.\n",
      "Instructions for updating:\n",
      "Deprecated in favor of operator or tf.math.divide.\n"
     ]
    }
   ],
   "source": [
    "dataset = dataset.map(_pre_read) #转换"
   ]
  },
  {
   "cell_type": "code",
   "execution_count": 10,
   "id": "7c760e4f",
   "metadata": {},
   "outputs": [],
   "source": [
    "dataset = dataset.shuffle(300)"
   ]
  },
  {
   "cell_type": "code",
   "execution_count": 11,
   "id": "6c07cad9",
   "metadata": {},
   "outputs": [],
   "source": [
    "dataset = dataset.repeat()"
   ]
  },
  {
   "cell_type": "code",
   "execution_count": 12,
   "id": "ceaf12c8",
   "metadata": {},
   "outputs": [],
   "source": [
    "dataset = dataset.batch(32)"
   ]
  },
  {
   "cell_type": "code",
   "execution_count": 13,
   "id": "d0b602d4",
   "metadata": {},
   "outputs": [
    {
     "data": {
      "text/plain": [
       "<BatchDataset shapes: ((None, 200, 200, 3), (None,)), types: (tf.float32, tf.float32)>"
      ]
     },
     "execution_count": 13,
     "metadata": {},
     "output_type": "execute_result"
    }
   ],
   "source": [
    "dataset"
   ]
  },
  {
   "cell_type": "code",
   "execution_count": 14,
   "id": "8905039d",
   "metadata": {},
   "outputs": [],
   "source": [
    "model = keras.Sequential()"
   ]
  },
  {
   "cell_type": "code",
   "execution_count": 15,
   "id": "d2b2d2e0",
   "metadata": {},
   "outputs": [],
   "source": [
    "model.add(layers.Conv2D(64, (3, 3), activation='relu', input_shape=(200, 200, 3)))"
   ]
  },
  {
   "cell_type": "code",
   "execution_count": 16,
   "id": "1139bdc3",
   "metadata": {},
   "outputs": [],
   "source": [
    "model.add(layers.MaxPooling2D((2, 2))) # 默认参数是2*2，会将图片缩小为原来的一半"
   ]
  },
  {
   "cell_type": "code",
   "execution_count": 17,
   "id": "04c175ea",
   "metadata": {},
   "outputs": [],
   "source": [
    "model.add(layers.Conv2D(64, (3, 3), activation='relu'))"
   ]
  },
  {
   "cell_type": "code",
   "execution_count": 18,
   "id": "9ed96a9d",
   "metadata": {},
   "outputs": [],
   "source": [
    "model.add(layers.MaxPooling2D((2, 2)))"
   ]
  },
  {
   "cell_type": "code",
   "execution_count": 19,
   "id": "fd457b3c",
   "metadata": {},
   "outputs": [],
   "source": [
    "model.add(layers.Conv2D(64, (3, 3), activation='relu'))"
   ]
  },
  {
   "cell_type": "code",
   "execution_count": 20,
   "id": "e71b87c5",
   "metadata": {},
   "outputs": [],
   "source": [
    "model.add(layers.MaxPooling2D((2, 2)))"
   ]
  },
  {
   "cell_type": "code",
   "execution_count": 21,
   "id": "c8193450",
   "metadata": {},
   "outputs": [],
   "source": [
    "model.add(layers.Flatten())"
   ]
  },
  {
   "cell_type": "code",
   "execution_count": 22,
   "id": "5f81d880",
   "metadata": {},
   "outputs": [],
   "source": [
    "model.add(layers.Dense(64, activation='relu'))"
   ]
  },
  {
   "cell_type": "code",
   "execution_count": 23,
   "id": "dd59df09",
   "metadata": {},
   "outputs": [],
   "source": [
    "model.add(layers.Dense(1, activation='sigmoid'))"
   ]
  },
  {
   "cell_type": "code",
   "execution_count": 24,
   "id": "31a8dedd",
   "metadata": {},
   "outputs": [
    {
     "name": "stdout",
     "output_type": "stream",
     "text": [
      "Model: \"sequential\"\n",
      "_________________________________________________________________\n",
      "Layer (type)                 Output Shape              Param #   \n",
      "=================================================================\n",
      "conv2d (Conv2D)              (None, 198, 198, 64)      1792      \n",
      "_________________________________________________________________\n",
      "max_pooling2d (MaxPooling2D) (None, 99, 99, 64)        0         \n",
      "_________________________________________________________________\n",
      "conv2d_1 (Conv2D)            (None, 97, 97, 64)        36928     \n",
      "_________________________________________________________________\n",
      "max_pooling2d_1 (MaxPooling2 (None, 48, 48, 64)        0         \n",
      "_________________________________________________________________\n",
      "conv2d_2 (Conv2D)            (None, 46, 46, 64)        36928     \n",
      "_________________________________________________________________\n",
      "max_pooling2d_2 (MaxPooling2 (None, 23, 23, 64)        0         \n",
      "_________________________________________________________________\n",
      "flatten (Flatten)            (None, 33856)             0         \n",
      "_________________________________________________________________\n",
      "dense (Dense)                (None, 64)                2166848   \n",
      "_________________________________________________________________\n",
      "dense_1 (Dense)              (None, 1)                 65        \n",
      "=================================================================\n",
      "Total params: 2,242,561\n",
      "Trainable params: 2,242,561\n",
      "Non-trainable params: 0\n",
      "_________________________________________________________________\n"
     ]
    }
   ],
   "source": [
    "model.summary()"
   ]
  },
  {
   "cell_type": "code",
   "execution_count": 25,
   "id": "c5df57e9",
   "metadata": {},
   "outputs": [],
   "source": [
    "#第四节 6.4"
   ]
  },
  {
   "cell_type": "code",
   "execution_count": 26,
   "id": "6ec23151",
   "metadata": {},
   "outputs": [],
   "source": [
    "model.compile(optimizer='adam',\n",
    "              loss='binary_crossentropy',\n",
    "              metrics=['acc'] #metrics可以监控很多指标，这里监控的是acc\n",
    ")"
   ]
  },
  {
   "cell_type": "code",
   "execution_count": null,
   "id": "c4d348f9",
   "metadata": {},
   "outputs": [
    {
     "name": "stdout",
     "output_type": "stream",
     "text": [
      "Train for 781 steps\n",
      "Epoch 1/10\n",
      "781/781 [==============================] - 1263s 2s/step - loss: 0.5798 - acc: 0.6847\n",
      "Epoch 2/10\n",
      "781/781 [==============================] - 1227s 2s/step - loss: 0.4327 - acc: 0.7964\n",
      "Epoch 3/10\n",
      "781/781 [==============================] - 1508s 2s/step - loss: 0.3400 - acc: 0.8477\n",
      "Epoch 4/10\n",
      "781/781 [==============================] - 966s 1s/step - loss: 0.2369 - acc: 0.8999\n",
      "Epoch 5/10\n",
      "368/781 [=============>................] - ETA: 8:29 - loss: 0.1643 - acc: 0.9332"
     ]
    }
   ],
   "source": [
    "history = model.fit(dataset, epochs=10, steps_per_epoch=781) #因为前面对dataset进行了repeat，所以这里需要设置steps_per_epoch参数（len(image_filenames)/batch）"
   ]
  },
  {
   "cell_type": "code",
   "execution_count": null,
   "id": "f17bebb3",
   "metadata": {},
   "outputs": [],
   "source": []
  }
 ],
 "metadata": {
  "kernelspec": {
   "display_name": "Python 3 (ipykernel)",
   "language": "python",
   "name": "python3"
  },
  "language_info": {
   "codemirror_mode": {
    "name": "ipython",
    "version": 3
   },
   "file_extension": ".py",
   "mimetype": "text/x-python",
   "name": "python",
   "nbconvert_exporter": "python",
   "pygments_lexer": "ipython3",
   "version": "3.7.16"
  }
 },
 "nbformat": 4,
 "nbformat_minor": 5
}
